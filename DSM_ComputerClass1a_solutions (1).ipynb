{
 "cells": [
  {
   "cell_type": "markdown",
   "metadata": {},
   "source": [
    "# Computer Class 1a - basic Python and NumPy\n",
    "\n",
    "The examples and exercises of this computer class introduce the student to working with the Python Standard Library and the NumPy library. It can be used in conjunction with chapters 1-4 of the McKinney book.\n",
    "\n",
    "*Authors: Cees Diks and Bram Wouters, Faculty Economics and Business, University of Amsterdam (UvA)* <br>\n",
    "*Copyright (C): UvA (2020)* <br>\n",
    "*Credits: some of the examples and formulations are taken from McKinney and/or the material of the Computational Finance course by Simon Broda (UvA)*"
   ]
  },
  {
   "cell_type": "markdown",
   "metadata": {},
   "source": [
    "# 1. Basics"
   ]
  },
  {
   "cell_type": "markdown",
   "metadata": {
    "slideshow": {
     "slide_type": "slide"
    }
   },
   "source": [
    "## Arithmetic\n",
    "The basic arithmetic operations are `+`, `-`, `*`, `/`, and `**` for exponentiation:"
   ]
  },
  {
   "cell_type": "markdown",
   "metadata": {},
   "source": [
    "**Exercise 1:** calculate $\\frac{2 \\cdot (3-1)^4}{\\sqrt{25}}$."
   ]
  },
  {
   "cell_type": "code",
   "execution_count": 1,
   "metadata": {},
   "outputs": [
    {
     "data": {
      "text/plain": [
       "6.4"
      ]
     },
     "execution_count": 1,
     "metadata": {},
     "output_type": "execute_result"
    }
   ],
   "source": [
    "2*(3-1)**4/25**(1/2)"
   ]
  },
  {
   "cell_type": "markdown",
   "metadata": {},
   "source": [
    "## Printing"
   ]
  },
  {
   "cell_type": "markdown",
   "metadata": {},
   "source": [
    "**Examples:** when executing a cell, in many cases the last line is printed as output. One can use the ``print`` statement to display additional output. In the cell below one finds examples of print statements."
   ]
  },
  {
   "cell_type": "code",
   "execution_count": 2,
   "metadata": {},
   "outputs": [
    {
     "name": "stdout",
     "output_type": "stream",
     "text": [
      "This is a line.\n",
      "137\n",
      "[1, 2, 6, 3, 7, 4, 5, 3]\n",
      "\n",
      "137 [1, 2, 6, 3, 7, 4, 5, 3]\n",
      "This is a line with an integer, 137 and a list, [1, 2, 6, 3, 7, 4, 5, 3]\n",
      "This is a line with an integer, 137 and a list, [1, 2, 6, 3, 7, 4, 5, 3]\n",
      "This is a line with an integer, 137.000 and a list, [1, 2, 6, 3, 7, 4, 5, 3] \n",
      "\n",
      "This is a line with an integer, 137 and a list, [1, 2, 6, 3, 7, 4, 5, 3]\n",
      "This is a line with an integer,137and a list,[1, 2, 6, 3, 7, 4, 5, 3]\n"
     ]
    }
   ],
   "source": [
    "print('This is a line.') # Printing a string\n",
    "\n",
    "a = 137\n",
    "b = [1,2,6,3,7,4,5,3]\n",
    "\n",
    "print(a) # Printing an integer\n",
    "print(b) # Printing a list\n",
    "print('') # Creating an empty line\n",
    "print(a, b) # Printing and integer and a list\n",
    "\n",
    "print('This is a line with an integer,',a ,'and a list,', b)\n",
    "\n",
    "print('This is a line with an integer, %i and a list, %s' % (a, b))  # Same line, using a tuple\n",
    "\n",
    "print('This is a line with an integer, %.3f and a list, %s \\n' % (a, b)) # Same line, turning the integer into a float\n",
    "                                                                         # with three decimals.\n",
    "                                                                         # Note the \\n to create and extra empty line\n",
    "\n",
    "print('This is a line with an integer, {0} and a list, {1}'.format(a, b))  # Same line, using a different syntax\n",
    "\n",
    "print('This is a line with an integer,',a ,'and a list,', b, sep='') # Same line, without additional spaces"
   ]
  },
  {
   "cell_type": "markdown",
   "metadata": {},
   "source": [
    "**Exercise 2:** print a line similar to the examples above, but now with three insertions: an integer, a float and a list."
   ]
  },
  {
   "cell_type": "code",
   "execution_count": 3,
   "metadata": {},
   "outputs": [
    {
     "name": "stdout",
     "output_type": "stream",
     "text": [
      "This is a line with an integer, 137, a float, 137.000000 and a list, [1, 2, 6, 3, 7, 4, 5, 3]\n"
     ]
    }
   ],
   "source": [
    "print('This is a line with an integer, %i, a float, %f and a list, %s' % (a, a, b))"
   ]
  },
  {
   "cell_type": "markdown",
   "metadata": {},
   "source": [
    "## Types\n",
    "\n",
    "Everything in Python is an object. Each object is of a certain type. Here's a list of Python types you will often use:\n",
    "* integer number (int)\n",
    "* decimal number (float)\n",
    "* boolean (bool)\n",
    "* string of characters (str)\n",
    "* list of objects (list)\n",
    "* tuple of objects (tuple)\n",
    "* dictionary (dict)\n",
    "* set of objects (set)\n",
    "* function (function)"
   ]
  },
  {
   "cell_type": "markdown",
   "metadata": {},
   "source": [
    "**Examples:** the function ``type`` gives the type of the object in its argument."
   ]
  },
  {
   "cell_type": "code",
   "execution_count": 4,
   "metadata": {},
   "outputs": [
    {
     "data": {
      "text/plain": [
       "int"
      ]
     },
     "execution_count": 4,
     "metadata": {},
     "output_type": "execute_result"
    }
   ],
   "source": [
    "type(a) # Functions take one or more inputs/arguments (in parentheses) and return an output."
   ]
  },
  {
   "cell_type": "code",
   "execution_count": 5,
   "metadata": {},
   "outputs": [
    {
     "data": {
      "text/plain": [
       "list"
      ]
     },
     "execution_count": 5,
     "metadata": {},
     "output_type": "execute_result"
    }
   ],
   "source": [
    "type(b)"
   ]
  },
  {
   "cell_type": "code",
   "execution_count": 6,
   "metadata": {},
   "outputs": [
    {
     "data": {
      "text/plain": [
       "str"
      ]
     },
     "execution_count": 6,
     "metadata": {},
     "output_type": "execute_result"
    }
   ],
   "source": [
    "c = 'ThIs is A stRinG! #$$3@6**#9&@'\n",
    "\n",
    "type(c)"
   ]
  },
  {
   "cell_type": "markdown",
   "metadata": {},
   "source": [
    "## Attributes and methods\n",
    "\n",
    "Objects in Python typically have attributes and methods. Attributes are other Python objects stored inside the object. Methods are functions associated with the object, which have access to the internal data of the object. Which attributes and methods an object has depends on its type. So str objects have different attributes/methods than list objects, for example. In this tutorial, we will be mainly concerned with methods of objects."
   ]
  },
  {
   "cell_type": "markdown",
   "metadata": {},
   "source": [
    "**Exercise 3:** to get an overview of the attributes/methods associated with a certain object, one can use the Tab key. For example, to see which methods are associated to an integer you can type `a.<Tab>` or `int.<Tab>`. Try both. Try `b.<Tab>` and `c.<Tab>` as well and note the differences."
   ]
  },
  {
   "cell_type": "code",
   "execution_count": null,
   "metadata": {},
   "outputs": [],
   "source": []
  },
  {
   "cell_type": "markdown",
   "metadata": {},
   "source": [
    "**Example:** there are two equivalent syntactic expressions to access a method. We illustrate this with the string method `upper`, which transforms all lowercase characters into uppercase characters."
   ]
  },
  {
   "cell_type": "code",
   "execution_count": 7,
   "metadata": {},
   "outputs": [
    {
     "name": "stdout",
     "output_type": "stream",
     "text": [
      "THIS IS A STRING! #$$3@6**#9&@\n",
      "THIS IS A STRING! #$$3@6**#9&@\n"
     ]
    }
   ],
   "source": [
    "print(str.upper(c))\n",
    "\n",
    "print(c.upper())"
   ]
  },
  {
   "cell_type": "markdown",
   "metadata": {},
   "source": [
    "**Example:** two equivalent syntactic expressions to count the occurrences of the integer 3 in the list `b`."
   ]
  },
  {
   "cell_type": "code",
   "execution_count": 8,
   "metadata": {},
   "outputs": [
    {
     "name": "stdout",
     "output_type": "stream",
     "text": [
      "2\n",
      "2\n"
     ]
    }
   ],
   "source": [
    "print(list.count(b,3))\n",
    "\n",
    "print(b.count(3))"
   ]
  },
  {
   "cell_type": "markdown",
   "metadata": {},
   "source": [
    "**Example:** applying a method to an object of the wrong type will give you an error."
   ]
  },
  {
   "cell_type": "code",
   "execution_count": 9,
   "metadata": {},
   "outputs": [
    {
     "ename": "TypeError",
     "evalue": "must be str, not int",
     "output_type": "error",
     "traceback": [
      "\u001b[0;31m---------------------------------------------------------------------------\u001b[0m",
      "\u001b[0;31mTypeError\u001b[0m                                 Traceback (most recent call last)",
      "\u001b[0;32m<ipython-input-9-5d044c8789ae>\u001b[0m in \u001b[0;36m<module>\u001b[0;34m\u001b[0m\n\u001b[0;32m----> 1\u001b[0;31m \u001b[0mc\u001b[0m\u001b[0;34m.\u001b[0m\u001b[0mcount\u001b[0m\u001b[0;34m(\u001b[0m\u001b[0;36m3\u001b[0m\u001b[0;34m)\u001b[0m\u001b[0;34m\u001b[0m\u001b[0;34m\u001b[0m\u001b[0m\n\u001b[0m",
      "\u001b[0;31mTypeError\u001b[0m: must be str, not int"
     ]
    }
   ],
   "source": [
    "c.count(3)"
   ]
  },
  {
   "cell_type": "markdown",
   "metadata": {},
   "source": [
    "**Exercise 4:** apply a single method to `c` that transforms all lowercase letters to uppercase letters, and vice versa. (Hint: use the Tab key to find the appropriate method.)"
   ]
  },
  {
   "cell_type": "code",
   "execution_count": 12,
   "metadata": {},
   "outputs": [
    {
     "data": {
      "text/plain": [
       "'tHiS IS a STrINg! #$$3@6**#9&@'"
      ]
     },
     "execution_count": 12,
     "metadata": {},
     "output_type": "execute_result"
    }
   ],
   "source": [
    "c.swapcase()"
   ]
  },
  {
   "cell_type": "markdown",
   "metadata": {},
   "source": [
    "**Exercise 5:** count how often the character 's' occurs in `c`."
   ]
  },
  {
   "cell_type": "code",
   "execution_count": 13,
   "metadata": {},
   "outputs": [
    {
     "data": {
      "text/plain": [
       "3"
      ]
     },
     "execution_count": 13,
     "metadata": {},
     "output_type": "execute_result"
    }
   ],
   "source": [
    "c.count('s')"
   ]
  },
  {
   "cell_type": "markdown",
   "metadata": {},
   "source": [
    "**Example:** it is possible to apply multiple methods subsequently. For this, one can also use the two equivalent syntactic expressions. Note the order of methods in the second expression."
   ]
  },
  {
   "cell_type": "code",
   "execution_count": 14,
   "metadata": {},
   "outputs": [
    {
     "data": {
      "text/plain": [
       "0"
      ]
     },
     "execution_count": 14,
     "metadata": {},
     "output_type": "execute_result"
    }
   ],
   "source": [
    "str.count(str.upper(c),'s')"
   ]
  },
  {
   "cell_type": "code",
   "execution_count": 15,
   "metadata": {},
   "outputs": [
    {
     "data": {
      "text/plain": [
       "0"
      ]
     },
     "execution_count": 15,
     "metadata": {},
     "output_type": "execute_result"
    }
   ],
   "source": [
    "c.upper().count('s')"
   ]
  },
  {
   "cell_type": "markdown",
   "metadata": {},
   "source": [
    "**Example:** accessing an attribute does not require parentheses, because attributes are other objects already stored inside the object."
   ]
  },
  {
   "cell_type": "code",
   "execution_count": 16,
   "metadata": {},
   "outputs": [
    {
     "data": {
      "text/plain": [
       "137"
      ]
     },
     "execution_count": 16,
     "metadata": {},
     "output_type": "execute_result"
    }
   ],
   "source": [
    "a.real # Getting the real part of the numeric quantity a."
   ]
  },
  {
   "cell_type": "markdown",
   "metadata": {},
   "source": [
    "## Built-in functions\n",
    "\n",
    "The Python Standard Library has a number of built-in functions that can be called at any time (as opposed to attributes and methods, which can only be called in association with an object of the correct type). Click [here](https://docs.python.org/3.6/library/functions.html) for a list and description of all built-in functions."
   ]
  },
  {
   "cell_type": "markdown",
   "metadata": {},
   "source": [
    "**Example**: using `len` to calculate the length of iterable objects."
   ]
  },
  {
   "cell_type": "code",
   "execution_count": 17,
   "metadata": {
    "scrolled": true
   },
   "outputs": [
    {
     "name": "stdout",
     "output_type": "stream",
     "text": [
      "8\n",
      "30\n"
     ]
    }
   ],
   "source": [
    "print(len(b))\n",
    "print(len(c))"
   ]
  },
  {
   "cell_type": "markdown",
   "metadata": {},
   "source": [
    "**Exercise 6:** use a built-in function to determine the sum of the numbers in `b`."
   ]
  },
  {
   "cell_type": "code",
   "execution_count": 18,
   "metadata": {},
   "outputs": [
    {
     "data": {
      "text/plain": [
       "31"
      ]
     },
     "execution_count": 18,
     "metadata": {},
     "output_type": "execute_result"
    }
   ],
   "source": [
    "sum(b)"
   ]
  },
  {
   "cell_type": "markdown",
   "metadata": {},
   "source": [
    "**Exercise 7:** use built-in functions to determine the difference between the maximum and minimum value of `b`."
   ]
  },
  {
   "cell_type": "code",
   "execution_count": 19,
   "metadata": {},
   "outputs": [
    {
     "data": {
      "text/plain": [
       "6"
      ]
     },
     "execution_count": 19,
     "metadata": {},
     "output_type": "execute_result"
    }
   ],
   "source": [
    "max(b)-min(b)"
   ]
  },
  {
   "cell_type": "markdown",
   "metadata": {},
   "source": [
    "**Exercise 8:** use a built-in function to turn the string object `c` into a list of characters and print the result."
   ]
  },
  {
   "cell_type": "code",
   "execution_count": 20,
   "metadata": {},
   "outputs": [
    {
     "name": "stdout",
     "output_type": "stream",
     "text": [
      "['T', 'h', 'I', 's', ' ', 'i', 's', ' ', 'A', ' ', 's', 't', 'R', 'i', 'n', 'G', '!', ' ', '#', '$', '$', '3', '@', '6', '*', '*', '#', '9', '&', '@']\n"
     ]
    }
   ],
   "source": [
    "print(list(c))"
   ]
  },
  {
   "cell_type": "markdown",
   "metadata": {},
   "source": [
    "# 2. Built-in types\n",
    "\n",
    "This section introduces the most important built-in types of the Python Standard Library."
   ]
  },
  {
   "cell_type": "markdown",
   "metadata": {},
   "source": [
    "## Numeric types"
   ]
  },
  {
   "cell_type": "markdown",
   "metadata": {},
   "source": [
    "**Example:** Computers distinguish between integers and floating point numbers. Python integers can be arbitrary large (will use as many bits as necessary). Python floats are between $\\pm 1.8\\cdot 10^{308}$, but are stored with just 64 bits of precision. Hence, not all real numbers can be represented, and floating point arithmetic is not exact."
   ]
  },
  {
   "cell_type": "code",
   "execution_count": 21,
   "metadata": {},
   "outputs": [
    {
     "data": {
      "text/plain": [
       "int"
      ]
     },
     "execution_count": 21,
     "metadata": {},
     "output_type": "execute_result"
    }
   ],
   "source": [
    "a = 1\n",
    "type(a)"
   ]
  },
  {
   "cell_type": "code",
   "execution_count": 22,
   "metadata": {
    "slideshow": {
     "slide_type": "-"
    }
   },
   "outputs": [
    {
     "data": {
      "text/plain": [
       "float"
      ]
     },
     "execution_count": 22,
     "metadata": {},
     "output_type": "execute_result"
    }
   ],
   "source": [
    "a = 1.0\n",
    "type(a)  # Note that variables can change type: a was an integer before"
   ]
  },
  {
   "cell_type": "code",
   "execution_count": 23,
   "metadata": {},
   "outputs": [
    {
     "data": {
      "text/plain": [
       "0.09999999999999998"
      ]
     },
     "execution_count": 23,
     "metadata": {},
     "output_type": "execute_result"
    }
   ],
   "source": [
    "a-0.9 # Example of the non-exactness of floating point arithmetic in Python. "
   ]
  },
  {
   "cell_type": "markdown",
   "metadata": {},
   "source": [
    "**Example:** If any of the operands is a float, then Python will convert the others to float, too."
   ]
  },
  {
   "cell_type": "code",
   "execution_count": 24,
   "metadata": {},
   "outputs": [
    {
     "name": "stdout",
     "output_type": "stream",
     "text": [
      "2.0\n"
     ]
    },
    {
     "data": {
      "text/plain": [
       "8.0"
      ]
     },
     "execution_count": 24,
     "metadata": {},
     "output_type": "execute_result"
    }
   ],
   "source": [
    "print(4/2.0)\n",
    "\n",
    "2*(3-1.0)**2"
   ]
  },
  {
   "cell_type": "markdown",
   "metadata": {},
   "source": [
    "**Example:** in Python 3.x (as opposed to Python 2.x) division `/` of two integers returns a float. One uses ``//`` for integer division and `%` to obtain the remainder."
   ]
  },
  {
   "cell_type": "code",
   "execution_count": 25,
   "metadata": {},
   "outputs": [
    {
     "name": "stdout",
     "output_type": "stream",
     "text": [
      "2.0\n",
      "1\n",
      "2\n"
     ]
    }
   ],
   "source": [
    "print(6/3) # Ordinary division turns integers into a float.\n",
    "print(5//3) # Integer division, discarding the remainder.\n",
    "print(5 % 3) # Obtaining the remainder of integer division."
   ]
  },
  {
   "cell_type": "markdown",
   "metadata": {},
   "source": [
    "## Booleans\n",
    "\n",
    "The two boolean type objects in Python are written as `True` and `False`."
   ]
  },
  {
   "cell_type": "markdown",
   "metadata": {},
   "source": [
    "**Example**: comparisons and other conditional expressions evaluate to either `True` or `False`."
   ]
  },
  {
   "cell_type": "code",
   "execution_count": 26,
   "metadata": {},
   "outputs": [
    {
     "data": {
      "text/plain": [
       "False"
      ]
     },
     "execution_count": 26,
     "metadata": {},
     "output_type": "execute_result"
    }
   ],
   "source": [
    "3 > 4.0"
   ]
  },
  {
   "cell_type": "code",
   "execution_count": 27,
   "metadata": {},
   "outputs": [
    {
     "data": {
      "text/plain": [
       "True"
      ]
     },
     "execution_count": 27,
     "metadata": {},
     "output_type": "execute_result"
    }
   ],
   "source": [
    "a <= 1"
   ]
  },
  {
   "cell_type": "code",
   "execution_count": 28,
   "metadata": {},
   "outputs": [
    {
     "data": {
      "text/plain": [
       "False"
      ]
     },
     "execution_count": 28,
     "metadata": {},
     "output_type": "execute_result"
    }
   ],
   "source": [
    "not(1 < 2)"
   ]
  },
  {
   "cell_type": "markdown",
   "metadata": {},
   "source": [
    "**Example:** Boolean values can be combined with `and` and `or`."
   ]
  },
  {
   "cell_type": "code",
   "execution_count": 29,
   "metadata": {},
   "outputs": [
    {
     "data": {
      "text/plain": [
       "False"
      ]
     },
     "execution_count": 29,
     "metadata": {},
     "output_type": "execute_result"
    }
   ],
   "source": [
    "True and False"
   ]
  },
  {
   "cell_type": "code",
   "execution_count": 30,
   "metadata": {},
   "outputs": [
    {
     "data": {
      "text/plain": [
       "True"
      ]
     },
     "execution_count": 30,
     "metadata": {},
     "output_type": "execute_result"
    }
   ],
   "source": [
    "True or False"
   ]
  },
  {
   "cell_type": "code",
   "execution_count": 31,
   "metadata": {},
   "outputs": [
    {
     "data": {
      "text/plain": [
       "False"
      ]
     },
     "execution_count": 31,
     "metadata": {},
     "output_type": "execute_result"
    }
   ],
   "source": [
    "1 < 2 and 2 < 1 "
   ]
  },
  {
   "cell_type": "markdown",
   "metadata": {},
   "source": [
    "## Strings"
   ]
  },
  {
   "cell_type": "markdown",
   "metadata": {},
   "source": [
    "**Example:** we have seen already examples of strings."
   ]
  },
  {
   "cell_type": "code",
   "execution_count": 32,
   "metadata": {},
   "outputs": [],
   "source": [
    "b = 'This is the first half'\n",
    "c = 'and this is the second half.'"
   ]
  },
  {
   "cell_type": "markdown",
   "metadata": {},
   "source": [
    "**Exercise 9:** use the `+` to combine the string `b` and `c` into a single string."
   ]
  },
  {
   "cell_type": "code",
   "execution_count": 33,
   "metadata": {},
   "outputs": [
    {
     "data": {
      "text/plain": [
       "'This is the first halfand this is the second half.'"
      ]
     },
     "execution_count": 33,
     "metadata": {},
     "output_type": "execute_result"
    }
   ],
   "source": [
    "b + c"
   ]
  },
  {
   "cell_type": "markdown",
   "metadata": {},
   "source": [
    "**Exercise 10:** the resulting string is missing a space in between the words 'half' and 'and'. Correct this by inserting a third string into the sum."
   ]
  },
  {
   "cell_type": "code",
   "execution_count": 34,
   "metadata": {},
   "outputs": [
    {
     "data": {
      "text/plain": [
       "'This is the first half and this is the second half.'"
      ]
     },
     "execution_count": 34,
     "metadata": {},
     "output_type": "execute_result"
    }
   ],
   "source": [
    "b + ' ' + c"
   ]
  },
  {
   "cell_type": "markdown",
   "metadata": {},
   "source": [
    "**Exercise 11:** use the built-in function `str` to turn the integer number 8471 into a string. Call the resulting object `d`."
   ]
  },
  {
   "cell_type": "code",
   "execution_count": 35,
   "metadata": {},
   "outputs": [],
   "source": [
    "d = str(8471)"
   ]
  },
  {
   "cell_type": "markdown",
   "metadata": {},
   "source": [
    "**Exercise 12:** use the built-in function `isinstance` to check whether the variable `d` refers to an object of string type."
   ]
  },
  {
   "cell_type": "code",
   "execution_count": 36,
   "metadata": {},
   "outputs": [
    {
     "data": {
      "text/plain": [
       "True"
      ]
     },
     "execution_count": 36,
     "metadata": {},
     "output_type": "execute_result"
    }
   ],
   "source": [
    "isinstance(d, str)"
   ]
  },
  {
   "cell_type": "markdown",
   "metadata": {},
   "source": [
    "## Lists\n",
    "\n",
    "A list is an ordered sequence of Python objects. You can define them using square brackets `[]` or the built-in function `list`."
   ]
  },
  {
   "cell_type": "markdown",
   "metadata": {},
   "source": [
    "**Example:** defining lists using `[]`. Note that a list can contain Python objects of different type, including sequence-type objects like lists themselves. Also note the `None`, which is the only Python object of NoneType, and which is often used to mark the absence of a value. In a list, you can consider it as an empty entry."
   ]
  },
  {
   "cell_type": "code",
   "execution_count": 37,
   "metadata": {},
   "outputs": [],
   "source": [
    "list1 = [7,4,3,9,0,1,6,2,3,6,8,0,5]\n",
    "list2 = ['April','May','July','August']\n",
    "list3 = [4, 6.5, 'butterfly', [4,5], None]"
   ]
  },
  {
   "cell_type": "markdown",
   "metadata": {},
   "source": [
    "**Exercise 13:** use the list method `append` to attach the integer 17 to the end of `list1`. Print the result."
   ]
  },
  {
   "cell_type": "code",
   "execution_count": 38,
   "metadata": {},
   "outputs": [
    {
     "data": {
      "text/plain": [
       "[7, 4, 3, 9, 0, 1, 6, 2, 3, 6, 8, 0, 5, 17]"
      ]
     },
     "execution_count": 38,
     "metadata": {},
     "output_type": "execute_result"
    }
   ],
   "source": [
    "list1.append(17)\n",
    "list1"
   ]
  },
  {
   "cell_type": "markdown",
   "metadata": {},
   "source": [
    "**Exercise 14:** use the list method `insert` to include the string 'June' in the correct position of `list2`. Note that the index of sequence-like objects in Python starts at 0. Print the result."
   ]
  },
  {
   "cell_type": "code",
   "execution_count": 39,
   "metadata": {},
   "outputs": [
    {
     "data": {
      "text/plain": [
       "['April', 'May', 'June', 'July', 'August']"
      ]
     },
     "execution_count": 39,
     "metadata": {},
     "output_type": "execute_result"
    }
   ],
   "source": [
    "list2.insert(2, 'June')\n",
    "list2"
   ]
  },
  {
   "cell_type": "markdown",
   "metadata": {},
   "source": [
    "**Example:** checking whether `list3` contains the object `6.5`."
   ]
  },
  {
   "cell_type": "code",
   "execution_count": 40,
   "metadata": {},
   "outputs": [
    {
     "data": {
      "text/plain": [
       "True"
      ]
     },
     "execution_count": 40,
     "metadata": {},
     "output_type": "execute_result"
    }
   ],
   "source": [
    "6.5 in list3"
   ]
  },
  {
   "cell_type": "markdown",
   "metadata": {},
   "source": [
    "**Exercise 15:** check whether the integer `9` is not an element of `list1`. The answer should be `False`."
   ]
  },
  {
   "cell_type": "code",
   "execution_count": 41,
   "metadata": {},
   "outputs": [
    {
     "data": {
      "text/plain": [
       "False"
      ]
     },
     "execution_count": 41,
     "metadata": {},
     "output_type": "execute_result"
    }
   ],
   "source": [
    "9 not in list1"
   ]
  },
  {
   "cell_type": "markdown",
   "metadata": {},
   "source": [
    "**Exercise 16:** use `+` to concatenate `list1`, `list3` and `list2` (in that order), and print the result."
   ]
  },
  {
   "cell_type": "code",
   "execution_count": 42,
   "metadata": {},
   "outputs": [
    {
     "name": "stdout",
     "output_type": "stream",
     "text": [
      "[7, 4, 3, 9, 0, 1, 6, 2, 3, 6, 8, 0, 5, 17, 4, 6.5, 'butterfly', [4, 5], None, 'April', 'May', 'June', 'July', 'August']\n"
     ]
    }
   ],
   "source": [
    "print(list1 + list3 + list2)"
   ]
  },
  {
   "cell_type": "markdown",
   "metadata": {},
   "source": [
    "**Exercise 17:** use the list method `extend` to add the 4 last months of the year to `list2`. A single line of code should be enough. Print the result."
   ]
  },
  {
   "cell_type": "code",
   "execution_count": 43,
   "metadata": {},
   "outputs": [
    {
     "name": "stdout",
     "output_type": "stream",
     "text": [
      "['April', 'May', 'June', 'July', 'August', 'September', 'October', 'November', 'December']\n"
     ]
    }
   ],
   "source": [
    "list2.extend(['September','October','November','December'])\n",
    "print(list2)"
   ]
  },
  {
   "cell_type": "markdown",
   "metadata": {},
   "source": [
    "**Example:** with indices within brackets `[]` one can access specific elements of sequence-like/iterable objects. One can also use this to re-define objects within a list."
   ]
  },
  {
   "cell_type": "code",
   "execution_count": 44,
   "metadata": {},
   "outputs": [
    {
     "name": "stdout",
     "output_type": "stream",
     "text": [
      "4\n",
      "6.5\n",
      "butterfly\n",
      "None\n",
      "[[1, 2, 3], 6.5, 'butterfly', [4, 5], None]\n"
     ]
    }
   ],
   "source": [
    "print(list3[0])\n",
    "print(list3[1])\n",
    "print(list3[2])\n",
    "print(list3[-1]) # Negative indices start at the end of a list and count backwards.\n",
    "\n",
    "list3[0] = [1,2,3] # Replacing the first element of c_list by a list if length 3.\n",
    "print(list3)"
   ]
  },
  {
   "cell_type": "markdown",
   "metadata": {},
   "source": [
    "**Example:** using the `:` symbol to select slices of lists. "
   ]
  },
  {
   "cell_type": "code",
   "execution_count": 45,
   "metadata": {},
   "outputs": [
    {
     "name": "stdout",
     "output_type": "stream",
     "text": [
      "[3, 9, 0, 1, 6]\n",
      "['April']\n",
      "[7, 4, 3, 9, 0, 1, 6]\n",
      "[3, 9, 0, 1, 6, 2, 3, 6, 8, 0, 5, 17]\n",
      "[[4, 5], None]\n",
      "[3, 0, 6]\n",
      "[3, 0, 6, 3, 8, 5]\n",
      "[[1, 2, 3], 1.23, 'spider', 'flower', [4, 5], None]\n"
     ]
    }
   ],
   "source": [
    "print(list1[2:7])\n",
    "print(list2[0:1])\n",
    "print(list1[:7])\n",
    "print(list1[2:])\n",
    "print(list3[-2:])\n",
    "print(list1[2:7:2]) # An (optional) third integer gives the step size of the slicing.\n",
    "print(list1[2::2])\n",
    "\n",
    "list3[1:3] = [1.23, 'spider','flower'] # Replacing the second and third element of list3 by three new elements.\n",
    "print(list3)"
   ]
  },
  {
   "cell_type": "markdown",
   "metadata": {},
   "source": [
    "**Exercise 18:** the slicing also works for strings, where a string is seen as a sequence of unicode characters. Below we have defined the string `alphabet`. Use the slicing syntax to create a string with the first, third, fifth, seventh, etc., letter of the alphabet."
   ]
  },
  {
   "cell_type": "code",
   "execution_count": 46,
   "metadata": {},
   "outputs": [
    {
     "data": {
      "text/plain": [
       "'acegikmoqsuwy'"
      ]
     },
     "execution_count": 46,
     "metadata": {},
     "output_type": "execute_result"
    }
   ],
   "source": [
    "alphabet = 'abcdefghijklmnopqrstuvwxyz'\n",
    "\n",
    "alphabet[::2]"
   ]
  },
  {
   "cell_type": "markdown",
   "metadata": {},
   "source": [
    "**Exercise 19:** complete `list2` with the three missing months of the year and make sure they are in the correct position. Print the result."
   ]
  },
  {
   "cell_type": "code",
   "execution_count": 47,
   "metadata": {},
   "outputs": [
    {
     "name": "stdout",
     "output_type": "stream",
     "text": [
      "['January', 'February', 'March', 'April', 'May', 'June', 'July', 'August', 'September', 'October', 'November', 'December']\n"
     ]
    }
   ],
   "source": [
    "list2[0:0] = ['January', 'February','March']\n",
    "print(list2)"
   ]
  },
  {
   "cell_type": "markdown",
   "metadata": {},
   "source": [
    "**Exercise 20:** use the list method `sort` to sort `list1` and print the result."
   ]
  },
  {
   "cell_type": "code",
   "execution_count": 48,
   "metadata": {},
   "outputs": [
    {
     "name": "stdout",
     "output_type": "stream",
     "text": [
      "[0, 0, 1, 2, 3, 3, 4, 5, 6, 6, 7, 8, 9, 17]\n"
     ]
    }
   ],
   "source": [
    "list1.sort()\n",
    "\n",
    "print(list1)"
   ]
  },
  {
   "cell_type": "markdown",
   "metadata": {},
   "source": [
    "## Tuples\n",
    "\n",
    "Like a list, a tuple is an ordered sequence of Python objects. Crucially, unlike a list, a tuple is an immutable object. This means that once the tuple is defined, its length and its objects cannot be changed anymore."
   ]
  },
  {
   "cell_type": "markdown",
   "metadata": {},
   "source": [
    "**Example:** One can define a tuple using commas only. Parentheses `()` are optional."
   ]
  },
  {
   "cell_type": "code",
   "execution_count": 49,
   "metadata": {},
   "outputs": [],
   "source": [
    "tuple1 = 1, 2, ['tree','house',9.9] , 4, 'king'\n",
    "tuple2 = ('queen', 'door', 'leaf')"
   ]
  },
  {
   "cell_type": "markdown",
   "metadata": {},
   "source": [
    "**Exercise 21:** use the built-in function `tuple` to create a tuple out of the string `alphabet` that was defined earlier. Print the result."
   ]
  },
  {
   "cell_type": "code",
   "execution_count": 50,
   "metadata": {},
   "outputs": [
    {
     "name": "stdout",
     "output_type": "stream",
     "text": [
      "('a', 'b', 'c', 'd', 'e', 'f', 'g', 'h', 'i', 'j', 'k', 'l', 'm', 'n', 'o', 'p', 'q', 'r', 's', 't', 'u', 'v', 'w', 'x', 'y', 'z')\n"
     ]
    }
   ],
   "source": [
    "print(tuple(alphabet))"
   ]
  },
  {
   "cell_type": "markdown",
   "metadata": {},
   "source": [
    "**Exercise 22:** try to append the integer 6 to `tuple1`, like you did earlier for a list. You will encounter an error, because a tuple is immutable."
   ]
  },
  {
   "cell_type": "code",
   "execution_count": 51,
   "metadata": {},
   "outputs": [
    {
     "ename": "AttributeError",
     "evalue": "'tuple' object has no attribute 'append'",
     "output_type": "error",
     "traceback": [
      "\u001b[0;31m---------------------------------------------------------------------------\u001b[0m",
      "\u001b[0;31mAttributeError\u001b[0m                            Traceback (most recent call last)",
      "\u001b[0;32m<ipython-input-51-8d4f81ca1b02>\u001b[0m in \u001b[0;36m<module>\u001b[0;34m\u001b[0m\n\u001b[0;32m----> 1\u001b[0;31m \u001b[0mtuple1\u001b[0m\u001b[0;34m.\u001b[0m\u001b[0mappend\u001b[0m\u001b[0;34m(\u001b[0m\u001b[0;36m6\u001b[0m\u001b[0;34m)\u001b[0m\u001b[0;34m\u001b[0m\u001b[0;34m\u001b[0m\u001b[0m\n\u001b[0m",
      "\u001b[0;31mAttributeError\u001b[0m: 'tuple' object has no attribute 'append'"
     ]
    }
   ],
   "source": [
    "tuple1.append(6)"
   ]
  },
  {
   "cell_type": "markdown",
   "metadata": {},
   "source": [
    "## Dictionaries\n",
    "\n",
    "A dictionary (`dict`) is a mapping from (immutable) Python objects, called *keys*, to other Python objects, called *values*. "
   ]
  },
  {
   "cell_type": "markdown",
   "metadata": {},
   "source": [
    "**Example:** creating a dictionary and printing the keys and values. Note that the dictionary methods `keys` and `values` create an iterable object, which can be turned into a list with the built-in function `list`."
   ]
  },
  {
   "cell_type": "code",
   "execution_count": 52,
   "metadata": {},
   "outputs": [
    {
     "name": "stdout",
     "output_type": "stream",
     "text": [
      "The keys of the dictionary are: ['a', 'b', 3]\n",
      "The values of the dictionary are: ['blue', [1, 2, 3, 4], ('al', 'pha', 'bet')]\n"
     ]
    }
   ],
   "source": [
    "d1 = {'a' : 'blue', 'b' : [1,2,3,4], 3 : ('al','pha','bet')}\n",
    "\n",
    "print('The keys of the dictionary are: {0}'.format(list(d1.keys())))\n",
    "\n",
    "print('The values of the dictionary are: {0}'.format(list(d1.values())))"
   ]
  },
  {
   "cell_type": "markdown",
   "metadata": {},
   "source": [
    "**Example:** instead of the index for a list, inserting the key in the brackets `[]` returns the associated value."
   ]
  },
  {
   "cell_type": "code",
   "execution_count": 53,
   "metadata": {},
   "outputs": [
    {
     "name": "stdout",
     "output_type": "stream",
     "text": [
      "blue\n",
      "[1, 2, 3, 4]\n",
      "('al', 'pha', 'bet')\n"
     ]
    }
   ],
   "source": [
    "print(d1['a'])\n",
    "\n",
    "print(d1['b'])\n",
    "\n",
    "print(d1[3])"
   ]
  },
  {
   "cell_type": "markdown",
   "metadata": {},
   "source": [
    "**Example:** one method for adding entries to the dictionary, and two different methods for deleting entries. Note that the `pop` method returns the deleted value of the dictionary."
   ]
  },
  {
   "cell_type": "code",
   "execution_count": 54,
   "metadata": {},
   "outputs": [
    {
     "name": "stdout",
     "output_type": "stream",
     "text": [
      "{'a': 'blue', 'b': [1, 2, 3, 4], 3: ('al', 'pha', 'bet'), 'c': 'red'}\n",
      "{'b': [1, 2, 3, 4], 3: ('al', 'pha', 'bet'), 'c': 'red'}\n",
      "The deleted value is: ('al', 'pha', 'bet').\n",
      "{'b': [1, 2, 3, 4], 'c': 'red'}\n"
     ]
    }
   ],
   "source": [
    "d1['c'] = 'red' # Adding a dictionary entry.\n",
    "print(d1)\n",
    "\n",
    "del d1['a'] # Deleting a dictionary entry.\n",
    "print(d1)\n",
    "\n",
    "popped_value = d1.pop(3) # Deleting a dictionary entry using the `pop` method.\n",
    "print('The deleted value is: {0}.'.format(popped_value))\n",
    "print(d1)"
   ]
  },
  {
   "cell_type": "markdown",
   "metadata": {},
   "source": [
    "**Example:** one often encounters a situation with two equal-length lists (or tuples) that need to be combined into a single dictionary. One can use the built-in function `zip`, which creates a so-called iterator over 2-tuples. Iterators are subtle objects, but for now all you need to know is that you can turn them into an iterable object by (for example) applying `list` to them. Subsequently, the built-in function `dict` creates a dictionary."
   ]
  },
  {
   "cell_type": "code",
   "execution_count": 55,
   "metadata": {},
   "outputs": [
    {
     "name": "stdout",
     "output_type": "stream",
     "text": [
      "[('a', 1), ('b', 2), ('c', 3)]\n"
     ]
    },
    {
     "data": {
      "text/plain": [
       "{'a': 1, 'b': 2, 'c': 3}"
      ]
     },
     "execution_count": 55,
     "metadata": {},
     "output_type": "execute_result"
    }
   ],
   "source": [
    "list1 = ['a','b','c']\n",
    "list2 = [1,2,3]\n",
    "\n",
    "print(list(zip(list1,list2))) # Showing that the zip function creates a 'list' of tuples of length 2.\n",
    "\n",
    "dict(zip(list1,list2))"
   ]
  },
  {
   "cell_type": "markdown",
   "metadata": {},
   "source": [
    "**Exercise 23:** use the above example to create two dictionaries. The first dictionary, called `digit_to_word`, has as keys the digits (integers) 0,1,...,9 and as values the words zero, one,...,nine. For the second dictionary, called `word_to_digit`, the words are the keys and the integers are the values. Print the resulting dictionaries."
   ]
  },
  {
   "cell_type": "code",
   "execution_count": 56,
   "metadata": {},
   "outputs": [
    {
     "name": "stdout",
     "output_type": "stream",
     "text": [
      "{'zero': 0, 'one': 1, 'two': 2, 'three': 3, 'four': 4, 'five': 5, 'six': 6, 'seven': 7, 'eight': 8, 'nine': 9}\n",
      "{0: 'zero', 1: 'one', 2: 'two', 3: 'three', 4: 'four', 5: 'five', 6: 'six', 7: 'seven', 8: 'eight', 9: 'nine'}\n"
     ]
    }
   ],
   "source": [
    "list1 = ['zero','one','two','three','four','five','six','seven','eight','nine']\n",
    "list2 = [0,1,2,3,4,5,6,7,8,9]\n",
    "\n",
    "word_to_digit = dict(zip(list1,list2))\n",
    "digit_to_word = dict(zip(list2,list1))\n",
    "\n",
    "print(word_to_digit)\n",
    "print(digit_to_word)"
   ]
  },
  {
   "cell_type": "markdown",
   "metadata": {},
   "source": [
    "## Sets\n",
    "\n",
    "A set is an unordered list of unique Python objects."
   ]
  },
  {
   "cell_type": "markdown",
   "metadata": {},
   "source": [
    "**Example:** a set can be created in two ways. One can use curly braces or the built-in function `set`. Note that duplicates are deleted automatically."
   ]
  },
  {
   "cell_type": "code",
   "execution_count": 57,
   "metadata": {},
   "outputs": [
    {
     "name": "stdout",
     "output_type": "stream",
     "text": [
      "{1, 4, 6, 7}\n",
      "{1, 2, 3, 4, 5}\n",
      "{'c', 'd', 'e', 'a', 'b'}\n"
     ]
    }
   ],
   "source": [
    "set1 = {4,7,1,4,6} \n",
    "set2 = set([1,2,3,4,5,4,3,2,1])\n",
    "set3 = set('abcde')\n",
    "\n",
    "print(set1)\n",
    "print(set2)\n",
    "print(set3)"
   ]
  },
  {
   "cell_type": "markdown",
   "metadata": {},
   "source": [
    "**Example:** adding elements to the set."
   ]
  },
  {
   "cell_type": "code",
   "execution_count": 58,
   "metadata": {},
   "outputs": [
    {
     "name": "stdout",
     "output_type": "stream",
     "text": [
      "{1, 4, 6, 7, 8}\n",
      "{1, 2, 3, 4, 5}\n"
     ]
    }
   ],
   "source": [
    "set1.add(8)\n",
    "set2.add(5) # Since 5 is already in set2, this operation does not change the set.\n",
    "\n",
    "print(set1)\n",
    "print(set2)"
   ]
  },
  {
   "cell_type": "markdown",
   "metadata": {},
   "source": [
    "**Example:** basic operations from set theory are available to objects of the `set` type through methods."
   ]
  },
  {
   "cell_type": "code",
   "execution_count": 59,
   "metadata": {},
   "outputs": [
    {
     "name": "stdout",
     "output_type": "stream",
     "text": [
      "{1, 2, 3, 4, 5, 6, 7, 8}\n",
      "{1, 4}\n"
     ]
    },
    {
     "data": {
      "text/plain": [
       "False"
      ]
     },
     "execution_count": 59,
     "metadata": {},
     "output_type": "execute_result"
    }
   ],
   "source": [
    "print(set1.union(set2))\n",
    "\n",
    "print(set1.intersection(set2))\n",
    "\n",
    "set1.issubset(set2)"
   ]
  },
  {
   "cell_type": "markdown",
   "metadata": {},
   "source": [
    "# 3. Control flow\n",
    "\n",
    "Control flow statements are an essential part of Python. In this section we introduce to most important ones."
   ]
  },
  {
   "cell_type": "markdown",
   "metadata": {},
   "source": [
    "## `if-elif-else` statements\n",
    "\n",
    "Python uses colons `:` to end a conditional statement and tabs for expressions that depend on the conditional statement."
   ]
  },
  {
   "cell_type": "markdown",
   "metadata": {},
   "source": [
    "**Exercise 24:** make sure you understand the `if-elif-else` structure below by running the code for different values of `x`. Also note the use of colons `:` and tabs.\n",
    "* The `if` block is executed if and only if the first condition is true.\n",
    "* The optional `elif` (short for 'else if') block is executed if and only if the first condition is false and the second one is true. There could be more than `elif` blocks.\n",
    "* The optional `else` block is executed if and only if none of the others was. "
   ]
  },
  {
   "cell_type": "code",
   "execution_count": 60,
   "metadata": {},
   "outputs": [
    {
     "name": "stdout",
     "output_type": "stream",
     "text": [
      "Thank you. You entered 3.\n"
     ]
    }
   ],
   "source": [
    "x = 3\n",
    "\n",
    "if x < 0:\n",
    "    print(\"You have entered a negative number.\")\n",
    "elif x > 9:\n",
    "    print(\"You have entered a number greater than 9.\")\n",
    "else:\n",
    "    print(\"Thank you. You entered %s.\" %x)"
   ]
  },
  {
   "cell_type": "markdown",
   "metadata": {},
   "source": [
    "**Exercise 25:** use the variable `y` to define a Python object. If `y` is a list or a string, the code should proceed as follows: if `y` has length less than or equal to 5, print `y`; if `y` has length between 6 and 10, print the first 5 elements of `y`; if the list is longer than 10, print the sentence 'Wrong size.'. If `y` is neither a list or a string, print the sentence 'This is not a list or a string.'. Make sure your code processes all options correctly by explicitely testing for different `y`. (Hint: use the built-in function `isinstance` twice to test whether `y` is a list or a string.)"
   ]
  },
  {
   "cell_type": "code",
   "execution_count": 61,
   "metadata": {},
   "outputs": [
    {
     "name": "stdout",
     "output_type": "stream",
     "text": [
      "[6, 8, 3, 'snake', 0]\n"
     ]
    }
   ],
   "source": [
    "y = [6,8,3,'snake',0,2,'33',1.2,4,'python']\n",
    "#y = 'kddffasfdfsdfafef'\n",
    "#y = 'kddffasdf'\n",
    "#y = 12\n",
    "#y = 12345678901234567890\n",
    "#y = ('python', 123, [1,2,3,4])\n",
    "\n",
    "if isinstance(y,list) or isinstance(y,str):\n",
    "    if len(y) <= 5:\n",
    "        print(y)\n",
    "    elif len(y)<=10:\n",
    "        print(y[:5])\n",
    "    else:\n",
    "        print('Wrong size.')\n",
    "else:\n",
    "    print('This is not a list or a string.')"
   ]
  },
  {
   "cell_type": "markdown",
   "metadata": {},
   "source": [
    "## `while` loops\n",
    "\n",
    "`while` loops are similar to `if-else` statements, but jump back to the `while` statement after the `while` block is finished. There are two ways to exit a `while` loop: when the condition becomes false or with a `break` statement. In the first case, an optional `else` block can be executed."
   ]
  },
  {
   "cell_type": "markdown",
   "metadata": {},
   "source": [
    "**Example:** a simple `while` loop. Note that the integer 4 is not printed anymore."
   ]
  },
  {
   "cell_type": "code",
   "execution_count": 62,
   "metadata": {},
   "outputs": [
    {
     "name": "stdout",
     "output_type": "stream",
     "text": [
      "0\n",
      "1\n",
      "2\n",
      "3\n"
     ]
    }
   ],
   "source": [
    "i=0\n",
    "\n",
    "while i < 4:\n",
    "    print(i)\n",
    "    i += 1"
   ]
  },
  {
   "cell_type": "markdown",
   "metadata": {},
   "source": [
    "**Exercise 26:** run the code below, try different inputs and make sure you understand what the code does. Then, adjust the code such that it can deal with float inputs as well, instead of giving an error. If the input is a float number, the code should tell the user 'This is not an integer.' and start over again. (Hint: observe that the `input` function returns a string. If the string contains a number that is non-integer, acting with `int` on it gives an error. Use `float` instead of `int` and subsequently use the float method `is_integer` to check whether the float is a whole number or not.)"
   ]
  },
  {
   "cell_type": "code",
   "execution_count": 63,
   "metadata": {},
   "outputs": [
    {
     "name": "stdout",
     "output_type": "stream",
     "text": [
      "Enter an integer between 0 and 9: 3\n",
      "Thank you. You entered 3.\n"
     ]
    }
   ],
   "source": [
    "x = -1\n",
    "\n",
    "while x < 0 or x > 9:\n",
    "    x = float(input(\"Enter an integer between 0 and 9: \")) # The built-in input function enables realtime user input.\n",
    "    if x.is_integer():\n",
    "        if x < 0:\n",
    "            print(\"You have entered a negative number.\")\n",
    "        elif x > 9:\n",
    "            print(\"You have entered a number greater than 9.\")\n",
    "    else:\n",
    "        x = -1\n",
    "        print(\"This is not an integer.\")\n",
    "        \n",
    "x = int(x)\n",
    "print(\"Thank you. You entered %s.\" % x)"
   ]
  },
  {
   "cell_type": "markdown",
   "metadata": {},
   "source": [
    "**Example:** this is an alternative implementation, using `continue` (which skips the remainder of the loop and goes back to `while`) and `break`. The `break` only exits the innermost loop. Potential other loops are not exited."
   ]
  },
  {
   "cell_type": "code",
   "execution_count": 64,
   "metadata": {},
   "outputs": [
    {
     "name": "stdout",
     "output_type": "stream",
     "text": [
      "Enter an integer between 0 and 9: 3\n",
      "Thank you. You entered 3.\n"
     ]
    }
   ],
   "source": [
    "while True:  # Change to True to run.\n",
    "    x = float(input(\"Enter an integer between 0 and 9: \"))\n",
    "    if x.is_integer():\n",
    "        if x < 0:\n",
    "            print(\"You have entered a negative number.\")\n",
    "            continue  # Skip remainder of loop body and go back to `while`.\n",
    "        if x > 9:\n",
    "            print(\"You have entered a number greater than 9.\")\n",
    "            continue\n",
    "    else:\n",
    "        print(\"This is not an integer.\")\n",
    "        continue\n",
    "    x = int(x)\n",
    "    print(\"Thank you. You entered %s.\" % x)\n",
    "    break  # Exit innermost enclosing loop."
   ]
  },
  {
   "cell_type": "markdown",
   "metadata": {},
   "source": [
    "## `for` loops\n",
    "\n",
    "A `for` loop can only iterate over iterable objects, or simply called iterables. Examples of iterables are lists, strings and tuples:"
   ]
  },
  {
   "cell_type": "markdown",
   "metadata": {},
   "source": [
    "**Example:** a simple `for` loop iterating over a string, including a conditional `break`. In this example `letter` is called the loop variable. Every time the loop body is executed, the loop variable assumes the next value of the sequence."
   ]
  },
  {
   "cell_type": "code",
   "execution_count": 65,
   "metadata": {
    "scrolled": true
   },
   "outputs": [
    {
     "name": "stdout",
     "output_type": "stream",
     "text": [
      "P\n",
      "y\n",
      "t\n",
      "h\n"
     ]
    }
   ],
   "source": [
    "for letter in \"Python\":\n",
    "    if letter == 'o':\n",
    "        break\n",
    "    print(letter)"
   ]
  },
  {
   "cell_type": "markdown",
   "metadata": {
    "slideshow": {
     "slide_type": "slide"
    }
   },
   "source": [
    "**Example:** `for` loops are typically used to execute a block of code a pre-specified number of times. Note that for a conditional block consisting of a single line, after the colon there is no need for an Enter and Tab. "
   ]
  },
  {
   "cell_type": "code",
   "execution_count": 66,
   "metadata": {},
   "outputs": [
    {
     "name": "stdout",
     "output_type": "stream",
     "text": [
      "[0, 1, 4, 9, 16, 25, 36, 49, 64, 81]\n"
     ]
    }
   ],
   "source": [
    "squares = [] # Creating an empty list, which will be filled in the for loop.\n",
    "\n",
    "for i in [0,1,2,3,4,5,6,7,8,9]: squares.append(i**2)\n",
    "    \n",
    "print(squares)"
   ]
  },
  {
   "cell_type": "markdown",
   "metadata": {},
   "source": [
    "**Example:** the built-in function `range` creates a lazy iterable object. It is lazy because the elements of the object are only created when they are called. Ranges can be turned into other iterable objects, like lists. Iterating over them in a `for`-loop can be done directly."
   ]
  },
  {
   "cell_type": "code",
   "execution_count": 67,
   "metadata": {},
   "outputs": [
    {
     "name": "stdout",
     "output_type": "stream",
     "text": [
      "[0, 1, 2, 3, 4, 5, 6, 7, 8, 9]\n",
      "(0, 1, 2, 3, 4, 5, 6, 7, 8, 9)\n",
      "{0, 1, 2, 3, 4, 5, 6, 7, 8, 9}\n",
      "[3, 4, 5, 6, 7, 8, 9]\n",
      "[3, 6, 9]\n",
      "3\n",
      "6\n",
      "9\n"
     ]
    }
   ],
   "source": [
    "print(list(range(10))) # Turning a range into a list. \n",
    "print(tuple(range(10))) # Turning a range into a tuple.\n",
    "print(set(range(10))) # Turning a range into a set.\n",
    "print(list(range(3,10))) # Defining a range with an (optional) starting point and a (required) end point.\n",
    "print(list(range(3,10,3))) # Defining a range with an (optional) step size.\n",
    "\n",
    "for i in range(3,10,3): # Using a for loop to iterate over a range.\n",
    "    print(i)"
   ]
  },
  {
   "cell_type": "markdown",
   "metadata": {},
   "source": [
    "**Exercise 27:** what is computed in the cell below?"
   ]
  },
  {
   "cell_type": "code",
   "execution_count": 68,
   "metadata": {},
   "outputs": [
    {
     "name": "stdout",
     "output_type": "stream",
     "text": [
      "5040\n"
     ]
    }
   ],
   "source": [
    "n = 7\n",
    "f = 1\n",
    "\n",
    "for i in range(n):\n",
    "    f *= i+1\n",
    "    \n",
    "print(f)"
   ]
  },
  {
   "cell_type": "markdown",
   "metadata": {},
   "source": [
    "Answer: 7 factorial."
   ]
  },
  {
   "cell_type": "markdown",
   "metadata": {},
   "source": [
    "**Exercise 28:** use the earlier defined `digit_to_word` dictionary to print all digits (0,1,...,9) whose corresponding word as defined in `digit_to_word` consists of exactly four letters. Print both the digit and the word. (Hint: a dictionary is already an iterable object. In a for loop the keys become the loop variable.)"
   ]
  },
  {
   "cell_type": "code",
   "execution_count": 71,
   "metadata": {},
   "outputs": [
    {
     "data": {
      "text/plain": [
       "{0: 'zero',\n",
       " 1: 'one',\n",
       " 2: 'two',\n",
       " 3: 'three',\n",
       " 4: 'four',\n",
       " 5: 'five',\n",
       " 6: 'six',\n",
       " 7: 'seven',\n",
       " 8: 'eight',\n",
       " 9: 'nine'}"
      ]
     },
     "execution_count": 71,
     "metadata": {},
     "output_type": "execute_result"
    }
   ],
   "source": [
    "digit_to_word"
   ]
  },
  {
   "cell_type": "code",
   "execution_count": 72,
   "metadata": {},
   "outputs": [
    {
     "name": "stdout",
     "output_type": "stream",
     "text": [
      "0 zero\n",
      "4 four\n",
      "5 five\n",
      "9 nine\n"
     ]
    }
   ],
   "source": [
    "for key in digit_to_word: # The keys of a dictionary are automatically the loop variable.\n",
    "    if len(digit_to_word[key]) == 4:\n",
    "        print(key, digit_to_word[key])"
   ]
  },
  {
   "cell_type": "code",
   "execution_count": 73,
   "metadata": {},
   "outputs": [
    {
     "name": "stdout",
     "output_type": "stream",
     "text": [
      "0 zero\n",
      "4 four\n",
      "5 five\n",
      "9 nine\n"
     ]
    }
   ],
   "source": [
    "# A more elegant solution to the exercise above.\n",
    "for key, value in digit_to_word.items():\n",
    "    if len(value) == 4:\n",
    "        print(key, value)"
   ]
  },
  {
   "cell_type": "markdown",
   "metadata": {},
   "source": [
    "## List, set and dict comprehensions\n",
    "\n",
    "Comprehensions are syntactical expressions for creating new lists, sets or dictionaries. They are used often, because they make a code concise and readable."
   ]
  },
  {
   "cell_type": "markdown",
   "metadata": {},
   "source": [
    "**Example:** a list comprehension is always of the same form, with an (optional) condition at the end. "
   ]
  },
  {
   "cell_type": "code",
   "execution_count": 74,
   "metadata": {},
   "outputs": [
    {
     "name": "stdout",
     "output_type": "stream",
     "text": [
      "[0.0, 1.0, 1.4142135623730951, 1.7320508075688772, 2.0, 2.23606797749979]\n",
      "['CAT', 'RABBIT', '22']\n"
     ]
    }
   ],
   "source": [
    "print([x**(1/2) for x in range(6)])\n",
    "\n",
    "list1 = ['cat', (1,'dog'), 999, 'rabbit', str(22)]\n",
    "\n",
    "print([x.upper() for x in list1 if isinstance(x, str)])  # List comprehension with a conditional expression."
   ]
  },
  {
   "cell_type": "markdown",
   "metadata": {},
   "source": [
    "**Exercise 29:** create a list with all powers of 3 between 100 and 100000 (including the boundaries of the interval)."
   ]
  },
  {
   "cell_type": "code",
   "execution_count": 75,
   "metadata": {},
   "outputs": [
    {
     "data": {
      "text/plain": [
       "[243, 729, 2187, 6561, 19683, 59049]"
      ]
     },
     "execution_count": 75,
     "metadata": {},
     "output_type": "execute_result"
    }
   ],
   "source": [
    "[3**x for x in range(1, 15) if 3**x >= 100 and 3**x <= 100000] # The choices for 1 and 15 are a bit random, but save."
   ]
  },
  {
   "cell_type": "markdown",
   "metadata": {},
   "source": [
    "**Exercise 30:** use list comprehension to calculate the average length of the words in `list2` defined below."
   ]
  },
  {
   "cell_type": "code",
   "execution_count": 76,
   "metadata": {},
   "outputs": [
    {
     "data": {
      "text/plain": [
       "3.857142857142857"
      ]
     },
     "execution_count": 76,
     "metadata": {},
     "output_type": "execute_result"
    }
   ],
   "source": [
    "list2 = ['a','as','bat','car','dove','python','aligator']\n",
    "\n",
    "sum([len(x) for x in list2])/len(list2)"
   ]
  },
  {
   "cell_type": "markdown",
   "metadata": {},
   "source": [
    "**Exercise 31:** set comprehension has the same syntax as list comprehension (with the `[]` replaced by `{}`). Use set comprehension to get a list of occuring lengths of the words in `list2`."
   ]
  },
  {
   "cell_type": "code",
   "execution_count": 77,
   "metadata": {},
   "outputs": [
    {
     "data": {
      "text/plain": [
       "[1, 2, 3, 4, 6, 8]"
      ]
     },
     "execution_count": 77,
     "metadata": {},
     "output_type": "execute_result"
    }
   ],
   "source": [
    "list({len(x) for x in list2})"
   ]
  },
  {
   "cell_type": "markdown",
   "metadata": {},
   "source": [
    "**Exercise 32:** dict comprehension has the same syntax as set comprehension (obviously, the expression part will now have the form `key : value`). Create a dictionary with the words of `list2` as keys and the length of the words as values. Exclude words that have less than 3 characters. (Hint: see p. 67 of McKinney)"
   ]
  },
  {
   "cell_type": "code",
   "execution_count": 78,
   "metadata": {},
   "outputs": [
    {
     "data": {
      "text/plain": [
       "{'bat': 3, 'car': 3, 'dove': 4, 'python': 6, 'aligator': 8}"
      ]
     },
     "execution_count": 78,
     "metadata": {},
     "output_type": "execute_result"
    }
   ],
   "source": [
    "{x : len(x) for x in list2 if len(x) > 2}"
   ]
  },
  {
   "cell_type": "markdown",
   "metadata": {},
   "source": [
    "# 4. Binding names and mutable/immutable objects\n",
    "\n",
    "Expressions of the form `name1 = object1` assign names (`name1`) to Python objects (`object1`). The names are also called variables and instead of assigning we talk of binding. What happens when you bind a name to an object, is that the Python object is stored in the memory of your machine and the name/variable is a reference to the object stored in the memory. When you execute `name2 = name1`, then both names are referring to the same object in memory (there is no copy of the object created).\n",
    "\n",
    "There is a fundamental difference between mutable object types and immutable object types. After binding a name to a mutable object (i.e. store this object in the memory of your machine), the object can still be changed while keeping the same location in the memory of your machine and keeping the same name that is referring to this object. For immutable objects, this is not possible. \"Changing\" an immutable object always means creating a new object in memory. The name will subsequently refer to the new object. Examples of mutable objects are lists, dicts and NumPy arrays (see below). Examples of immutable objects are ints, strings and tuples."
   ]
  },
  {
   "cell_type": "markdown",
   "metadata": {},
   "source": [
    "**Example:** run the cell below. In this example, the variables `a` and `b` are referring to the same object in the sense that they are associated with the same object in the memory of your machine. This is not the case for `c`. Notice that by appending 4 to `a`, one merely changes the already existing object that both `a` and `b` are referring to. One does not create a new object. Hence `b` is now referring to a list of length 4."
   ]
  },
  {
   "cell_type": "code",
   "execution_count": 79,
   "metadata": {
    "scrolled": true
   },
   "outputs": [
    {
     "name": "stdout",
     "output_type": "stream",
     "text": [
      "[1, 2, 3, 4]\n",
      "[1, 2, 3, 4]\n",
      "[1, 2, 3]\n"
     ]
    }
   ],
   "source": [
    "a = [1,2,3]\n",
    "b = a\n",
    "c = [1,2,3]\n",
    "a.append(4)\n",
    "\n",
    "print(a)\n",
    "print(b)\n",
    "print(c)"
   ]
  },
  {
   "cell_type": "markdown",
   "metadata": {},
   "source": [
    "**Example:** run the cell below. Notice a fundamental difference with the previous example. By adding 1 to the object that `a` is referring to, one creates a new object in the memory of your machine. `a` now refers to the new object (an integer with value 5), while `b` still refers to the old object. Actually, `b` and `c` are referring to the same object: it is the unique integer type object with value 4. One can verify this by using the built-in function `id`, which gives the integer that is guaranteed to be unique for the object during its lifetime."
   ]
  },
  {
   "cell_type": "code",
   "execution_count": 80,
   "metadata": {},
   "outputs": [
    {
     "name": "stdout",
     "output_type": "stream",
     "text": [
      "5\n",
      "4\n",
      "4\n",
      "4369995008\n",
      "4369994976\n",
      "4369994976\n"
     ]
    }
   ],
   "source": [
    "a = 4\n",
    "b = a\n",
    "c = 4\n",
    "\n",
    "a += 1 # In this line, one creates a new object in the memory of the machine.\n",
    "\n",
    "print(a)\n",
    "print(b)\n",
    "print(c)\n",
    "\n",
    "print(id(a))\n",
    "print(id(b))\n",
    "print(id(c))"
   ]
  },
  {
   "cell_type": "markdown",
   "metadata": {},
   "source": [
    "**Exercise 33:** although a tuple is immutable, the elements of a tuple can be of mutable type. Verify this by appending the integer 4 to the list in the tuple `t1` defined below and printing `t1` afterwards."
   ]
  },
  {
   "cell_type": "code",
   "execution_count": 81,
   "metadata": {},
   "outputs": [
    {
     "data": {
      "text/plain": [
       "(3.4, 'abc', [1, 2, 3, 4], {'a': 'Amsterdam', 'b': 'Berlin'})"
      ]
     },
     "execution_count": 81,
     "metadata": {},
     "output_type": "execute_result"
    }
   ],
   "source": [
    "t1 = (3.4, 'abc', [1,2,3], {'a' : 'Amsterdam', 'b' : 'Berlin'})\n",
    "\n",
    "t1[2].append(4)\n",
    "\n",
    "t1"
   ]
  },
  {
   "cell_type": "markdown",
   "metadata": {},
   "source": [
    "## Clearing\n",
    "\n",
    "It is also possible to delete an object from memory. The name(s) that was/were bound to that object, become(s) free again."
   ]
  },
  {
   "cell_type": "markdown",
   "metadata": {},
   "source": [
    "**Example:** one can clear memory by using `del`."
   ]
  },
  {
   "cell_type": "code",
   "execution_count": 82,
   "metadata": {},
   "outputs": [
    {
     "name": "stdout",
     "output_type": "stream",
     "text": [
      "abc\n"
     ]
    },
    {
     "ename": "NameError",
     "evalue": "name 'b' is not defined",
     "output_type": "error",
     "traceback": [
      "\u001b[0;31m---------------------------------------------------------------------------\u001b[0m",
      "\u001b[0;31mNameError\u001b[0m                                 Traceback (most recent call last)",
      "\u001b[0;32m<ipython-input-82-52a8404a0e76>\u001b[0m in \u001b[0;36m<module>\u001b[0;34m\u001b[0m\n\u001b[1;32m      6\u001b[0m \u001b[0;34m\u001b[0m\u001b[0m\n\u001b[1;32m      7\u001b[0m \u001b[0mprint\u001b[0m\u001b[0;34m(\u001b[0m\u001b[0ma\u001b[0m\u001b[0;34m)\u001b[0m\u001b[0;34m\u001b[0m\u001b[0;34m\u001b[0m\u001b[0m\n\u001b[0;32m----> 8\u001b[0;31m \u001b[0mprint\u001b[0m\u001b[0;34m(\u001b[0m\u001b[0mb\u001b[0m\u001b[0;34m)\u001b[0m\u001b[0;34m\u001b[0m\u001b[0;34m\u001b[0m\u001b[0m\n\u001b[0m\u001b[1;32m      9\u001b[0m \u001b[0mprint\u001b[0m\u001b[0;34m(\u001b[0m\u001b[0mc\u001b[0m\u001b[0;34m)\u001b[0m\u001b[0;34m\u001b[0m\u001b[0;34m\u001b[0m\u001b[0m\n",
      "\u001b[0;31mNameError\u001b[0m: name 'b' is not defined"
     ]
    }
   ],
   "source": [
    "a = 'abc'\n",
    "b = ['a','b','c']\n",
    "c = 'a', 'b', 'c'\n",
    "\n",
    "del b, c\n",
    "\n",
    "print(a)\n",
    "print(b)\n",
    "print(c)"
   ]
  },
  {
   "cell_type": "markdown",
   "metadata": {},
   "source": [
    "# 5. Functions\n",
    "\n",
    "Besides built-in functions and methods, Python also allows for user-defined functions. One of the main advantages of functions is that they make code better readable and amendable. Whenever you (potentially) need to execute a certain routine in your code more than once, it is probably useful to convey it in a function. In this course, we will heavily rely on user-defined functions."
   ]
  },
  {
   "cell_type": "markdown",
   "metadata": {
    "slideshow": {
     "slide_type": "slide"
    }
   },
   "source": [
    "## Defining Functions\n",
    "\n",
    "User-defined functions are declared using the `def` keyword. The output of a function is declared by the `return` statement."
   ]
  },
  {
   "cell_type": "markdown",
   "metadata": {},
   "source": [
    "**Example:** functions can have zero, one, two, etc., arguments. The arguments are ordered. Here an example of a function with two arguments. In the first cell we define the function, while in the second cell we call it. Note the use of the colon and tabs."
   ]
  },
  {
   "cell_type": "code",
   "execution_count": 83,
   "metadata": {},
   "outputs": [],
   "source": [
    "def mypower(a, b):\n",
    "    return a**b"
   ]
  },
  {
   "cell_type": "code",
   "execution_count": 84,
   "metadata": {},
   "outputs": [
    {
     "data": {
      "text/plain": [
       "9"
      ]
     },
     "execution_count": 84,
     "metadata": {},
     "output_type": "execute_result"
    }
   ],
   "source": [
    "mypower(3,2) # Calling the function"
   ]
  },
  {
   "cell_type": "markdown",
   "metadata": {},
   "source": [
    "**Example:** a function can also have multiple output arguments. They are returned as a tuple."
   ]
  },
  {
   "cell_type": "code",
   "execution_count": 85,
   "metadata": {},
   "outputs": [
    {
     "data": {
      "text/plain": [
       "(3, -1)"
      ]
     },
     "execution_count": 85,
     "metadata": {},
     "output_type": "execute_result"
    }
   ],
   "source": [
    "def plusminus(a, b):\n",
    "    \"\"\"This is the docstring of the function plusminus.\"\"\"\n",
    "    return a+b, a-b\n",
    "\n",
    "c, d = plusminus(1, 2)\n",
    "\n",
    "c, d"
   ]
  },
  {
   "cell_type": "markdown",
   "metadata": {},
   "source": [
    "**Exercise 34:** run the following cell. Using the `?` gives you information about the object. You can apply the `?` to any Python object to retrieve information. Note the docstring that we created in the example above. Docstrings are a tool for creating a proper documentation of your code, which is indispensable as soon as your Python project grows and/or multiple people need to use the code."
   ]
  },
  {
   "cell_type": "code",
   "execution_count": 86,
   "metadata": {},
   "outputs": [],
   "source": [
    "plusminus?"
   ]
  },
  {
   "cell_type": "markdown",
   "metadata": {},
   "source": [
    "**Example:** a function can have multiple `return` statements. As soon as a `return` statement is encountered, the function is exited. If no `return` statement is encountered, the function output is `None`."
   ]
  },
  {
   "cell_type": "code",
   "execution_count": 87,
   "metadata": {},
   "outputs": [
    {
     "name": "stdout",
     "output_type": "stream",
     "text": [
      "Negative\n",
      "None\n"
     ]
    }
   ],
   "source": [
    "def signtest(a):\n",
    "    if a > 0:\n",
    "        return 'Positive'\n",
    "    if a < 0:\n",
    "        return 'Negative'\n",
    "    \n",
    "print(signtest(-1.2))\n",
    "\n",
    "print(signtest(0)) # Function output is None, since no return statement is encountered."
   ]
  },
  {
   "cell_type": "markdown",
   "metadata": {},
   "source": [
    "**Example:** instead of positional arguments, we can also pass keyword arguments (using the `=` sign). For keyword arguments, the order does not matter. But positional arguments always need to precede keyword argument. "
   ]
  },
  {
   "cell_type": "code",
   "execution_count": 88,
   "metadata": {
    "scrolled": true,
    "slideshow": {
     "slide_type": "-"
    }
   },
   "outputs": [
    {
     "data": {
      "text/plain": [
       "9"
      ]
     },
     "execution_count": 88,
     "metadata": {},
     "output_type": "execute_result"
    }
   ],
   "source": [
    "mypower(b=2, a=3) # For keyword arguments the order does not matter."
   ]
  },
  {
   "cell_type": "markdown",
   "metadata": {},
   "source": [
    "**Example:** if often happens that keyword arguments are used in the definition of a function. In that case they are used to specify default values for an argument."
   ]
  },
  {
   "cell_type": "code",
   "execution_count": 89,
   "metadata": {},
   "outputs": [
    {
     "name": "stdout",
     "output_type": "stream",
     "text": [
      "9\n",
      "9\n",
      "9\n",
      "9\n"
     ]
    }
   ],
   "source": [
    "def mypower(x, y=2):  # Positional (nonkeyword) arguments always precede keyword arguments.\n",
    "    return x**y \n",
    "\n",
    "print(mypower(3))\n",
    "print(mypower(3, 2))\n",
    "print(mypower(3, y=2))\n",
    "print(mypower(y=2, x=3))"
   ]
  },
  {
   "cell_type": "markdown",
   "metadata": {},
   "source": [
    "## Calling scope"
   ]
  },
  {
   "cell_type": "markdown",
   "metadata": {
    "slideshow": {
     "slide_type": "slide"
    }
   },
   "source": [
    "**Example:** variables/name defined inside functions are local (not visible in the calling scope)."
   ]
  },
  {
   "cell_type": "code",
   "execution_count": 90,
   "metadata": {},
   "outputs": [
    {
     "ename": "NameError",
     "evalue": "name 'z' is not defined",
     "output_type": "error",
     "traceback": [
      "\u001b[0;31m---------------------------------------------------------------------------\u001b[0m",
      "\u001b[0;31mNameError\u001b[0m                                 Traceback (most recent call last)",
      "\u001b[0;32m<ipython-input-90-3319a4aae56b>\u001b[0m in \u001b[0;36m<module>\u001b[0;34m\u001b[0m\n\u001b[1;32m      4\u001b[0m \u001b[0mf\u001b[0m\u001b[0;34m(\u001b[0m\u001b[0;34m)\u001b[0m \u001b[0;31m# In this line, we execute a function with zero arguments.\u001b[0m\u001b[0;34m\u001b[0m\u001b[0;34m\u001b[0m\u001b[0m\n\u001b[1;32m      5\u001b[0m \u001b[0;34m\u001b[0m\u001b[0m\n\u001b[0;32m----> 6\u001b[0;31m \u001b[0mz\u001b[0m \u001b[0;31m# We get an error, because z is not globally defined.\u001b[0m\u001b[0;34m\u001b[0m\u001b[0;34m\u001b[0m\u001b[0m\n\u001b[0m",
      "\u001b[0;31mNameError\u001b[0m: name 'z' is not defined"
     ]
    }
   ],
   "source": [
    "def f():\n",
    "    z = 1\n",
    "    \n",
    "f() # In this line, we execute a function with zero arguments.\n",
    "\n",
    "z # We get an error, because z is not globally defined."
   ]
  },
  {
   "cell_type": "markdown",
   "metadata": {
    "slideshow": {
     "slide_type": "slide"
    }
   },
   "source": [
    "**Example:** Python uses a *calling convention* known as *call by object reference*. This means that any modifications a function makes to its (mutable) arguments are visible to the caller (i.e., outside the function)."
   ]
  },
  {
   "cell_type": "code",
   "execution_count": 91,
   "metadata": {},
   "outputs": [
    {
     "name": "stdout",
     "output_type": "stream",
     "text": [
      "x = [2]\n"
     ]
    }
   ],
   "source": [
    "x = [1]\n",
    "\n",
    "def f(y):\n",
    "    y[0] = 2\n",
    "    \n",
    "f(x) \n",
    "\n",
    "print('x = {}'.format(x))  # Note that x has been modified in the calling scope."
   ]
  },
  {
   "cell_type": "markdown",
   "metadata": {
    "slideshow": {
     "slide_type": "slide"
    }
   },
   "source": [
    "## Closures\n",
    "\n",
    "Functions are *first class objects* in Python. This implies, inter alia, that functions can return other functions. Such functions are called *closures*, because they close around (capture) the local variables of the enclosing function. Later in the course, we will use closures numerous times."
   ]
  },
  {
   "cell_type": "markdown",
   "metadata": {},
   "source": [
    "**Example:** the function `makemultiplier` returns a function `multiplier` that multiplies a numeric input with a pre-specified factor."
   ]
  },
  {
   "cell_type": "code",
   "execution_count": 92,
   "metadata": {},
   "outputs": [
    {
     "name": "stdout",
     "output_type": "stream",
     "text": [
      "15\n"
     ]
    },
    {
     "data": {
      "text/plain": [
       "function"
      ]
     },
     "execution_count": 92,
     "metadata": {},
     "output_type": "execute_result"
    }
   ],
   "source": [
    "def makemultiplier(factor):\n",
    "    \n",
    "    def multiplier(x):\n",
    "        return x*factor\n",
    "    \n",
    "    return multiplier\n",
    "\n",
    "timesfive = makemultiplier(5) # Creating a function that multiples times 5.\n",
    "\n",
    "print(timesfive(3))\n",
    "type(timesfive)"
   ]
  },
  {
   "cell_type": "markdown",
   "metadata": {},
   "source": [
    "## Practicing with functions"
   ]
  },
  {
   "cell_type": "markdown",
   "metadata": {},
   "source": [
    "**Exercise 35:** create a function called `digit_word_switch` that translates integer digits (0, 1, ..., 9) to the associated words ('zero', 'one, ..., 'nine') and vice versa. If the input is neither a valid digit, nor a valid word, the function should print the sentence 'Your input cannot be interpreted' and return `None`. To test your function, run the second cell below and inspect the output. (Hint: use the earlier defined dictionaries `digit_to_word` and `word_to_digit`)."
   ]
  },
  {
   "cell_type": "code",
   "execution_count": 93,
   "metadata": {},
   "outputs": [],
   "source": [
    "def digit_word_switch(input_var):\n",
    "    \n",
    "    if not input_var in list(digit_to_word.keys()) + list(digit_to_word.values()):\n",
    "        print('Your input cannot be interpreted.')\n",
    "        return None\n",
    "    \n",
    "    if input_var in list(digit_to_word.keys()):\n",
    "        return digit_to_word[input_var]\n",
    "    else:\n",
    "        return word_to_digit[input_var]"
   ]
  },
  {
   "cell_type": "code",
   "execution_count": 94,
   "metadata": {},
   "outputs": [
    {
     "name": "stdout",
     "output_type": "stream",
     "text": [
      "Your input cannot be interpreted.\n",
      "Your input cannot be interpreted.\n",
      "Your input cannot be interpreted.\n",
      "Your input cannot be interpreted.\n",
      "Your input cannot be interpreted.\n"
     ]
    },
    {
     "data": {
      "text/plain": [
       "['zero', 4, None, 9, 'nine', None, None, 'seven', None, None]"
      ]
     },
     "execution_count": 94,
     "metadata": {},
     "output_type": "execute_result"
    }
   ],
   "source": [
    "test_set = [0, 'four', -3, 'nine', 9, [2], 'Two',7,{2}, 'abc']\n",
    "\n",
    "[digit_word_switch(i) for i in test_set]"
   ]
  },
  {
   "cell_type": "markdown",
   "metadata": {},
   "source": [
    "**Example:** the function `error` computes the mean squared error ('mse') between two equal-length lists of numeric values. One can think of them as the observed data and the predicted data based on some model. "
   ]
  },
  {
   "cell_type": "code",
   "execution_count": 95,
   "metadata": {},
   "outputs": [
    {
     "data": {
      "text/plain": [
       "1.4427715000000003"
      ]
     },
     "execution_count": 95,
     "metadata": {},
     "output_type": "execute_result"
    }
   ],
   "source": [
    "observed_data = [1.0, 1.22, -2, 4.3, 9, 0.5, -1.1, -3.1, -1.2, 2.22, -4.3, 1, 11.5, 1] # Example data\n",
    "predicted_data1 = [1.1, 1.2, 2.1, 4.1, 8, 1.2, -1.4, -3.2, -1.1, 2, -4.3, 1, 10.2, 1.001] # Example data\n",
    "predicted_data2 = [1.1, '1.2', 2.1, 4.1, 8, 1.2, None, -3.2, -1.1, 2, -4.3, 1, 10.2, 1.001] # Example data\n",
    "\n",
    "def error(observed_data, predicted_data, error_function='mse'):\n",
    "    \n",
    "    if len(observed_data) != len(predicted_data):\n",
    "        print('Lengths of prediction and real data do not match.')\n",
    "        return None\n",
    "    \n",
    "    n = len(observed_data)\n",
    "    differences = [predicted_data[i]-observed_data[i] for i in range(n)]\n",
    "    \n",
    "    if error_function == 'mse':\n",
    "        return sum([x**2 for x in differences])/n        \n",
    "\n",
    "error(observed_data, predicted_data1) # Testing the function on the example data."
   ]
  },
  {
   "cell_type": "markdown",
   "metadata": {},
   "source": [
    "**Exercise 36:** improve the function `error` such that:\n",
    "* it checks whether all objects in the input lists are integer or float. If this is not the case, then it prints 'Input data is corrupted' and returns `None`. Check your adjustments by using `prediction_data2` as one of the inputs.\n",
    "* depending on the keyword argument ``error_function=``, it can also calculate the root mean squared error ('rmse'), the mean absolute error ('mae') and the bias ('bias'). The latter is simply the average difference between the predicted and observed values."
   ]
  },
  {
   "cell_type": "code",
   "execution_count": 96,
   "metadata": {},
   "outputs": [
    {
     "name": "stdout",
     "output_type": "stream",
     "text": [
      "0.13292857142857134\n",
      "Input data is corrupted.\n",
      "None\n"
     ]
    }
   ],
   "source": [
    "def error(observed_data, predicted_data, error_function='mse'):\n",
    "    \n",
    "    if len(observed_data) != len(predicted_data):\n",
    "        print('Lengths of prediction and real data do not match.')\n",
    "        return None\n",
    "    \n",
    "    n = len(observed_data)\n",
    "    \n",
    "    if not all([isinstance(x, int) or isinstance(x, float) for x in observed_data + predicted_data]):\n",
    "        print('Input data is corrupted.')\n",
    "        return None\n",
    "    \n",
    "    differences = [predicted_data[i]-observed_data[i] for i in range(n)]\n",
    "    \n",
    "    if error_function == 'mse':\n",
    "        return sum([x**2 for x in differences])/n        \n",
    "    if error_function == 'rmse':\n",
    "        return (sum([x**2 for x in differences])/n)**(1/2)        \n",
    "    if error_function == 'mae':\n",
    "        return sum([abs(x) for x in differences])/n        \n",
    "    if error_function == 'bias':\n",
    "        return sum(differences)/n        \n",
    "\n",
    "print(error(observed_data, predicted_data1, error_function='bias'))\n",
    "print(error(observed_data, predicted_data2, error_function='bias'))"
   ]
  },
  {
   "cell_type": "markdown",
   "metadata": {},
   "source": [
    "# 6. The NumPy library"
   ]
  },
  {
   "cell_type": "markdown",
   "metadata": {
    "slideshow": {
     "slide_type": "slide"
    }
   },
   "source": [
    "## Modules\n",
    "\n",
    "Apart from the built-in objects, functions, etc. of the Python Standard Library, packages and modules for additional functionality need to be imported. Most of the packages/modules relevant for this course come preinstalled with Anaconda.\n"
   ]
  },
  {
   "cell_type": "markdown",
   "metadata": {},
   "source": [
    "**Example:** importing modules can be done with `import`. There are some conventions for the shorthands of some packages (e.g., `np` for `numpy`). Following them improves code readability. For the same reason, it is good practice to put your `import` statements at the beginning of your document (which we didn't do in this notebook)."
   ]
  },
  {
   "cell_type": "code",
   "execution_count": 97,
   "metadata": {},
   "outputs": [
    {
     "name": "stdout",
     "output_type": "stream",
     "text": [
      "5040\n",
      "1.4142135623730951\n",
      "1.4142135623730951\n",
      "1.4142135623730951\n"
     ]
    }
   ],
   "source": [
    "import math  # Importing the math module of the Python Standard Library.\n",
    "import numpy as np # Importing the NumPy module and giving it the conventional shorthand name np.\n",
    "\n",
    "print(math.factorial(7)) # Calling functions from the math modules requires the math.-prefix.\n",
    "\n",
    "# Note that the following functions are not the same functions, because they are defined in different modules.\n",
    "print(2**(1/2)) # Using Python's basic arithmetic functionality\n",
    "print(math.sqrt(2)) # Using the square root function of math\n",
    "print(np.sqrt(2)) # Using the square root function of NumPy"
   ]
  },
  {
   "cell_type": "markdown",
   "metadata": {},
   "source": [
    "**Exercise 37:** you can use *tab completion* to discover which functions are defined by the math module: type `math.` and press the Tab key. Alternatively, use dir(math). Try both options!"
   ]
  },
  {
   "cell_type": "code",
   "execution_count": null,
   "metadata": {},
   "outputs": [],
   "source": []
  },
  {
   "cell_type": "markdown",
   "metadata": {
    "slideshow": {
     "slide_type": "slide"
    }
   },
   "source": [
    "**Example:**  note that importing the package/module does not bring the functions into the *global namespace*: they need to be called as `module.function()`. It is possible to bring a function into the global namespace (see example below). Heavy use of this option is discouraged, because it can lead to confusion and/or conflicting functions names."
   ]
  },
  {
   "cell_type": "code",
   "execution_count": 98,
   "metadata": {},
   "outputs": [
    {
     "data": {
      "text/plain": [
       "5040"
      ]
     },
     "execution_count": 98,
     "metadata": {},
     "output_type": "execute_result"
    }
   ],
   "source": [
    "from math import factorial # Importing the math-function factorial into the global namespace\n",
    "\n",
    "factorial(7)"
   ]
  },
  {
   "cell_type": "markdown",
   "metadata": {},
   "source": [
    "## Numpy's ndarray\n",
    "\n",
    "Arguably the most important object of the NumPy package is its N-dimensional array object, or ndarray. Using them is efficient in two ways:\n",
    "* they are easy/intuitive to use and very flexible, meaning that there is an implementation for most operations you can think of.\n",
    "* they are computationally efficient (i.e. much faster than Python's standard objects, like lists and tuples)."
   ]
  },
  {
   "cell_type": "markdown",
   "metadata": {},
   "source": [
    "**Example:** the NumPy function `array` converts the input data (e.g. list, tuple, array, or other sequence type) to an ndarray."
   ]
  },
  {
   "cell_type": "code",
   "execution_count": 99,
   "metadata": {},
   "outputs": [
    {
     "data": {
      "text/plain": [
       "array([ 1. ,  5.1, -8.9,  0.2])"
      ]
     },
     "execution_count": 99,
     "metadata": {},
     "output_type": "execute_result"
    }
   ],
   "source": [
    "arr1 = np.array([1.0, 5.1, -8.9, 0.2])\n",
    "arr2 = np.array([[1,2,3,4],[5,6,7,8]])\n",
    "\n",
    "arr1"
   ]
  },
  {
   "cell_type": "code",
   "execution_count": 100,
   "metadata": {},
   "outputs": [
    {
     "data": {
      "text/plain": [
       "array([[1, 2, 3, 4],\n",
       "       [5, 6, 7, 8]])"
      ]
     },
     "execution_count": 100,
     "metadata": {},
     "output_type": "execute_result"
    }
   ],
   "source": [
    "arr2"
   ]
  },
  {
   "cell_type": "markdown",
   "metadata": {},
   "source": [
    "**Example:** the objects `arr1` and `arr2` are of ndarray type."
   ]
  },
  {
   "cell_type": "code",
   "execution_count": 101,
   "metadata": {},
   "outputs": [
    {
     "name": "stdout",
     "output_type": "stream",
     "text": [
      "True\n"
     ]
    },
    {
     "data": {
      "text/plain": [
       "numpy.ndarray"
      ]
     },
     "execution_count": 101,
     "metadata": {},
     "output_type": "execute_result"
    }
   ],
   "source": [
    "print(isinstance(arr1, np.ndarray))\n",
    "\n",
    "type(arr2)"
   ]
  },
  {
   "cell_type": "markdown",
   "metadata": {},
   "source": [
    "**Example:** all ndarrays have attributes dimension (`ndim`), shape (`shape`) and type of data that it contains (`dtype`). "
   ]
  },
  {
   "cell_type": "code",
   "execution_count": 102,
   "metadata": {},
   "outputs": [
    {
     "name": "stdout",
     "output_type": "stream",
     "text": [
      "1\n",
      "(4,)\n",
      "float64\n",
      "2\n",
      "(2, 4)\n",
      "int64\n"
     ]
    }
   ],
   "source": [
    "print(arr1.ndim)\n",
    "print(arr1.shape)\n",
    "print(arr1.dtype)\n",
    "\n",
    "print(arr2.ndim)\n",
    "print(arr2.shape)\n",
    "print(arr2.dtype)"
   ]
  },
  {
   "cell_type": "markdown",
   "metadata": {},
   "source": [
    "**Example:** an ndarray is a container for homogeneous data, meaning that all data must be of the same type. It is important to keep this in mind, because Python will automatically transform data when uploaded into an ndarray. Using the `dtype` keyword in the `array` function, you can overrule this."
   ]
  },
  {
   "cell_type": "code",
   "execution_count": 103,
   "metadata": {},
   "outputs": [
    {
     "data": {
      "text/plain": [
       "array([1., 2., 3., 4.])"
      ]
     },
     "execution_count": 103,
     "metadata": {},
     "output_type": "execute_result"
    }
   ],
   "source": [
    "np.array([1, 2, 3, 4.0])"
   ]
  },
  {
   "cell_type": "code",
   "execution_count": 104,
   "metadata": {},
   "outputs": [
    {
     "data": {
      "text/plain": [
       "array([1, 2, 3, 4])"
      ]
     },
     "execution_count": 104,
     "metadata": {},
     "output_type": "execute_result"
    }
   ],
   "source": [
    "np.array([1, 2, 3, 4.0], dtype=int)"
   ]
  },
  {
   "cell_type": "code",
   "execution_count": 105,
   "metadata": {},
   "outputs": [
    {
     "data": {
      "text/plain": [
       "array(['1', '2', '3', '4'], dtype='<U21')"
      ]
     },
     "execution_count": 105,
     "metadata": {},
     "output_type": "execute_result"
    }
   ],
   "source": [
    "np.array([1, 2, 3, '4'])"
   ]
  },
  {
   "cell_type": "code",
   "execution_count": 106,
   "metadata": {},
   "outputs": [
    {
     "data": {
      "text/plain": [
       "array([1., 2., 3., 4.])"
      ]
     },
     "execution_count": 106,
     "metadata": {},
     "output_type": "execute_result"
    }
   ],
   "source": [
    "np.array([1, 2, 3, '4'], dtype=np.float64) # float64 is a NumPy object of double-precision floating-point format"
   ]
  },
  {
   "cell_type": "markdown",
   "metadata": {},
   "source": [
    "**Example:** typical other ways of creating an ndarray."
   ]
  },
  {
   "cell_type": "code",
   "execution_count": 107,
   "metadata": {},
   "outputs": [
    {
     "name": "stdout",
     "output_type": "stream",
     "text": [
      "[[0. 0. 0.]\n",
      " [0. 0. 0.]]\n",
      "[[1. 1. 1. 1. 1. 1. 1. 1.]]\n",
      "[[1. 0. 0. 0. 0.]\n",
      " [0. 1. 0. 0. 0.]\n",
      " [0. 0. 1. 0. 0.]\n",
      " [0. 0. 0. 1. 0.]\n",
      " [0. 0. 0. 0. 1.]]\n",
      "[ 1  3  5  7  9 11 13]\n",
      "[[ 0.94768864 -1.96257996  0.33676948 -0.82159906]\n",
      " [-0.51676293 -1.27662895 -0.71388906 -0.43036232]]\n"
     ]
    }
   ],
   "source": [
    "print(np.zeros((2,3))) # 2x3 ndarray of zeros (floats).\n",
    "print(np.ones((1,8))) # 1x8 ndarry of ones (floats).\n",
    "\n",
    "print(np.identity(5)) # 5x5 identity matrix (floats).\n",
    "\n",
    "print(np.arange(1, 15, 2)) # Using the arange function with (start, stop[, step]).\n",
    "\n",
    "arr3 = np.random.randn(2,4) # Using NumPy's random number generator to create a 2x4 ndarray.\n",
    "\n",
    "print(arr3)"
   ]
  },
  {
   "cell_type": "markdown",
   "metadata": {},
   "source": [
    "**Exercise 38:** in contrast to Python's list objects, arithmetic operations on an ndarray are executed element-by-element. Use this to create and print the following ndarrays:\n",
    "* element-by-element sum of `arr2` and `arr3`.\n",
    "* element-by-element product of `arr2` and `arr3`.\n",
    "* elements of `arr3` multiplied by a factor of 10.\n",
    "* elements of `arr2` to the power 4.\n",
    "* one divided by the elements of `arr2`."
   ]
  },
  {
   "cell_type": "code",
   "execution_count": 108,
   "metadata": {},
   "outputs": [
    {
     "name": "stdout",
     "output_type": "stream",
     "text": [
      "[[1.94768864 0.03742004 3.33676948 3.17840094]\n",
      " [4.48323707 4.72337105 6.28611094 7.56963768]]\n",
      "[[ 0.94768864 -3.92515991  1.01030843 -3.28639624]\n",
      " [-2.58381463 -7.65977368 -4.99722343 -3.44289859]]\n",
      "[[  9.47688638 -19.62579957   3.36769478  -8.21599059]\n",
      " [ -5.16762925 -12.76628947  -7.13889061  -4.30362323]]\n",
      "[[   1   16   81  256]\n",
      " [ 625 1296 2401 4096]]\n",
      "[[1.         0.5        0.33333333 0.25      ]\n",
      " [0.2        0.16666667 0.14285714 0.125     ]]\n"
     ]
    }
   ],
   "source": [
    "print(arr2 + arr3)\n",
    "\n",
    "print (arr2*arr3)\n",
    "\n",
    "print(arr3*10)\n",
    "\n",
    "print(arr2**4)\n",
    "\n",
    "print(1/arr2)"
   ]
  },
  {
   "cell_type": "markdown",
   "metadata": {},
   "source": [
    "## Indexing and slicing\n",
    "\n",
    "The basics of selecting elements or slices of an ndarray are the same as for other sequence types. Most of the time (the exception is so-called \"fancy slicing\"), the extra dimensions are separated by a comma between the brackets `[]`. For the exercises in this subsection, you may want to use pp. 94-105 of McKinney."
   ]
  },
  {
   "cell_type": "code",
   "execution_count": 109,
   "metadata": {},
   "outputs": [
    {
     "name": "stdout",
     "output_type": "stream",
     "text": [
      "arr1D:\n",
      " [ 1  2  3  4  5  6  7  8  9 10]\n",
      "arr2D:\n",
      " [[ 1  2  3  4  5  6]\n",
      " [ 7  8  9 10 11 12]\n",
      " [13 14 15 16 17 18]\n",
      " [19 20 21 22 23 24]]\n",
      "arr3D:\n",
      " [[[ 1  2  3]\n",
      "  [ 4  5  6]]\n",
      "\n",
      " [[ 7  8  9]\n",
      "  [10 11 12]]]\n"
     ]
    }
   ],
   "source": [
    "arr1D = np.arange(1,11)\n",
    "arr2D = np.arange(1,25).reshape(4,6)\n",
    "arr3D = np.arange(1,13).reshape(2,2,3)\n",
    "\n",
    "print('arr1D:\\n {0}'.format(arr1D))\n",
    "print('arr2D:\\n {0}'.format(arr2D))\n",
    "print('arr3D:\\n {0}'.format(arr3D))"
   ]
  },
  {
   "cell_type": "markdown",
   "metadata": {},
   "source": [
    "**Exercise 39:** use the arrays `arr1D`, `arr2D` and `arr3D` defined above to print the following objects.\n",
    "* for `arr1D`: the fifth element.\n",
    "* for `arr1D`: the array containing (only) the fifth element.\n",
    "* for `arr1D`: the array containing the third until the nineth element.\n",
    "* for `arr1D`: the array containing the first, second and seventh element. (see p.103 of McKinney)\n",
    "\n",
    "\n",
    "* for `arr2D`: the element in the second row and third column.\n",
    "* for `arr2D`: the array that is the fourth row.\n",
    "* for `arr2D`: the array containing the second and the third row.\n",
    "* for `arr2D`: the array containing the first and third row.\n",
    "* for `arr2D`: the array containing the first and second row, but only the third until the fifth column thereof.\n",
    "* for `arr2D`: the array containing the fifth and sixth column.\n",
    "* for `arr2D`: the array containing the fifth and sixth column, which are represented as rows. (Hint: use `tranpose()`, or simply `T`)\n",
    "* for `arr2D`: the 1-dimensional array containing the elements whose values are 1, 22, 12 and 3. (i.e., the output should be `[1,22,12,3]`) (see p.103 of McKinney, use fancy indexing)\n",
    "* for `arr2D`: the array containing the first, second and fourth row, but only the fourth and second column thereof (in that order). (see p.103 of McKinney)\n",
    "\n",
    "\n",
    "* for `arr3D`: the first 2-dimensional array of `arr3D`.\n",
    "* for `arr3D`: the 2-dimensional array that looks like `[[5,6],[11,12]]`.\n",
    "* for `arr3D`: the 1-dimensional array containing the elements whose values are 1, 5 and 9 (in that order). (see p.103 of McKinney, use fancy indexing)"
   ]
  },
  {
   "cell_type": "code",
   "execution_count": 110,
   "metadata": {},
   "outputs": [
    {
     "name": "stdout",
     "output_type": "stream",
     "text": [
      "7\n",
      "[7]\n",
      "[3 4 5 6 7 8 9]\n",
      "[1 2 7]\n",
      "9\n",
      "[19 20 21 22 23 24]\n",
      "[[ 7  8  9 10 11 12]\n",
      " [13 14 15 16 17 18]]\n",
      "[[ 1  2  3  4  5  6]\n",
      " [13 14 15 16 17 18]]\n",
      "[[ 3  4  5]\n",
      " [ 9 10 11]]\n",
      "[[ 5  6]\n",
      " [11 12]\n",
      " [17 18]\n",
      " [23 24]]\n",
      "[[ 5 11 17 23]\n",
      " [ 6 12 18 24]]\n",
      "[ 1 22 12  3]\n",
      "[[ 4  2]\n",
      " [10  8]\n",
      " [22 20]]\n",
      "[[1 2 3]\n",
      " [4 5 6]]\n",
      "[[ 5  6]\n",
      " [11 12]]\n",
      "[1 5 9]\n"
     ]
    }
   ],
   "source": [
    "print(arr1D[6])\n",
    "print(arr1D[6:7])\n",
    "print(arr1D[2:9])\n",
    "print(arr1D[[0,1,6]])\n",
    "\n",
    "print(arr2D[1,2])\n",
    "print(arr2D[3])\n",
    "print(arr2D[1:3])\n",
    "print(arr2D[[0,2]])\n",
    "print(arr2D[:2,2:5])\n",
    "print(arr2D[:,4:6])\n",
    "print(arr2D[:,4:6].T)\n",
    "print(arr2D[[0,3,1,0],[0,3,5,2]])\n",
    "print(arr2D[[0,1,3]][:,[3,1]])\n",
    "\n",
    "print(arr3D[0])\n",
    "print(arr3D[:,1,1:])\n",
    "print(arr3D[[0,0,1],[0,1,0],[0,1,2]])"
   ]
  },
  {
   "cell_type": "markdown",
   "metadata": {},
   "source": [
    "**Example:** assigning a single value to a slice of an ndarray means propagation (also called: \"broadcasted\") to the entire selection."
   ]
  },
  {
   "cell_type": "code",
   "execution_count": 111,
   "metadata": {},
   "outputs": [
    {
     "name": "stdout",
     "output_type": "stream",
     "text": [
      "[ 0  1  2 10 10 10  6  7  8  9]\n",
      "[ 0  1  2 12 12 12  6  7  8  9]\n"
     ]
    }
   ],
   "source": [
    "arr = np.arange(10)\n",
    "\n",
    "arr[3:6] = [10, 10, 10]\n",
    "print(arr)\n",
    "\n",
    "arr[3:6] = 12 # Broadcasting to entire selection\n",
    "print(arr)"
   ]
  },
  {
   "cell_type": "markdown",
   "metadata": {},
   "source": [
    "**Example:** there is a subtle difference between slicing an ndarray and slicing other sequence types (like a list). A slice of an array is a \"view\" on the original slice. This means that the data is not copied, and any modifications to the view will be reflected in the original array (and vice versa). This is in contrast with a list object for example, in which case a slice is a copy of the original data and hence a new object in the memory of your machine. (see McKinney pp. 94-95 for more information)\n",
    "\n",
    "In the example below we take slices of a list and an ndarray, change the originals and inspect what happens to the slices. For completeness, we also included the corresponding elements (as opposed to slices). Elements are always copies, regardless of the sequence type.\n",
    "\n",
    "N.B. If you want a slice to be a copy of the data instead of a view, you can use the ndarray method `copy`."
   ]
  },
  {
   "cell_type": "code",
   "execution_count": 112,
   "metadata": {},
   "outputs": [
    {
     "name": "stdout",
     "output_type": "stream",
     "text": [
      "list: [0, 1, 12, 3]\n",
      "array: [ 0  1 12  3]\n",
      "list_element: 2\n",
      "array_element: 2\n",
      "list_slice: [2]\n",
      "array_slice: [12]\n"
     ]
    }
   ],
   "source": [
    "list0 = [0,1,2,3]\n",
    "array0 = np.array(list0)\n",
    "\n",
    "list_element = list0[2]\n",
    "array_element = array0[2]\n",
    "list_slice = list0[2:3]\n",
    "array_slice = array0[2:3]\n",
    "\n",
    "list0[2] += 10\n",
    "array0[2] += 10\n",
    "\n",
    "print('list: {0}'.format(list0))\n",
    "print('array: {0}'.format(array0))\n",
    "print('list_element: {0}'.format(list_element))\n",
    "print('array_element: {0}'.format(array_element))\n",
    "print('list_slice: {0}'.format(list_slice))\n",
    "print('array_slice: {0}'.format(array_slice))"
   ]
  },
  {
   "cell_type": "code",
   "execution_count": 116,
   "metadata": {},
   "outputs": [
    {
     "data": {
      "text/plain": [
       "[0, 1, 12, 3]"
      ]
     },
     "execution_count": 116,
     "metadata": {},
     "output_type": "execute_result"
    }
   ],
   "source": [
    "list0"
   ]
  },
  {
   "cell_type": "markdown",
   "metadata": {},
   "source": [
    "## Boolean indexing"
   ]
  },
  {
   "cell_type": "markdown",
   "metadata": {},
   "source": [
    "**Example:** suppose 4 people participate three times in a series of 5 experiments. The names of the participants (in order of participation) are in `names`, their test results are in `scores`. Putting an ndarray in a logical statement produces an array with boolean values. Subsequently, this can be used to manipulate (e.g. filter) other ndarray objects."
   ]
  },
  {
   "cell_type": "code",
   "execution_count": 117,
   "metadata": {},
   "outputs": [
    {
     "name": "stdout",
     "output_type": "stream",
     "text": [
      "[[-1.10177079 -0.55125814 -0.01047893 -1.31361691 -2.2368869 ]\n",
      " [ 0.18662465  0.63174021 -1.077271    2.00495003 -0.37815972]\n",
      " [ 1.52824211  0.86853807  0.70308301  0.24893945  0.48924303]\n",
      " [-0.57438893  0.31710735 -1.11439142 -1.2005542  -0.86317797]\n",
      " [-0.7315687  -1.15492811  0.60299109 -0.06701894 -0.82897168]\n",
      " [-1.11472649 -0.21447941  1.29382017  1.38507831 -0.66506746]\n",
      " [-0.50781158 -0.75948523  0.01433336  0.6313552   0.86610849]\n",
      " [ 0.59750092 -0.35919801  0.37153421 -0.46653961  0.02362334]\n",
      " [ 0.3093329   1.46629232 -1.15790123  0.53418483  0.28394924]\n",
      " [ 0.18646137 -1.29354766 -0.98269984  0.31723934  0.14838902]\n",
      " [-0.84022123  0.29478842  0.47702701  0.47613003 -2.14579293]\n",
      " [ 0.83219879 -0.12175142 -0.47450194  0.86121623 -0.42754763]] \n",
      "\n",
      "[ True False False  True False False False False False False False  True]\n"
     ]
    },
    {
     "data": {
      "text/plain": [
       "array([[-1.10177079, -0.55125814, -0.01047893, -1.31361691, -2.2368869 ],\n",
       "       [-0.57438893,  0.31710735, -1.11439142, -1.2005542 , -0.86317797],\n",
       "       [ 0.83219879, -0.12175142, -0.47450194,  0.86121623, -0.42754763]])"
      ]
     },
     "execution_count": 117,
     "metadata": {},
     "output_type": "execute_result"
    }
   ],
   "source": [
    "names = np.array(['Bob', 'Jane', 'Will','Bob','Mary','Mary','Mary','Jane','Jane','Will','Will','Bob'])\n",
    "\n",
    "scores = np.random.randn(12,5)\n",
    "\n",
    "print(scores, '\\n')\n",
    "\n",
    "print(names == 'Bob') # An array in a logical statement produces an array with boolean values.\n",
    "\n",
    "scores[names == 'Bob'] # Selecting the test results of Bob."
   ]
  },
  {
   "cell_type": "markdown",
   "metadata": {},
   "source": [
    "**Example**: selecting the test results of Bob of only the last two experiments of each series. Note that the slicing of the columns is performed in the same way as before."
   ]
  },
  {
   "cell_type": "code",
   "execution_count": 118,
   "metadata": {},
   "outputs": [
    {
     "data": {
      "text/plain": [
       "array([[-1.31361691, -2.2368869 ],\n",
       "       [-1.2005542 , -0.86317797],\n",
       "       [ 0.86121623, -0.42754763]])"
      ]
     },
     "execution_count": 118,
     "metadata": {},
     "output_type": "execute_result"
    }
   ],
   "source": [
    "scores[names == 'Bob', 3:]"
   ]
  },
  {
   "cell_type": "markdown",
   "metadata": {},
   "source": [
    "**Exercise 40**: create an array with the test results of Jane and Mary. (Hint: use `|` instead of `or` to combine NumPy arrays with an OR-statement.)"
   ]
  },
  {
   "cell_type": "code",
   "execution_count": 119,
   "metadata": {},
   "outputs": [
    {
     "data": {
      "text/plain": [
       "array([[ 0.18662465,  0.63174021, -1.077271  ,  2.00495003, -0.37815972],\n",
       "       [-0.7315687 , -1.15492811,  0.60299109, -0.06701894, -0.82897168],\n",
       "       [-1.11472649, -0.21447941,  1.29382017,  1.38507831, -0.66506746],\n",
       "       [-0.50781158, -0.75948523,  0.01433336,  0.6313552 ,  0.86610849],\n",
       "       [ 0.59750092, -0.35919801,  0.37153421, -0.46653961,  0.02362334],\n",
       "       [ 0.3093329 ,  1.46629232, -1.15790123,  0.53418483,  0.28394924]])"
      ]
     },
     "execution_count": 119,
     "metadata": {},
     "output_type": "execute_result"
    }
   ],
   "source": [
    "scores[(names == 'Jane') | (names == 'Mary')]"
   ]
  },
  {
   "cell_type": "markdown",
   "metadata": {},
   "source": [
    "**Exercise 41**: it turns out that something went wrong during Will's experiments. Replace his values by 0.0 (a float) and print the resulting `scores` ndarray. (Hint: use broadcasting)"
   ]
  },
  {
   "cell_type": "code",
   "execution_count": 120,
   "metadata": {},
   "outputs": [
    {
     "name": "stdout",
     "output_type": "stream",
     "text": [
      "[[-1.10177079 -0.55125814 -0.01047893 -1.31361691 -2.2368869 ]\n",
      " [ 0.18662465  0.63174021 -1.077271    2.00495003 -0.37815972]\n",
      " [ 0.          0.          0.          0.          0.        ]\n",
      " [-0.57438893  0.31710735 -1.11439142 -1.2005542  -0.86317797]\n",
      " [-0.7315687  -1.15492811  0.60299109 -0.06701894 -0.82897168]\n",
      " [-1.11472649 -0.21447941  1.29382017  1.38507831 -0.66506746]\n",
      " [-0.50781158 -0.75948523  0.01433336  0.6313552   0.86610849]\n",
      " [ 0.59750092 -0.35919801  0.37153421 -0.46653961  0.02362334]\n",
      " [ 0.3093329   1.46629232 -1.15790123  0.53418483  0.28394924]\n",
      " [ 0.          0.          0.          0.          0.        ]\n",
      " [ 0.          0.          0.          0.          0.        ]\n",
      " [ 0.83219879 -0.12175142 -0.47450194  0.86121623 -0.42754763]]\n"
     ]
    }
   ],
   "source": [
    "scores[names == 'Will'] = 0.0\n",
    "\n",
    "print(scores)"
   ]
  },
  {
   "cell_type": "markdown",
   "metadata": {},
   "source": [
    "**Exercise 42**: instead of putting Will's scores to 0.0, it makes more sense to remove Will's data completely. Use boolean indexing to remove Will's name from `names` and his test results from `scores`. Make sure the variables `scores` and `names` refer to the newly created Python objects (without Will's data in it). "
   ]
  },
  {
   "cell_type": "code",
   "execution_count": 121,
   "metadata": {},
   "outputs": [],
   "source": [
    "scores = scores[names != 'Will']\n",
    "\n",
    "names = names[names != 'Will']"
   ]
  },
  {
   "cell_type": "markdown",
   "metadata": {},
   "source": [
    "**Example:** NumPy's `where` function is the ndarray-version of the expression 'x if condition else y' (see pp.109-111 of McKinney). For NumPy arrays, this becomes `np.where(condition, xarr, yarr)`. It is often very useful. For example, replacing all negative test results by their positive counterparts:"
   ]
  },
  {
   "cell_type": "code",
   "execution_count": 122,
   "metadata": {},
   "outputs": [
    {
     "data": {
      "text/plain": [
       "array([[1.10177079, 0.55125814, 0.01047893, 1.31361691, 2.2368869 ],\n",
       "       [0.18662465, 0.63174021, 1.077271  , 2.00495003, 0.37815972],\n",
       "       [0.57438893, 0.31710735, 1.11439142, 1.2005542 , 0.86317797],\n",
       "       [0.7315687 , 1.15492811, 0.60299109, 0.06701894, 0.82897168],\n",
       "       [1.11472649, 0.21447941, 1.29382017, 1.38507831, 0.66506746],\n",
       "       [0.50781158, 0.75948523, 0.01433336, 0.6313552 , 0.86610849],\n",
       "       [0.59750092, 0.35919801, 0.37153421, 0.46653961, 0.02362334],\n",
       "       [0.3093329 , 1.46629232, 1.15790123, 0.53418483, 0.28394924],\n",
       "       [0.83219879, 0.12175142, 0.47450194, 0.86121623, 0.42754763]])"
      ]
     },
     "execution_count": 122,
     "metadata": {},
     "output_type": "execute_result"
    }
   ],
   "source": [
    "np.where(scores >= 0, scores, -scores)"
   ]
  },
  {
   "cell_type": "markdown",
   "metadata": {},
   "source": [
    "**Exercise 43**: in the cell below two 2-dimensional arrays are defined. Create a new ndarray of the same dimensions. For each element in the new object, choose between the corresponding elements of `arr1` and `arr2` and select the one with the largest absolute value."
   ]
  },
  {
   "cell_type": "code",
   "execution_count": 123,
   "metadata": {},
   "outputs": [
    {
     "data": {
      "text/plain": [
       "array([[-1.356709  , -1.580627  ,  0.2815455 , -1.08171872,  0.78412611],\n",
       "       [ 1.26984242,  1.23671774, -0.64659995,  0.5312546 , -1.42375614],\n",
       "       [-1.70112229,  0.13919316,  2.17867432, -0.12129034, -0.31524272]])"
      ]
     },
     "execution_count": 123,
     "metadata": {},
     "output_type": "execute_result"
    }
   ],
   "source": [
    "arr1 = np.random.randn(3,5)\n",
    "arr2 = np.random.randn(3,5)\n",
    "\n",
    "np.where(np.abs(arr2) > np.abs(arr1), arr2, arr1)"
   ]
  },
  {
   "cell_type": "markdown",
   "metadata": {},
   "source": [
    "**Exercise 44**: in the cell below a third 2-dimensional array is defined. As in the previous exercise, create a new ndarray by choosing between elements of `arr1` and `arr2`. But now `arr3` decides, element-by-element, whether you should pick the element with the largest or smallest absolute value. If the element in `arr3` is positive, select the element with the largest absolute value. If the element in `arr3` is negative, pick the element with the smallest absolute value."
   ]
  },
  {
   "cell_type": "code",
   "execution_count": 124,
   "metadata": {},
   "outputs": [
    {
     "data": {
      "text/plain": [
       "array([[-1.356709  ,  0.8034287 ,  0.2815455 ,  0.87148533,  0.31593656],\n",
       "       [ 1.26984242, -0.64296147, -0.64659995,  0.5312546 ,  0.6708724 ],\n",
       "       [-1.70112229, -0.07835931,  0.09600079, -0.12129034,  0.05719836]])"
      ]
     },
     "execution_count": 124,
     "metadata": {},
     "output_type": "execute_result"
    }
   ],
   "source": [
    "arr3 = np.random.randn(3,5)\n",
    "\n",
    "np.where(arr3 > 0, np.where(arr2 > arr1, arr2, arr1), np.where(arr2 < arr1, arr2, arr1))"
   ]
  },
  {
   "cell_type": "markdown",
   "metadata": {},
   "source": [
    "## Universal functions\n",
    "\n",
    "A NumPy universal function (or \"ufunc\") performs element-by-element operations on data in ndarray's."
   ]
  },
  {
   "cell_type": "markdown",
   "metadata": {},
   "source": [
    "**Example:** calculating the exponential of the elements of `arr`. Note that one of the elements is NumPy's NaN (Not a Number). This is a float, representing the absence of a value. A NumPy ufunc does not give an error if it encounters NaN. Instead, it simply propagates the value as missing"
   ]
  },
  {
   "cell_type": "code",
   "execution_count": 125,
   "metadata": {},
   "outputs": [
    {
     "name": "stdout",
     "output_type": "stream",
     "text": [
      "arr: [ 1.  -0.5  2.   nan -2.   0.4 -3.1  4.7]\n",
      "exponentials: [2.71828183e+00 6.06530660e-01 7.38905610e+00            nan\n",
      " 1.35335283e-01 1.49182470e+00 4.50492024e-02 1.09947172e+02]\n"
     ]
    }
   ],
   "source": [
    "arr = np.array([1.0, -.5, 2.0, 5.9,-2.0, 0.4, -3.1,4.7])\n",
    "arr[np.random.randint(1,8)] = np.nan\n",
    "\n",
    "print('arr: {}'.format(arr))\n",
    "\n",
    "print('exponentials: {0}'.format(np.exp(arr)))"
   ]
  },
  {
   "cell_type": "markdown",
   "metadata": {},
   "source": [
    "**Exercise 45:** replace the NaN entry in `arr` by 0.0 and print the resulting array. (Hint: use the universal function `isnan`)"
   ]
  },
  {
   "cell_type": "code",
   "execution_count": 126,
   "metadata": {},
   "outputs": [
    {
     "data": {
      "text/plain": [
       "array([ 1. , -0.5,  2. ,  0. , -2. ,  0.4, -3.1,  4.7])"
      ]
     },
     "execution_count": 126,
     "metadata": {},
     "output_type": "execute_result"
    }
   ],
   "source": [
    "arr[np.isnan(arr)] = 0.0\n",
    "\n",
    "arr"
   ]
  },
  {
   "cell_type": "markdown",
   "metadata": {},
   "source": [
    "**Example:** creating a boolean ndarray that shows for which experiments Jane scored higher than Mary. `greater` is an example of a binary universal function, because it performs an operation on two input arrays element-by-element."
   ]
  },
  {
   "cell_type": "code",
   "execution_count": 127,
   "metadata": {},
   "outputs": [
    {
     "data": {
      "text/plain": [
       "array([[ True,  True, False,  True,  True],\n",
       "       [ True, False, False, False,  True],\n",
       "       [ True,  True, False, False, False]])"
      ]
     },
     "execution_count": 127,
     "metadata": {},
     "output_type": "execute_result"
    }
   ],
   "source": [
    "np.greater(scores[names == 'Jane'], scores[names == 'Mary'])"
   ]
  },
  {
   "cell_type": "markdown",
   "metadata": {},
   "source": [
    "## Reductions\n",
    "\n",
    "Aggregations (often called reductions) are mathematical functions that compute statistics about an entire array, or about data along an axis of an array."
   ]
  },
  {
   "cell_type": "markdown",
   "metadata": {},
   "source": [
    "**Example:** two equivalent syntactical expressions to call a reduction. Let's go back to the three participants in `names` (Bob, Jane and Mary) and their test results in `scores`. Here, we compute the mean score for all experiments."
   ]
  },
  {
   "cell_type": "code",
   "execution_count": 128,
   "metadata": {},
   "outputs": [
    {
     "name": "stdout",
     "output_type": "stream",
     "text": [
      "-0.13910023857368217\n",
      "-0.13910023857368217\n"
     ]
    }
   ],
   "source": [
    "print(np.mean(scores))\n",
    "\n",
    "print(scores.mean())"
   ]
  },
  {
   "cell_type": "markdown",
   "metadata": {},
   "source": [
    "**Example:** with the keyword `axis` we specify the axis over which the aggregation should take place. Here, we compute the total of all scores per experiment."
   ]
  },
  {
   "cell_type": "code",
   "execution_count": 129,
   "metadata": {},
   "outputs": [
    {
     "data": {
      "text/plain": [
       "array([-2.10460923, -0.74596044, -1.5518657 ,  2.36905494, -4.2261303 ])"
      ]
     },
     "execution_count": 129,
     "metadata": {},
     "output_type": "execute_result"
    }
   ],
   "source": [
    "np.sum(scores, axis=0)"
   ]
  },
  {
   "cell_type": "markdown",
   "metadata": {},
   "source": [
    "**Example:** the total of all scores per series of 5 experiments."
   ]
  },
  {
   "cell_type": "code",
   "execution_count": 130,
   "metadata": {},
   "outputs": [
    {
     "data": {
      "text/plain": [
       "array([-5.21401168,  1.36788417, -3.43540518, -2.17949635,  0.68462512,\n",
       "        0.24450024,  0.16692085,  1.43585806,  0.66961403])"
      ]
     },
     "execution_count": 130,
     "metadata": {},
     "output_type": "execute_result"
    }
   ],
   "source": [
    "np.sum(scores, axis=1)"
   ]
  },
  {
   "cell_type": "markdown",
   "metadata": {},
   "source": [
    "**Exercise 46:** for each series of 5 experiments, one can calculate the standard deviation of the test results using the NumPy function `std`. Use this to create a dictionary, with as keys the names of the participants (Bob, Jane and Mary in `names`) and as values the average of the 3 standard deviations of the 3 series of experiments of each participant. (Hint: using a dict comprehension, you only need one line of code.)"
   ]
  },
  {
   "cell_type": "code",
   "execution_count": 131,
   "metadata": {},
   "outputs": [
    {
     "data": {
      "text/plain": [
       "{'Mary': 0.7596814466947043,\n",
       " 'Bob': 0.630538614823004,\n",
       " 'Jane': 0.762703226089366}"
      ]
     },
     "execution_count": 131,
     "metadata": {},
     "output_type": "execute_result"
    }
   ],
   "source": [
    "{name : np.mean(scores.std(axis=1)[names == name]) for name in set(names)}"
   ]
  },
  {
   "cell_type": "markdown",
   "metadata": {},
   "source": [
    "**Exercise 47:** reductions interprete boolean values in arrays as 1 (`True`) and 0 (`False`). Use this to count for how many of the 5 experiments Jane had the highest maximum score."
   ]
  },
  {
   "cell_type": "code",
   "execution_count": 132,
   "metadata": {},
   "outputs": [
    {
     "data": {
      "text/plain": [
       "2"
      ]
     },
     "execution_count": 132,
     "metadata": {},
     "output_type": "execute_result"
    }
   ],
   "source": [
    "np.sum(scores[names == 'Jane'].max(axis=0) > scores[names != 'Jane'].max(axis=0))"
   ]
  },
  {
   "cell_type": "markdown",
   "metadata": {},
   "source": [
    "## Linear algebra\n",
    "\n",
    "NumPy contains standard operations for linear algebra. Most of them are located in the submodule `linalg`. Note that one cannot use `*` for multiplication between matrices and/or vectors, since NumPy has reserved this symbol for element-by-element multiplication. Instead, one can use the NumPy-function `dot`."
   ]
  },
  {
   "cell_type": "markdown",
   "metadata": {},
   "source": [
    "**Example**: using the NumPy-function `dot` to perform matrix-vector multiplications between a matrix $A$ and a vector $b$."
   ]
  },
  {
   "cell_type": "code",
   "execution_count": 133,
   "metadata": {},
   "outputs": [
    {
     "name": "stdout",
     "output_type": "stream",
     "text": [
      "matrix A:\n",
      " [[5 7 8]\n",
      " [1 2 8]\n",
      " [7 4 3]]\n",
      "\n",
      "vector b:\n",
      " [1 2 3]\n",
      "\n",
      "[43 29 24]\n",
      "[28 23 33]\n"
     ]
    }
   ],
   "source": [
    "A = np.random.randint(1,10, size=9).reshape(3,3)\n",
    "b = np.arange(1,4)\n",
    "\n",
    "print('matrix A:\\n {0}'.format(A) + '\\n')\n",
    "print('vector b:\\n {0}'.format(b) + '\\n')\n",
    "\n",
    "print(A.dot(b)) # Computing A*b. Equivalently, one can write \"np.dot(A,b)\".\n",
    "\n",
    "print(np.dot(b, A)) # Computing b^T*A. Equivalently, one can write \"b.dot(A)\"."
   ]
  },
  {
   "cell_type": "markdown",
   "metadata": {},
   "source": [
    "**Example**: instead of using `dot`, one can use the abbreviated ``@``-notation:"
   ]
  },
  {
   "cell_type": "code",
   "execution_count": 134,
   "metadata": {},
   "outputs": [
    {
     "name": "stdout",
     "output_type": "stream",
     "text": [
      "[43 29 24]\n",
      "[28 23 33]\n"
     ]
    }
   ],
   "source": [
    "print(A @ b)\n",
    "print(b @ A)"
   ]
  },
  {
   "cell_type": "markdown",
   "metadata": {},
   "source": [
    "**Example:** one can use the NumPy function `outer` to compute the outer product of a column vector with a row vector, resulting in a 2-dimensional ndarray."
   ]
  },
  {
   "cell_type": "code",
   "execution_count": 135,
   "metadata": {},
   "outputs": [
    {
     "name": "stdout",
     "output_type": "stream",
     "text": [
      "[[ 5  6]\n",
      " [10 12]\n",
      " [15 18]]\n",
      "\n",
      "[[ 5 10 15]\n",
      " [ 6 12 18]]\n"
     ]
    }
   ],
   "source": [
    "c = np.arange(5,7)\n",
    "\n",
    "print(np.outer(b, c))\n",
    "print('')\n",
    "print(np.outer(c, b)) # Changing the order is equivalent to transposing the resulting matrix."
   ]
  },
  {
   "cell_type": "markdown",
   "metadata": {},
   "source": [
    "**Exercise 48:** the `numpy.linalg` module has a standard set of matrix decompositions and functions calculating things like inverse, trace and determinant. Solve the set of linear equations $A x = b$ for the vector $x$ in two ways:\n",
    "* use the `linalg`-function `inv()` to calculate the inverse and perform matrix multiplication.\n",
    "* use the `linalg`-function `solve().`\n",
    "\n",
    "Verify the solutions are the same (a neat way of verifying this would be to use NumPy's binary boolean reduction `allclose()`)."
   ]
  },
  {
   "cell_type": "code",
   "execution_count": 136,
   "metadata": {},
   "outputs": [
    {
     "name": "stdout",
     "output_type": "stream",
     "text": [
      "x = [ 0.72049689 -0.77639752  0.35403727]\n"
     ]
    },
    {
     "data": {
      "text/plain": [
       "True"
      ]
     },
     "execution_count": 136,
     "metadata": {},
     "output_type": "execute_result"
    }
   ],
   "source": [
    "sol1 = np.linalg.inv(A).dot(b)\n",
    "\n",
    "sol2 = np.linalg.solve(A, b)\n",
    "\n",
    "print('x = {0}'.format(sol1))\n",
    "\n",
    "np.allclose(sol1,sol2)"
   ]
  },
  {
   "cell_type": "markdown",
   "metadata": {},
   "source": [
    "**Exercise 49:** write a function called `adjoint` that computes the adjoint of a square matrix and returns it as an ndarray. The (i,j)-th element of the adjoint of a matrix $B$ can be computed with $$(\\text{adj}(B))_{ij} = (-1)^{i+j} M_{ji},$$ where $M_{ji}$ is the determinant of the matrix that you get when you remove row $j$ and column $i$ from $B$ (called the $(j,i)$-minor of $B$).\n",
    "\n",
    "(Hint: this is a hard exercise with many valid solutions. One valid solution uses a nested list comprehension to create the adjoint matrix as a list object, that subsequently can be turned into an ndarray. To keep your code readable, you may want to use a nested function (see below for an explanation) to compute the minors.)"
   ]
  },
  {
   "cell_type": "code",
   "execution_count": 137,
   "metadata": {},
   "outputs": [
    {
     "data": {
      "text/plain": [
       "array([[-26.,  11.,  40.],\n",
       "       [ 53., -41., -32.],\n",
       "       [-10.,  29.,   3.]])"
      ]
     },
     "execution_count": 137,
     "metadata": {},
     "output_type": "execute_result"
    }
   ],
   "source": [
    "def adjoint(matrix):\n",
    "    \n",
    "    dim_matrix = len(matrix) # Get the dimension of the square matrix.\n",
    "    \n",
    "    def minor(mat, row, column):\n",
    "        return np.linalg.det(np.delete(np.delete(mat, row, axis=0), column, axis=1))\n",
    "    \n",
    "    adj_list = [[(-1)**(i+j)*minor(matrix, j, i) for j in range(dim_matrix)] for i  in range(dim_matrix)]\n",
    "    \n",
    "    return np.array(adj_list)\n",
    "\n",
    "adjoint(A)"
   ]
  },
  {
   "cell_type": "markdown",
   "metadata": {},
   "source": [
    "**Exercise 50:** run the cell below to test your `adjoint` function for the matrix $A$, making use of the general identity \n",
    "$$A^{-1} = \\frac{1}{\\text{det}(A)}\\text{adj}(A).$$ The cell output should be `True`."
   ]
  },
  {
   "cell_type": "code",
   "execution_count": 138,
   "metadata": {},
   "outputs": [
    {
     "data": {
      "text/plain": [
       "True"
      ]
     },
     "execution_count": 138,
     "metadata": {},
     "output_type": "execute_result"
    }
   ],
   "source": [
    "np.allclose(np.linalg.inv(A), adjoint(A)/np.linalg.det(A))"
   ]
  },
  {
   "cell_type": "markdown",
   "metadata": {},
   "source": [
    "# [OPTIONAL] Advanced material about functions\n",
    "\n",
    "The concepts below are not necessary for this course, but could be useful."
   ]
  },
  {
   "cell_type": "markdown",
   "metadata": {
    "slideshow": {
     "slide_type": "slide"
    }
   },
   "source": [
    "## Nested Functions\n",
    "\n",
    "Functions can be defined inside other functions. They will only be visible to the enclosing function. Nested functions can see variables defined in the enclosing function."
   ]
  },
  {
   "cell_type": "code",
   "execution_count": 139,
   "metadata": {},
   "outputs": [
    {
     "data": {
      "text/plain": [
       "8"
      ]
     },
     "execution_count": 139,
     "metadata": {},
     "output_type": "execute_result"
    }
   ],
   "source": [
    "def mypower(x, y):\n",
    "    \n",
    "    def helper():     # No need to pass in x and y:\n",
    "        return x**y   # The nested function can see them!   \n",
    "    \n",
    "    a = helper()\n",
    "    return a\n",
    "\n",
    "\n",
    "mypower(2, 3)"
   ]
  },
  {
   "cell_type": "markdown",
   "metadata": {
    "slideshow": {
     "slide_type": "slide"
    }
   },
   "source": [
    "## Splatting and Slurping\n",
    "\n",
    "Splatting: passing the elements of a sequence into a function as positional arguments, one by one."
   ]
  },
  {
   "cell_type": "code",
   "execution_count": 140,
   "metadata": {
    "slideshow": {
     "slide_type": "-"
    }
   },
   "outputs": [
    {
     "data": {
      "text/plain": [
       "8"
      ]
     },
     "execution_count": 140,
     "metadata": {},
     "output_type": "execute_result"
    }
   ],
   "source": [
    "def mypower(x, y): \n",
    "    return x**y \n",
    "\n",
    "args = [2, 3]  # A list or a tuple\n",
    "mypower(*args)  # Splat (unpack) args into mypower as positional arguments."
   ]
  },
  {
   "cell_type": "markdown",
   "metadata": {},
   "source": [
    "We can splat keyword arguments too, but we need to use a `dict` (key-value store)."
   ]
  },
  {
   "cell_type": "code",
   "execution_count": 141,
   "metadata": {},
   "outputs": [
    {
     "data": {
      "text/plain": [
       "8"
      ]
     },
     "execution_count": 141,
     "metadata": {},
     "output_type": "execute_result"
    }
   ],
   "source": [
    "kwargs = {'y': 3, 'x': 2}\n",
    "\n",
    "mypower(**kwargs)  # Splat keyword arguments"
   ]
  },
  {
   "cell_type": "markdown",
   "metadata": {
    "slideshow": {
     "slide_type": "slide"
    }
   },
   "source": [
    "Slurping allows us to create *vararg* functions: functions that can be called with any number of positional and/or keyword arguments. In the example below, the asterisk means \"collect all (remaining) positional arguments into a tuple\". The double asterisk means \"collect all (remaining) keyword arguments into a dict\"."
   ]
  },
  {
   "cell_type": "code",
   "execution_count": 142,
   "metadata": {},
   "outputs": [
    {
     "name": "stdout",
     "output_type": "stream",
     "text": [
      "The 0th positional argument was 0.\n",
      "The 1th positional argument was 1.\n",
      "Got keyword argument x=2.\n",
      "Got keyword argument y=3.\n"
     ]
    }
   ],
   "source": [
    "def myfunc(*myargs, **mykwargs):\n",
    "    \n",
    "    for (i, a) in enumerate(myargs): \n",
    "        print(\"The %sth positional argument was %s.\" % (i, a))\n",
    "    for a in mykwargs: \n",
    "        print(\"Got keyword argument %s=%s.\" % (a, mykwargs[a]))    \n",
    "        \n",
    "myfunc(0, 1, x=2, y=3)"
   ]
  },
  {
   "cell_type": "markdown",
   "metadata": {
    "slideshow": {
     "slide_type": "slide"
    }
   },
   "source": [
    "## Anonymous (lambda) functions\n",
    "\n",
    "Anonymous functions are functions without a name attribute and whose function body is a single expression. They are often useful for functions that are needed only once (e.g., to return from a function, or to pass to a function)."
   ]
  },
  {
   "cell_type": "markdown",
   "metadata": {},
   "source": [
    "To illustrate this, the closure example can be written as:"
   ]
  },
  {
   "cell_type": "code",
   "execution_count": 143,
   "metadata": {},
   "outputs": [
    {
     "data": {
      "text/plain": [
       "15"
      ]
     },
     "execution_count": 143,
     "metadata": {},
     "output_type": "execute_result"
    }
   ],
   "source": [
    "def makemultiplier(factor):\n",
    "\n",
    "    return lambda x: x*factor\n",
    "\n",
    "timesfive = makemultiplier(5)\n",
    "timesfive(3)"
   ]
  },
  {
   "cell_type": "markdown",
   "metadata": {},
   "source": [
    "Suppose you want to order a list of strings by the number of distinct letters in each string, with the largest number of distinct letters first:"
   ]
  },
  {
   "cell_type": "code",
   "execution_count": 144,
   "metadata": {},
   "outputs": [
    {
     "data": {
      "text/plain": [
       "['amsterdam', 'honolulu', 'paris', 'tokio', 'york']"
      ]
     },
     "execution_count": 144,
     "metadata": {},
     "output_type": "execute_result"
    }
   ],
   "source": [
    "cities = [\"amsterdam\", \"tokio\", \"honolulu\", \"york\", \"paris\"]\n",
    "\n",
    "cities.sort(key=lambda x: len(set(list(x))), reverse=True)\n",
    "\n",
    "cities"
   ]
  },
  {
   "cell_type": "markdown",
   "metadata": {},
   "source": [
    "## Applying a function element-wise to a list\n",
    "\n",
    "If you want to apply a function element-wise to the objects of a list, one can use the built-in `map` function of the Python Standard Library."
   ]
  },
  {
   "cell_type": "code",
   "execution_count": 145,
   "metadata": {},
   "outputs": [
    {
     "data": {
      "text/plain": [
       "[0, 3, 6, 9, 12, 15, 18, 21, 24, 27]"
      ]
     },
     "execution_count": 145,
     "metadata": {},
     "output_type": "execute_result"
    }
   ],
   "source": [
    "list(map(makemultiplier(3), range(10)))"
   ]
  },
  {
   "cell_type": "code",
   "execution_count": 146,
   "metadata": {},
   "outputs": [
    {
     "name": "stdout",
     "output_type": "stream",
     "text": [
      "[0.0, 3.1622776601683795, 4.47213595499958, 5.477225575051661, 6.324555320336759, 7.0710678118654755, 7.745966692414834, 8.366600265340756, 8.94427190999916, 9.486832980505138, 10.0]\n"
     ]
    }
   ],
   "source": [
    "print(list(map(lambda x: x**(1/2), range(0,101,10))))"
   ]
  },
  {
   "cell_type": "code",
   "execution_count": null,
   "metadata": {},
   "outputs": [],
   "source": []
  }
 ],
 "metadata": {
  "kernelspec": {
   "display_name": "Python 3",
   "language": "python",
   "name": "python3"
  },
  "language_info": {
   "codemirror_mode": {
    "name": "ipython",
    "version": 3
   },
   "file_extension": ".py",
   "mimetype": "text/x-python",
   "name": "python",
   "nbconvert_exporter": "python",
   "pygments_lexer": "ipython3",
   "version": "3.7.6"
  },
  "livereveal": {
   "start_slideshow_at": "selected"
  }
 },
 "nbformat": 4,
 "nbformat_minor": 2
}
