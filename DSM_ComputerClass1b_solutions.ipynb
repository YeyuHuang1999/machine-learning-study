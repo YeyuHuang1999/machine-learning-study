{
 "cells": [
  {
   "cell_type": "markdown",
   "metadata": {},
   "source": [
    "# Computer Class 1b - basics of pandas\n",
    "\n",
    "The examples and exercises of this computer class introduce the student to working with the pandas library. It can be used in conjunction with chapters 5-8 of the McKinney book.\n",
    "\n",
    "*Authors: Cees Diks and Bram Wouters, Faculty Economics and Business, University of Amsterdam (UvA)* <br>\n",
    "*Copyright (C): UvA (2020)* <br>\n",
    "*Credits: some of the examples and formulations are taken from McKinney.*"
   ]
  },
  {
   "cell_type": "code",
   "execution_count": 1,
   "metadata": {},
   "outputs": [],
   "source": [
    "# Importing the relevant modules\n",
    "import numpy as np\n",
    "import pandas as pd"
   ]
  },
  {
   "cell_type": "markdown",
   "metadata": {},
   "source": [
    "# 1. Creating a Series and Series basics"
   ]
  },
  {
   "cell_type": "markdown",
   "metadata": {},
   "source": [
    "**Exercise 1:** create a Series with indices 'United States', 'Netherlands', 'Australia','Uruguay' and values 'North America', 'Europe', 'Oceania', 'South America', respectively. Call the Series `ser1` and show the result."
   ]
  },
  {
   "cell_type": "code",
   "execution_count": 2,
   "metadata": {},
   "outputs": [
    {
     "data": {
      "text/plain": [
       "United States    North America\n",
       "Netherlands             Europe\n",
       "Australia              Oceania\n",
       "Uruguay          South America\n",
       "dtype: object"
      ]
     },
     "execution_count": 2,
     "metadata": {},
     "output_type": "execute_result"
    }
   ],
   "source": [
    "ser1 = pd.Series(['North America', 'Europe', 'Oceania', 'South America'], \n",
    "                index = ['United States', 'Netherlands', 'Australia', 'Uruguay']\n",
    "               )\n",
    "\n",
    "ser1"
   ]
  },
  {
   "cell_type": "markdown",
   "metadata": {},
   "source": [
    "**Exercise 2:** use a dictionary to create a second Series (called `ser2`) with indices 'Netherlands','China','France' and values 'Europe', 'Asia', respectively. The value corresponding to the index 'France' is missing on purpose and Python reports it as NaN (Not a Number). Show the result."
   ]
  },
  {
   "cell_type": "code",
   "execution_count": 3,
   "metadata": {},
   "outputs": [
    {
     "data": {
      "text/plain": [
       "Netherlands    Europe\n",
       "China            Asia\n",
       "France            NaN\n",
       "dtype: object"
      ]
     },
     "execution_count": 3,
     "metadata": {},
     "output_type": "execute_result"
    }
   ],
   "source": [
    "ser2 = pd.Series({'Netherlands' : 'Europe', 'China' : 'Asia'},\n",
    "                index = ['Netherlands','China','France']\n",
    "               )\n",
    "\n",
    "# ser2 = pd.Series({'Netherlands' : 'Europe', 'China' : 'Asia', 'France' : np.nan}) # Alternative solution\n",
    "\n",
    "ser2"
   ]
  },
  {
   "cell_type": "markdown",
   "metadata": {},
   "source": [
    "**Exercise 3:** use the pandas function `concat` to merge `ser1` and `ser2`. Call the resulting Series `ser3` and print the result."
   ]
  },
  {
   "cell_type": "code",
   "execution_count": 4,
   "metadata": {},
   "outputs": [
    {
     "data": {
      "text/plain": [
       "United States    North America\n",
       "Netherlands             Europe\n",
       "Australia              Oceania\n",
       "Uruguay          South America\n",
       "Netherlands             Europe\n",
       "China                     Asia\n",
       "France                     NaN\n",
       "dtype: object"
      ]
     },
     "execution_count": 4,
     "metadata": {},
     "output_type": "execute_result"
    }
   ],
   "source": [
    "ser3 = pd.concat([ser1,ser2])\n",
    "\n",
    "ser3"
   ]
  },
  {
   "cell_type": "markdown",
   "metadata": {},
   "source": [
    "**Exercise 4:** remove the duplicated data from `ser3`. Note that instead of redefining `ser3`, you can also use the `inplace` keyword. Print the resulting `ser3`. (Hint: use the Series method `drop_duplicates`.)"
   ]
  },
  {
   "cell_type": "code",
   "execution_count": 5,
   "metadata": {},
   "outputs": [
    {
     "data": {
      "text/plain": [
       "United States    North America\n",
       "Netherlands             Europe\n",
       "Australia              Oceania\n",
       "Uruguay          South America\n",
       "China                     Asia\n",
       "France                     NaN\n",
       "dtype: object"
      ]
     },
     "execution_count": 5,
     "metadata": {},
     "output_type": "execute_result"
    }
   ],
   "source": [
    "ser3.drop_duplicates(inplace=True)\n",
    "\n",
    "ser3"
   ]
  },
  {
   "cell_type": "markdown",
   "metadata": {},
   "source": [
    "**Exercise 5:** create a boolean that checks whether there are any missing values (NaN) in `ser3`. "
   ]
  },
  {
   "cell_type": "code",
   "execution_count": 6,
   "metadata": {},
   "outputs": [
    {
     "data": {
      "text/plain": [
       "True"
      ]
     },
     "execution_count": 6,
     "metadata": {},
     "output_type": "execute_result"
    }
   ],
   "source": [
    "np.any(pd.isnull(ser3))"
   ]
  },
  {
   "cell_type": "markdown",
   "metadata": {},
   "source": [
    "**Exercise 6:** replace the missing value in `ser3` by the correct continent."
   ]
  },
  {
   "cell_type": "code",
   "execution_count": 7,
   "metadata": {},
   "outputs": [],
   "source": [
    "ser3['France'] = 'Europe'"
   ]
  },
  {
   "cell_type": "markdown",
   "metadata": {},
   "source": [
    "**Exercise 7:** a Series and the index of a Series both have a name attribute. This can be useful when dealing with many different Series and/or when multiple people need to work with the same Series. Give `ser3` the following name: 'continent'. Also, give the index of `ser3` the name 'country' and print the resulting `ser3`."
   ]
  },
  {
   "cell_type": "code",
   "execution_count": 8,
   "metadata": {},
   "outputs": [
    {
     "data": {
      "text/plain": [
       "country\n",
       "United States    North America\n",
       "Netherlands             Europe\n",
       "Australia              Oceania\n",
       "Uruguay          South America\n",
       "China                     Asia\n",
       "France                  Europe\n",
       "Name: continent, dtype: object"
      ]
     },
     "execution_count": 8,
     "metadata": {},
     "output_type": "execute_result"
    }
   ],
   "source": [
    "ser3.name = 'continent'\n",
    "ser3.index.name = 'country'\n",
    "\n",
    "ser3"
   ]
  },
  {
   "cell_type": "markdown",
   "metadata": {},
   "source": [
    "# 2. Creating a DataFrame and DataFrame basics"
   ]
  },
  {
   "cell_type": "markdown",
   "metadata": {},
   "source": [
    "**Exercise 8:** create DataFrame that corresponds to the table below and bind the variable `df1` to it. The first column in the table below should serve as index of the DataFrame. Make sure the column indices match the column names of the table. Show the resulting `df1` as output.\n",
    "\n",
    "|**country**|**GDP (nominal, \\$MM)**| **population (MM)**|\n",
    "|:-------|:-------------|:--------|\n",
    "| **United States**        |    20412870          |    327.4     |\n",
    "| **France**        |    2925096          |    67.2     |\n",
    "| **Netherlands**        |   945327          |    17.2     |\n",
    "| **Australia**        |    1500256          |    25.0     |\n",
    "| **Uruguay**        |    63370          |    3.5     |"
   ]
  },
  {
   "cell_type": "code",
   "execution_count": 9,
   "metadata": {},
   "outputs": [
    {
     "data": {
      "text/html": [
       "<div>\n",
       "<style scoped>\n",
       "    .dataframe tbody tr th:only-of-type {\n",
       "        vertical-align: middle;\n",
       "    }\n",
       "\n",
       "    .dataframe tbody tr th {\n",
       "        vertical-align: top;\n",
       "    }\n",
       "\n",
       "    .dataframe thead th {\n",
       "        text-align: right;\n",
       "    }\n",
       "</style>\n",
       "<table border=\"1\" class=\"dataframe\">\n",
       "  <thead>\n",
       "    <tr style=\"text-align: right;\">\n",
       "      <th></th>\n",
       "      <th>population (MM)</th>\n",
       "      <th>GDP (nominal, $MM)</th>\n",
       "    </tr>\n",
       "    <tr>\n",
       "      <th>country</th>\n",
       "      <th></th>\n",
       "      <th></th>\n",
       "    </tr>\n",
       "  </thead>\n",
       "  <tbody>\n",
       "    <tr>\n",
       "      <th>United States</th>\n",
       "      <td>327.4</td>\n",
       "      <td>20412870</td>\n",
       "    </tr>\n",
       "    <tr>\n",
       "      <th>France</th>\n",
       "      <td>67.2</td>\n",
       "      <td>2925096</td>\n",
       "    </tr>\n",
       "    <tr>\n",
       "      <th>Netherlands</th>\n",
       "      <td>17.2</td>\n",
       "      <td>945327</td>\n",
       "    </tr>\n",
       "    <tr>\n",
       "      <th>Australia</th>\n",
       "      <td>25.0</td>\n",
       "      <td>1500256</td>\n",
       "    </tr>\n",
       "    <tr>\n",
       "      <th>Uruguay</th>\n",
       "      <td>3.5</td>\n",
       "      <td>63370</td>\n",
       "    </tr>\n",
       "  </tbody>\n",
       "</table>\n",
       "</div>"
      ],
      "text/plain": [
       "               population (MM)  GDP (nominal, $MM)\n",
       "country                                           \n",
       "United States            327.4            20412870\n",
       "France                    67.2             2925096\n",
       "Netherlands               17.2              945327\n",
       "Australia                 25.0             1500256\n",
       "Uruguay                    3.5               63370"
      ]
     },
     "execution_count": 9,
     "metadata": {},
     "output_type": "execute_result"
    }
   ],
   "source": [
    "df1 = pd.DataFrame({'country' : ['United States','France', 'Netherlands', 'Australia', 'Uruguay'], \n",
    "                    'population (MM)' : [327.4, 67.2 , 17.2, 25.0, 3.5],\n",
    "                    'GDP (nominal, $MM)' : [20412870, 2925096, 945327, 1500256, 63370]\n",
    "                   })\n",
    "\n",
    "df1.set_index('country', drop=True, inplace=True)\n",
    "\n",
    "df1"
   ]
  },
  {
   "cell_type": "markdown",
   "metadata": {},
   "source": [
    "**Exercise 9:** use square brackets `[]` to extract the population column from the DataFrame and print it. Also, verify explicitely that this column is a Series object."
   ]
  },
  {
   "cell_type": "code",
   "execution_count": 10,
   "metadata": {},
   "outputs": [
    {
     "name": "stdout",
     "output_type": "stream",
     "text": [
      "country\n",
      "United States    327.4\n",
      "France            67.2\n",
      "Netherlands       17.2\n",
      "Australia         25.0\n",
      "Uruguay            3.5\n",
      "Name: population (MM), dtype: float64\n",
      "\n",
      "<class 'pandas.core.series.Series'>\n"
     ]
    },
    {
     "data": {
      "text/plain": [
       "True"
      ]
     },
     "execution_count": 10,
     "metadata": {},
     "output_type": "execute_result"
    }
   ],
   "source": [
    "print(df1['population (MM)'])\n",
    "\n",
    "print('')\n",
    "print(type(df1['population (MM)']))\n",
    "\n",
    "isinstance(df1['population (MM)'], pd.Series) # Alternative method"
   ]
  },
  {
   "cell_type": "markdown",
   "metadata": {},
   "source": [
    "**Exercise 10:** add `ser3` as an extra column to `df1` and call the new DataFrame `df2`. Make sure that China is included as a row in `df2`. (Hint: turn `ser3` into a DataFrame with the method `to_frame` and subsequently use `merge`. Use the [documentation](https://pandas.pydata.org/pandas-docs/stable/generated/pandas.DataFrame.merge.html) to find out which keywords you need.)"
   ]
  },
  {
   "cell_type": "code",
   "execution_count": 11,
   "metadata": {},
   "outputs": [
    {
     "data": {
      "text/html": [
       "<div>\n",
       "<style scoped>\n",
       "    .dataframe tbody tr th:only-of-type {\n",
       "        vertical-align: middle;\n",
       "    }\n",
       "\n",
       "    .dataframe tbody tr th {\n",
       "        vertical-align: top;\n",
       "    }\n",
       "\n",
       "    .dataframe thead th {\n",
       "        text-align: right;\n",
       "    }\n",
       "</style>\n",
       "<table border=\"1\" class=\"dataframe\">\n",
       "  <thead>\n",
       "    <tr style=\"text-align: right;\">\n",
       "      <th></th>\n",
       "      <th>population (MM)</th>\n",
       "      <th>GDP (nominal, $MM)</th>\n",
       "      <th>continent</th>\n",
       "    </tr>\n",
       "    <tr>\n",
       "      <th>country</th>\n",
       "      <th></th>\n",
       "      <th></th>\n",
       "      <th></th>\n",
       "    </tr>\n",
       "  </thead>\n",
       "  <tbody>\n",
       "    <tr>\n",
       "      <th>Australia</th>\n",
       "      <td>25.0</td>\n",
       "      <td>1500256.0</td>\n",
       "      <td>Oceania</td>\n",
       "    </tr>\n",
       "    <tr>\n",
       "      <th>China</th>\n",
       "      <td>NaN</td>\n",
       "      <td>NaN</td>\n",
       "      <td>Asia</td>\n",
       "    </tr>\n",
       "    <tr>\n",
       "      <th>France</th>\n",
       "      <td>67.2</td>\n",
       "      <td>2925096.0</td>\n",
       "      <td>Europe</td>\n",
       "    </tr>\n",
       "    <tr>\n",
       "      <th>Netherlands</th>\n",
       "      <td>17.2</td>\n",
       "      <td>945327.0</td>\n",
       "      <td>Europe</td>\n",
       "    </tr>\n",
       "    <tr>\n",
       "      <th>United States</th>\n",
       "      <td>327.4</td>\n",
       "      <td>20412870.0</td>\n",
       "      <td>North America</td>\n",
       "    </tr>\n",
       "    <tr>\n",
       "      <th>Uruguay</th>\n",
       "      <td>3.5</td>\n",
       "      <td>63370.0</td>\n",
       "      <td>South America</td>\n",
       "    </tr>\n",
       "  </tbody>\n",
       "</table>\n",
       "</div>"
      ],
      "text/plain": [
       "               population (MM)  GDP (nominal, $MM)      continent\n",
       "country                                                          \n",
       "Australia                 25.0           1500256.0        Oceania\n",
       "China                      NaN                 NaN           Asia\n",
       "France                    67.2           2925096.0         Europe\n",
       "Netherlands               17.2            945327.0         Europe\n",
       "United States            327.4          20412870.0  North America\n",
       "Uruguay                    3.5             63370.0  South America"
      ]
     },
     "execution_count": 11,
     "metadata": {},
     "output_type": "execute_result"
    }
   ],
   "source": [
    "df2 = df1.merge(ser3.to_frame(), how='outer', left_index=True, right_index=True)\n",
    "\n",
    "df2"
   ]
  },
  {
   "cell_type": "markdown",
   "metadata": {},
   "source": [
    "**Exercise 11:** replace the missing values for China by the actual values. (Note: use `at[...]` for accessing values of a DataFrame. Don't use `get_value`; this is an old method that will be discarded in future versions of pandas.) Also note that for indexing one can use both index/column names and integers."
   ]
  },
  {
   "cell_type": "code",
   "execution_count": 12,
   "metadata": {},
   "outputs": [
    {
     "data": {
      "text/html": [
       "<div>\n",
       "<style scoped>\n",
       "    .dataframe tbody tr th:only-of-type {\n",
       "        vertical-align: middle;\n",
       "    }\n",
       "\n",
       "    .dataframe tbody tr th {\n",
       "        vertical-align: top;\n",
       "    }\n",
       "\n",
       "    .dataframe thead th {\n",
       "        text-align: right;\n",
       "    }\n",
       "</style>\n",
       "<table border=\"1\" class=\"dataframe\">\n",
       "  <thead>\n",
       "    <tr style=\"text-align: right;\">\n",
       "      <th></th>\n",
       "      <th>population (MM)</th>\n",
       "      <th>GDP (nominal, $MM)</th>\n",
       "      <th>continent</th>\n",
       "    </tr>\n",
       "    <tr>\n",
       "      <th>country</th>\n",
       "      <th></th>\n",
       "      <th></th>\n",
       "      <th></th>\n",
       "    </tr>\n",
       "  </thead>\n",
       "  <tbody>\n",
       "    <tr>\n",
       "      <th>Australia</th>\n",
       "      <td>25.0</td>\n",
       "      <td>1500256.0</td>\n",
       "      <td>Oceania</td>\n",
       "    </tr>\n",
       "    <tr>\n",
       "      <th>China</th>\n",
       "      <td>1392.6</td>\n",
       "      <td>14092514.0</td>\n",
       "      <td>Asia</td>\n",
       "    </tr>\n",
       "    <tr>\n",
       "      <th>France</th>\n",
       "      <td>67.2</td>\n",
       "      <td>2925096.0</td>\n",
       "      <td>Europe</td>\n",
       "    </tr>\n",
       "    <tr>\n",
       "      <th>Netherlands</th>\n",
       "      <td>17.2</td>\n",
       "      <td>945327.0</td>\n",
       "      <td>Europe</td>\n",
       "    </tr>\n",
       "    <tr>\n",
       "      <th>United States</th>\n",
       "      <td>327.4</td>\n",
       "      <td>20412870.0</td>\n",
       "      <td>North America</td>\n",
       "    </tr>\n",
       "    <tr>\n",
       "      <th>Uruguay</th>\n",
       "      <td>3.5</td>\n",
       "      <td>63370.0</td>\n",
       "      <td>South America</td>\n",
       "    </tr>\n",
       "  </tbody>\n",
       "</table>\n",
       "</div>"
      ],
      "text/plain": [
       "               population (MM)  GDP (nominal, $MM)      continent\n",
       "country                                                          \n",
       "Australia                 25.0           1500256.0        Oceania\n",
       "China                   1392.6          14092514.0           Asia\n",
       "France                    67.2           2925096.0         Europe\n",
       "Netherlands               17.2            945327.0         Europe\n",
       "United States            327.4          20412870.0  North America\n",
       "Uruguay                    3.5             63370.0  South America"
      ]
     },
     "execution_count": 12,
     "metadata": {},
     "output_type": "execute_result"
    }
   ],
   "source": [
    "df2.at['China','GDP (nominal, $MM)'] = 14092514\n",
    "df2.at['China','population (MM)'] = 1392.6\n",
    "\n",
    "df2"
   ]
  },
  {
   "cell_type": "markdown",
   "metadata": {},
   "source": [
    "**Exercise 12:** add another column called 'visited?' to `df2`. The values must be booleans and indicate whether or not you have visited the country."
   ]
  },
  {
   "cell_type": "code",
   "execution_count": 13,
   "metadata": {},
   "outputs": [
    {
     "data": {
      "text/html": [
       "<div>\n",
       "<style scoped>\n",
       "    .dataframe tbody tr th:only-of-type {\n",
       "        vertical-align: middle;\n",
       "    }\n",
       "\n",
       "    .dataframe tbody tr th {\n",
       "        vertical-align: top;\n",
       "    }\n",
       "\n",
       "    .dataframe thead th {\n",
       "        text-align: right;\n",
       "    }\n",
       "</style>\n",
       "<table border=\"1\" class=\"dataframe\">\n",
       "  <thead>\n",
       "    <tr style=\"text-align: right;\">\n",
       "      <th></th>\n",
       "      <th>population (MM)</th>\n",
       "      <th>GDP (nominal, $MM)</th>\n",
       "      <th>continent</th>\n",
       "      <th>visited?</th>\n",
       "    </tr>\n",
       "    <tr>\n",
       "      <th>country</th>\n",
       "      <th></th>\n",
       "      <th></th>\n",
       "      <th></th>\n",
       "      <th></th>\n",
       "    </tr>\n",
       "  </thead>\n",
       "  <tbody>\n",
       "    <tr>\n",
       "      <th>Australia</th>\n",
       "      <td>25.0</td>\n",
       "      <td>1500256.0</td>\n",
       "      <td>Oceania</td>\n",
       "      <td>False</td>\n",
       "    </tr>\n",
       "    <tr>\n",
       "      <th>China</th>\n",
       "      <td>1392.6</td>\n",
       "      <td>14092514.0</td>\n",
       "      <td>Asia</td>\n",
       "      <td>False</td>\n",
       "    </tr>\n",
       "    <tr>\n",
       "      <th>France</th>\n",
       "      <td>67.2</td>\n",
       "      <td>2925096.0</td>\n",
       "      <td>Europe</td>\n",
       "      <td>True</td>\n",
       "    </tr>\n",
       "    <tr>\n",
       "      <th>Netherlands</th>\n",
       "      <td>17.2</td>\n",
       "      <td>945327.0</td>\n",
       "      <td>Europe</td>\n",
       "      <td>True</td>\n",
       "    </tr>\n",
       "    <tr>\n",
       "      <th>United States</th>\n",
       "      <td>327.4</td>\n",
       "      <td>20412870.0</td>\n",
       "      <td>North America</td>\n",
       "      <td>True</td>\n",
       "    </tr>\n",
       "    <tr>\n",
       "      <th>Uruguay</th>\n",
       "      <td>3.5</td>\n",
       "      <td>63370.0</td>\n",
       "      <td>South America</td>\n",
       "      <td>False</td>\n",
       "    </tr>\n",
       "  </tbody>\n",
       "</table>\n",
       "</div>"
      ],
      "text/plain": [
       "               population (MM)  GDP (nominal, $MM)      continent  visited?\n",
       "country                                                                    \n",
       "Australia                 25.0           1500256.0        Oceania     False\n",
       "China                   1392.6          14092514.0           Asia     False\n",
       "France                    67.2           2925096.0         Europe      True\n",
       "Netherlands               17.2            945327.0         Europe      True\n",
       "United States            327.4          20412870.0  North America      True\n",
       "Uruguay                    3.5             63370.0  South America     False"
      ]
     },
     "execution_count": 13,
     "metadata": {},
     "output_type": "execute_result"
    }
   ],
   "source": [
    "df2['visited?'] = [False,False,True,True,True,False]\n",
    "\n",
    "df2"
   ]
  },
  {
   "cell_type": "markdown",
   "metadata": {},
   "source": [
    "**Exercise 13:** add another column called 'GDP per capita (nominal, \\$)' to `df2`. The values are the nominal GDP per capita, which can be calculated with the data in the other columns of the DataFrame."
   ]
  },
  {
   "cell_type": "code",
   "execution_count": 14,
   "metadata": {},
   "outputs": [
    {
     "data": {
      "text/html": [
       "<div>\n",
       "<style scoped>\n",
       "    .dataframe tbody tr th:only-of-type {\n",
       "        vertical-align: middle;\n",
       "    }\n",
       "\n",
       "    .dataframe tbody tr th {\n",
       "        vertical-align: top;\n",
       "    }\n",
       "\n",
       "    .dataframe thead th {\n",
       "        text-align: right;\n",
       "    }\n",
       "</style>\n",
       "<table border=\"1\" class=\"dataframe\">\n",
       "  <thead>\n",
       "    <tr style=\"text-align: right;\">\n",
       "      <th></th>\n",
       "      <th>population (MM)</th>\n",
       "      <th>GDP (nominal, $MM)</th>\n",
       "      <th>continent</th>\n",
       "      <th>visited?</th>\n",
       "      <th>GDP per capita (nominal, $)</th>\n",
       "    </tr>\n",
       "    <tr>\n",
       "      <th>country</th>\n",
       "      <th></th>\n",
       "      <th></th>\n",
       "      <th></th>\n",
       "      <th></th>\n",
       "      <th></th>\n",
       "    </tr>\n",
       "  </thead>\n",
       "  <tbody>\n",
       "    <tr>\n",
       "      <th>Australia</th>\n",
       "      <td>25.0</td>\n",
       "      <td>1500256.0</td>\n",
       "      <td>Oceania</td>\n",
       "      <td>False</td>\n",
       "      <td>60010.240000</td>\n",
       "    </tr>\n",
       "    <tr>\n",
       "      <th>China</th>\n",
       "      <td>1392.6</td>\n",
       "      <td>14092514.0</td>\n",
       "      <td>Asia</td>\n",
       "      <td>False</td>\n",
       "      <td>10119.570587</td>\n",
       "    </tr>\n",
       "    <tr>\n",
       "      <th>France</th>\n",
       "      <td>67.2</td>\n",
       "      <td>2925096.0</td>\n",
       "      <td>Europe</td>\n",
       "      <td>True</td>\n",
       "      <td>43528.214286</td>\n",
       "    </tr>\n",
       "    <tr>\n",
       "      <th>Netherlands</th>\n",
       "      <td>17.2</td>\n",
       "      <td>945327.0</td>\n",
       "      <td>Europe</td>\n",
       "      <td>True</td>\n",
       "      <td>54960.872093</td>\n",
       "    </tr>\n",
       "    <tr>\n",
       "      <th>United States</th>\n",
       "      <td>327.4</td>\n",
       "      <td>20412870.0</td>\n",
       "      <td>North America</td>\n",
       "      <td>True</td>\n",
       "      <td>62348.411729</td>\n",
       "    </tr>\n",
       "    <tr>\n",
       "      <th>Uruguay</th>\n",
       "      <td>3.5</td>\n",
       "      <td>63370.0</td>\n",
       "      <td>South America</td>\n",
       "      <td>False</td>\n",
       "      <td>18105.714286</td>\n",
       "    </tr>\n",
       "  </tbody>\n",
       "</table>\n",
       "</div>"
      ],
      "text/plain": [
       "               population (MM)  GDP (nominal, $MM)      continent  visited?  \\\n",
       "country                                                                       \n",
       "Australia                 25.0           1500256.0        Oceania     False   \n",
       "China                   1392.6          14092514.0           Asia     False   \n",
       "France                    67.2           2925096.0         Europe      True   \n",
       "Netherlands               17.2            945327.0         Europe      True   \n",
       "United States            327.4          20412870.0  North America      True   \n",
       "Uruguay                    3.5             63370.0  South America     False   \n",
       "\n",
       "               GDP per capita (nominal, $)  \n",
       "country                                     \n",
       "Australia                     60010.240000  \n",
       "China                         10119.570587  \n",
       "France                        43528.214286  \n",
       "Netherlands                   54960.872093  \n",
       "United States                 62348.411729  \n",
       "Uruguay                       18105.714286  "
      ]
     },
     "execution_count": 14,
     "metadata": {},
     "output_type": "execute_result"
    }
   ],
   "source": [
    "df2['GDP per capita (nominal, $)'] = df2['GDP (nominal, $MM)']/df2['population (MM)']\n",
    "\n",
    "df2"
   ]
  },
  {
   "cell_type": "markdown",
   "metadata": {},
   "source": [
    "**Exercise 14:** sort the rows of `df2` by GDP per capita in descending order and show the resulting `df2` as output. (Hint: choose between `sort_index` and `sort_values` which one to use.)"
   ]
  },
  {
   "cell_type": "code",
   "execution_count": 15,
   "metadata": {},
   "outputs": [
    {
     "data": {
      "text/html": [
       "<div>\n",
       "<style scoped>\n",
       "    .dataframe tbody tr th:only-of-type {\n",
       "        vertical-align: middle;\n",
       "    }\n",
       "\n",
       "    .dataframe tbody tr th {\n",
       "        vertical-align: top;\n",
       "    }\n",
       "\n",
       "    .dataframe thead th {\n",
       "        text-align: right;\n",
       "    }\n",
       "</style>\n",
       "<table border=\"1\" class=\"dataframe\">\n",
       "  <thead>\n",
       "    <tr style=\"text-align: right;\">\n",
       "      <th></th>\n",
       "      <th>population (MM)</th>\n",
       "      <th>GDP (nominal, $MM)</th>\n",
       "      <th>continent</th>\n",
       "      <th>visited?</th>\n",
       "      <th>GDP per capita (nominal, $)</th>\n",
       "    </tr>\n",
       "    <tr>\n",
       "      <th>country</th>\n",
       "      <th></th>\n",
       "      <th></th>\n",
       "      <th></th>\n",
       "      <th></th>\n",
       "      <th></th>\n",
       "    </tr>\n",
       "  </thead>\n",
       "  <tbody>\n",
       "    <tr>\n",
       "      <th>United States</th>\n",
       "      <td>327.4</td>\n",
       "      <td>20412870.0</td>\n",
       "      <td>North America</td>\n",
       "      <td>True</td>\n",
       "      <td>62348.411729</td>\n",
       "    </tr>\n",
       "    <tr>\n",
       "      <th>Australia</th>\n",
       "      <td>25.0</td>\n",
       "      <td>1500256.0</td>\n",
       "      <td>Oceania</td>\n",
       "      <td>False</td>\n",
       "      <td>60010.240000</td>\n",
       "    </tr>\n",
       "    <tr>\n",
       "      <th>Netherlands</th>\n",
       "      <td>17.2</td>\n",
       "      <td>945327.0</td>\n",
       "      <td>Europe</td>\n",
       "      <td>True</td>\n",
       "      <td>54960.872093</td>\n",
       "    </tr>\n",
       "    <tr>\n",
       "      <th>France</th>\n",
       "      <td>67.2</td>\n",
       "      <td>2925096.0</td>\n",
       "      <td>Europe</td>\n",
       "      <td>True</td>\n",
       "      <td>43528.214286</td>\n",
       "    </tr>\n",
       "    <tr>\n",
       "      <th>Uruguay</th>\n",
       "      <td>3.5</td>\n",
       "      <td>63370.0</td>\n",
       "      <td>South America</td>\n",
       "      <td>False</td>\n",
       "      <td>18105.714286</td>\n",
       "    </tr>\n",
       "    <tr>\n",
       "      <th>China</th>\n",
       "      <td>1392.6</td>\n",
       "      <td>14092514.0</td>\n",
       "      <td>Asia</td>\n",
       "      <td>False</td>\n",
       "      <td>10119.570587</td>\n",
       "    </tr>\n",
       "  </tbody>\n",
       "</table>\n",
       "</div>"
      ],
      "text/plain": [
       "               population (MM)  GDP (nominal, $MM)      continent  visited?  \\\n",
       "country                                                                       \n",
       "United States            327.4          20412870.0  North America      True   \n",
       "Australia                 25.0           1500256.0        Oceania     False   \n",
       "Netherlands               17.2            945327.0         Europe      True   \n",
       "France                    67.2           2925096.0         Europe      True   \n",
       "Uruguay                    3.5             63370.0  South America     False   \n",
       "China                   1392.6          14092514.0           Asia     False   \n",
       "\n",
       "               GDP per capita (nominal, $)  \n",
       "country                                     \n",
       "United States                 62348.411729  \n",
       "Australia                     60010.240000  \n",
       "Netherlands                   54960.872093  \n",
       "France                        43528.214286  \n",
       "Uruguay                       18105.714286  \n",
       "China                         10119.570587  "
      ]
     },
     "execution_count": 15,
     "metadata": {},
     "output_type": "execute_result"
    }
   ],
   "source": [
    "df2.sort_values(by='GDP per capita (nominal, $)', inplace=True, ascending=False)\n",
    "\n",
    "df2"
   ]
  },
  {
   "cell_type": "markdown",
   "metadata": {},
   "source": [
    "## Slicing and filtering\n",
    "\n",
    "There exist two methods  for slicing a DataFrame: `loc` when using index/column names and `iloc` when using integers to specify rows/columns. Note that slicing with `loc` is inclusive with respect to the last element, while slicing with `iloc` is exclusive (as was the case for NumPy's ndarrays)."
   ]
  },
  {
   "cell_type": "markdown",
   "metadata": {},
   "source": [
    "**Exercise 15:** use `loc` to extract the row about the Netherlands from `df2`. (Note that in this case a Series is returned.)"
   ]
  },
  {
   "cell_type": "code",
   "execution_count": 16,
   "metadata": {},
   "outputs": [
    {
     "data": {
      "text/plain": [
       "population (MM)                        17.2\n",
       "GDP (nominal, $MM)                 945327.0\n",
       "continent                            Europe\n",
       "visited?                               True\n",
       "GDP per capita (nominal, $)    54960.872093\n",
       "Name: Netherlands, dtype: object"
      ]
     },
     "execution_count": 16,
     "metadata": {},
     "output_type": "execute_result"
    }
   ],
   "source": [
    "df2.loc['Netherlands'] # The output is a Series"
   ]
  },
  {
   "cell_type": "markdown",
   "metadata": {},
   "source": [
    "**Exercise 16:** use `loc` to extract the rows up to and including the Netherlands from `df2`. (Note that in this case a DataFrame is returned.)"
   ]
  },
  {
   "cell_type": "code",
   "execution_count": 17,
   "metadata": {},
   "outputs": [
    {
     "data": {
      "text/html": [
       "<div>\n",
       "<style scoped>\n",
       "    .dataframe tbody tr th:only-of-type {\n",
       "        vertical-align: middle;\n",
       "    }\n",
       "\n",
       "    .dataframe tbody tr th {\n",
       "        vertical-align: top;\n",
       "    }\n",
       "\n",
       "    .dataframe thead th {\n",
       "        text-align: right;\n",
       "    }\n",
       "</style>\n",
       "<table border=\"1\" class=\"dataframe\">\n",
       "  <thead>\n",
       "    <tr style=\"text-align: right;\">\n",
       "      <th></th>\n",
       "      <th>population (MM)</th>\n",
       "      <th>GDP (nominal, $MM)</th>\n",
       "      <th>continent</th>\n",
       "      <th>visited?</th>\n",
       "      <th>GDP per capita (nominal, $)</th>\n",
       "    </tr>\n",
       "    <tr>\n",
       "      <th>country</th>\n",
       "      <th></th>\n",
       "      <th></th>\n",
       "      <th></th>\n",
       "      <th></th>\n",
       "      <th></th>\n",
       "    </tr>\n",
       "  </thead>\n",
       "  <tbody>\n",
       "    <tr>\n",
       "      <th>United States</th>\n",
       "      <td>327.4</td>\n",
       "      <td>20412870.0</td>\n",
       "      <td>North America</td>\n",
       "      <td>True</td>\n",
       "      <td>62348.411729</td>\n",
       "    </tr>\n",
       "    <tr>\n",
       "      <th>Australia</th>\n",
       "      <td>25.0</td>\n",
       "      <td>1500256.0</td>\n",
       "      <td>Oceania</td>\n",
       "      <td>False</td>\n",
       "      <td>60010.240000</td>\n",
       "    </tr>\n",
       "    <tr>\n",
       "      <th>Netherlands</th>\n",
       "      <td>17.2</td>\n",
       "      <td>945327.0</td>\n",
       "      <td>Europe</td>\n",
       "      <td>True</td>\n",
       "      <td>54960.872093</td>\n",
       "    </tr>\n",
       "  </tbody>\n",
       "</table>\n",
       "</div>"
      ],
      "text/plain": [
       "               population (MM)  GDP (nominal, $MM)      continent  visited?  \\\n",
       "country                                                                       \n",
       "United States            327.4          20412870.0  North America      True   \n",
       "Australia                 25.0           1500256.0        Oceania     False   \n",
       "Netherlands               17.2            945327.0         Europe      True   \n",
       "\n",
       "               GDP per capita (nominal, $)  \n",
       "country                                     \n",
       "United States                 62348.411729  \n",
       "Australia                     60010.240000  \n",
       "Netherlands                   54960.872093  "
      ]
     },
     "execution_count": 17,
     "metadata": {},
     "output_type": "execute_result"
    }
   ],
   "source": [
    "df2.loc[:'Netherlands']"
   ]
  },
  {
   "cell_type": "markdown",
   "metadata": {},
   "source": [
    "**Exercise 17:** extract the rows up to and including the Netherlands from `df2`, and only the columns about the population and GDP per capita."
   ]
  },
  {
   "cell_type": "code",
   "execution_count": 18,
   "metadata": {},
   "outputs": [
    {
     "data": {
      "text/html": [
       "<div>\n",
       "<style scoped>\n",
       "    .dataframe tbody tr th:only-of-type {\n",
       "        vertical-align: middle;\n",
       "    }\n",
       "\n",
       "    .dataframe tbody tr th {\n",
       "        vertical-align: top;\n",
       "    }\n",
       "\n",
       "    .dataframe thead th {\n",
       "        text-align: right;\n",
       "    }\n",
       "</style>\n",
       "<table border=\"1\" class=\"dataframe\">\n",
       "  <thead>\n",
       "    <tr style=\"text-align: right;\">\n",
       "      <th></th>\n",
       "      <th>population (MM)</th>\n",
       "      <th>GDP per capita (nominal, $)</th>\n",
       "    </tr>\n",
       "    <tr>\n",
       "      <th>country</th>\n",
       "      <th></th>\n",
       "      <th></th>\n",
       "    </tr>\n",
       "  </thead>\n",
       "  <tbody>\n",
       "    <tr>\n",
       "      <th>United States</th>\n",
       "      <td>327.4</td>\n",
       "      <td>62348.411729</td>\n",
       "    </tr>\n",
       "    <tr>\n",
       "      <th>Australia</th>\n",
       "      <td>25.0</td>\n",
       "      <td>60010.240000</td>\n",
       "    </tr>\n",
       "    <tr>\n",
       "      <th>Netherlands</th>\n",
       "      <td>17.2</td>\n",
       "      <td>54960.872093</td>\n",
       "    </tr>\n",
       "  </tbody>\n",
       "</table>\n",
       "</div>"
      ],
      "text/plain": [
       "               population (MM)  GDP per capita (nominal, $)\n",
       "country                                                    \n",
       "United States            327.4                 62348.411729\n",
       "Australia                 25.0                 60010.240000\n",
       "Netherlands               17.2                 54960.872093"
      ]
     },
     "execution_count": 18,
     "metadata": {},
     "output_type": "execute_result"
    }
   ],
   "source": [
    "df2.loc[:'Netherlands', ['population (MM)', 'GDP per capita (nominal, $)']]"
   ]
  },
  {
   "cell_type": "markdown",
   "metadata": {},
   "source": [
    "**Exercise 18:** if you have used `loc` in the previous exercise, now use `iloc` to repeat it (and vice versa)."
   ]
  },
  {
   "cell_type": "code",
   "execution_count": 19,
   "metadata": {},
   "outputs": [
    {
     "data": {
      "text/html": [
       "<div>\n",
       "<style scoped>\n",
       "    .dataframe tbody tr th:only-of-type {\n",
       "        vertical-align: middle;\n",
       "    }\n",
       "\n",
       "    .dataframe tbody tr th {\n",
       "        vertical-align: top;\n",
       "    }\n",
       "\n",
       "    .dataframe thead th {\n",
       "        text-align: right;\n",
       "    }\n",
       "</style>\n",
       "<table border=\"1\" class=\"dataframe\">\n",
       "  <thead>\n",
       "    <tr style=\"text-align: right;\">\n",
       "      <th></th>\n",
       "      <th>GDP (nominal, $MM)</th>\n",
       "      <th>GDP per capita (nominal, $)</th>\n",
       "    </tr>\n",
       "    <tr>\n",
       "      <th>country</th>\n",
       "      <th></th>\n",
       "      <th></th>\n",
       "    </tr>\n",
       "  </thead>\n",
       "  <tbody>\n",
       "    <tr>\n",
       "      <th>United States</th>\n",
       "      <td>20412870.0</td>\n",
       "      <td>62348.411729</td>\n",
       "    </tr>\n",
       "    <tr>\n",
       "      <th>Australia</th>\n",
       "      <td>1500256.0</td>\n",
       "      <td>60010.240000</td>\n",
       "    </tr>\n",
       "    <tr>\n",
       "      <th>Netherlands</th>\n",
       "      <td>945327.0</td>\n",
       "      <td>54960.872093</td>\n",
       "    </tr>\n",
       "  </tbody>\n",
       "</table>\n",
       "</div>"
      ],
      "text/plain": [
       "               GDP (nominal, $MM)  GDP per capita (nominal, $)\n",
       "country                                                       \n",
       "United States          20412870.0                 62348.411729\n",
       "Australia               1500256.0                 60010.240000\n",
       "Netherlands              945327.0                 54960.872093"
      ]
     },
     "execution_count": 19,
     "metadata": {},
     "output_type": "execute_result"
    }
   ],
   "source": [
    "df2.iloc[:3, [1,4]]"
   ]
  },
  {
   "cell_type": "markdown",
   "metadata": {},
   "source": [
    "**Exercise 19:** filtering rows from a DataFrame proceeds in the same fashion as for NumPy's ndarray, i.e. by using broadcasting with a Series of booleans. Create a DataFrame including only those countries in `df2` whose population is above 50 million."
   ]
  },
  {
   "cell_type": "code",
   "execution_count": 20,
   "metadata": {},
   "outputs": [
    {
     "data": {
      "text/html": [
       "<div>\n",
       "<style scoped>\n",
       "    .dataframe tbody tr th:only-of-type {\n",
       "        vertical-align: middle;\n",
       "    }\n",
       "\n",
       "    .dataframe tbody tr th {\n",
       "        vertical-align: top;\n",
       "    }\n",
       "\n",
       "    .dataframe thead th {\n",
       "        text-align: right;\n",
       "    }\n",
       "</style>\n",
       "<table border=\"1\" class=\"dataframe\">\n",
       "  <thead>\n",
       "    <tr style=\"text-align: right;\">\n",
       "      <th></th>\n",
       "      <th>population (MM)</th>\n",
       "      <th>GDP (nominal, $MM)</th>\n",
       "      <th>continent</th>\n",
       "      <th>visited?</th>\n",
       "      <th>GDP per capita (nominal, $)</th>\n",
       "    </tr>\n",
       "    <tr>\n",
       "      <th>country</th>\n",
       "      <th></th>\n",
       "      <th></th>\n",
       "      <th></th>\n",
       "      <th></th>\n",
       "      <th></th>\n",
       "    </tr>\n",
       "  </thead>\n",
       "  <tbody>\n",
       "    <tr>\n",
       "      <th>United States</th>\n",
       "      <td>327.4</td>\n",
       "      <td>20412870.0</td>\n",
       "      <td>North America</td>\n",
       "      <td>True</td>\n",
       "      <td>62348.411729</td>\n",
       "    </tr>\n",
       "    <tr>\n",
       "      <th>France</th>\n",
       "      <td>67.2</td>\n",
       "      <td>2925096.0</td>\n",
       "      <td>Europe</td>\n",
       "      <td>True</td>\n",
       "      <td>43528.214286</td>\n",
       "    </tr>\n",
       "    <tr>\n",
       "      <th>China</th>\n",
       "      <td>1392.6</td>\n",
       "      <td>14092514.0</td>\n",
       "      <td>Asia</td>\n",
       "      <td>False</td>\n",
       "      <td>10119.570587</td>\n",
       "    </tr>\n",
       "  </tbody>\n",
       "</table>\n",
       "</div>"
      ],
      "text/plain": [
       "               population (MM)  GDP (nominal, $MM)      continent  visited?  \\\n",
       "country                                                                       \n",
       "United States            327.4          20412870.0  North America      True   \n",
       "France                    67.2           2925096.0         Europe      True   \n",
       "China                   1392.6          14092514.0           Asia     False   \n",
       "\n",
       "               GDP per capita (nominal, $)  \n",
       "country                                     \n",
       "United States                 62348.411729  \n",
       "France                        43528.214286  \n",
       "China                         10119.570587  "
      ]
     },
     "execution_count": 20,
     "metadata": {},
     "output_type": "execute_result"
    }
   ],
   "source": [
    "df2[df2['population (MM)'] > 50.0]"
   ]
  },
  {
   "cell_type": "markdown",
   "metadata": {},
   "source": [
    "**Exercise 20:** create a DataFrame with only the countries you have visited."
   ]
  },
  {
   "cell_type": "code",
   "execution_count": 21,
   "metadata": {},
   "outputs": [
    {
     "data": {
      "text/html": [
       "<div>\n",
       "<style scoped>\n",
       "    .dataframe tbody tr th:only-of-type {\n",
       "        vertical-align: middle;\n",
       "    }\n",
       "\n",
       "    .dataframe tbody tr th {\n",
       "        vertical-align: top;\n",
       "    }\n",
       "\n",
       "    .dataframe thead th {\n",
       "        text-align: right;\n",
       "    }\n",
       "</style>\n",
       "<table border=\"1\" class=\"dataframe\">\n",
       "  <thead>\n",
       "    <tr style=\"text-align: right;\">\n",
       "      <th></th>\n",
       "      <th>population (MM)</th>\n",
       "      <th>GDP (nominal, $MM)</th>\n",
       "      <th>continent</th>\n",
       "      <th>visited?</th>\n",
       "      <th>GDP per capita (nominal, $)</th>\n",
       "    </tr>\n",
       "    <tr>\n",
       "      <th>country</th>\n",
       "      <th></th>\n",
       "      <th></th>\n",
       "      <th></th>\n",
       "      <th></th>\n",
       "      <th></th>\n",
       "    </tr>\n",
       "  </thead>\n",
       "  <tbody>\n",
       "    <tr>\n",
       "      <th>United States</th>\n",
       "      <td>327.4</td>\n",
       "      <td>20412870.0</td>\n",
       "      <td>North America</td>\n",
       "      <td>True</td>\n",
       "      <td>62348.411729</td>\n",
       "    </tr>\n",
       "    <tr>\n",
       "      <th>Netherlands</th>\n",
       "      <td>17.2</td>\n",
       "      <td>945327.0</td>\n",
       "      <td>Europe</td>\n",
       "      <td>True</td>\n",
       "      <td>54960.872093</td>\n",
       "    </tr>\n",
       "    <tr>\n",
       "      <th>France</th>\n",
       "      <td>67.2</td>\n",
       "      <td>2925096.0</td>\n",
       "      <td>Europe</td>\n",
       "      <td>True</td>\n",
       "      <td>43528.214286</td>\n",
       "    </tr>\n",
       "  </tbody>\n",
       "</table>\n",
       "</div>"
      ],
      "text/plain": [
       "               population (MM)  GDP (nominal, $MM)      continent  visited?  \\\n",
       "country                                                                       \n",
       "United States            327.4          20412870.0  North America      True   \n",
       "Netherlands               17.2            945327.0         Europe      True   \n",
       "France                    67.2           2925096.0         Europe      True   \n",
       "\n",
       "               GDP per capita (nominal, $)  \n",
       "country                                     \n",
       "United States                 62348.411729  \n",
       "Netherlands                   54960.872093  \n",
       "France                        43528.214286  "
      ]
     },
     "execution_count": 21,
     "metadata": {},
     "output_type": "execute_result"
    }
   ],
   "source": [
    "df2[df2['visited?']]"
   ]
  },
  {
   "cell_type": "markdown",
   "metadata": {},
   "source": [
    "# 3. DataFrame manipulation\n",
    "\n",
    "In the following exercises we will be working with existing data. The data is stored in an Excel file ('weather_accident_data.xlsx') and can be found on Canvas. The goal is to become acquainted with basic data cleaning and manipulation of data in a pandas DataFrame.\n",
    "\n",
    "The data consists of daily weather data for the Netherlands for January 2018 and the daily number of traffic accidents during the same period. Parts of the data are fictional."
   ]
  },
  {
   "cell_type": "markdown",
   "metadata": {},
   "source": [
    "**Exercise 21:** import the Excel file ('weather_accident_data.xlsx') as a pandas DataFrame. The simplest way to do this is to put the Excel file in the same folder as the Jupyter notebook and the use the `read_excel` function. Inspect the data by printing it. It includes information about: \n",
    "* the date\n",
    "* wind\n",
    "* average temperature\n",
    "* minimum temperature\n",
    "* maximum temperature\n",
    "* hours of sun\n",
    "* hours of rain\n",
    "* amount of rain\n",
    "* fog\n",
    "* snow\n",
    "* issuing of a weather alarm\n",
    "* the number of traffic accidents\n",
    "\n",
    "The structure of the Excel file is not very practical. We would like each row to become a column in the pandas DataFrame, so you will need to transpose the data. The first column in the Excel file should become the column names of the DataFrame. The index of the DataFrame should be the default (i.e. integers starting at 0). \n",
    "\n",
    "Finally, give the created DataFrame the name `df` and print the first ten rows."
   ]
  },
  {
   "cell_type": "code",
   "execution_count": 22,
   "metadata": {},
   "outputs": [
    {
     "ename": "FileNotFoundError",
     "evalue": "[Errno 2] No such file or directory: 'weather_accident_data.xlsx'",
     "output_type": "error",
     "traceback": [
      "\u001b[0;31m---------------------------------------------------------------------------\u001b[0m",
      "\u001b[0;31mFileNotFoundError\u001b[0m                         Traceback (most recent call last)",
      "\u001b[0;32m<ipython-input-22-ade9d363fa49>\u001b[0m in \u001b[0;36m<module>\u001b[0;34m\u001b[0m\n\u001b[0;32m----> 1\u001b[0;31m \u001b[0mdf\u001b[0m \u001b[0;34m=\u001b[0m \u001b[0mpd\u001b[0m\u001b[0;34m.\u001b[0m\u001b[0mread_excel\u001b[0m\u001b[0;34m(\u001b[0m\u001b[0;34m'weather_accident_data.xlsx'\u001b[0m\u001b[0;34m,\u001b[0m \u001b[0mindex_col\u001b[0m\u001b[0;34m=\u001b[0m\u001b[0;36m0\u001b[0m\u001b[0;34m,\u001b[0m \u001b[0mheader\u001b[0m\u001b[0;34m=\u001b[0m\u001b[0;32mNone\u001b[0m\u001b[0;34m)\u001b[0m\u001b[0;34m.\u001b[0m\u001b[0mtranspose\u001b[0m\u001b[0;34m(\u001b[0m\u001b[0;34m)\u001b[0m\u001b[0;34m\u001b[0m\u001b[0;34m\u001b[0m\u001b[0m\n\u001b[0m\u001b[1;32m      2\u001b[0m \u001b[0;34m\u001b[0m\u001b[0m\n\u001b[1;32m      3\u001b[0m \u001b[0mdf\u001b[0m\u001b[0;34m.\u001b[0m\u001b[0mhead\u001b[0m\u001b[0;34m(\u001b[0m\u001b[0;36m10\u001b[0m\u001b[0;34m)\u001b[0m\u001b[0;34m\u001b[0m\u001b[0;34m\u001b[0m\u001b[0m\n",
      "\u001b[0;32m/opt/anaconda3/lib/python3.7/site-packages/pandas/util/_decorators.py\u001b[0m in \u001b[0;36mwrapper\u001b[0;34m(*args, **kwargs)\u001b[0m\n\u001b[1;32m    297\u001b[0m                 )\n\u001b[1;32m    298\u001b[0m                 \u001b[0mwarnings\u001b[0m\u001b[0;34m.\u001b[0m\u001b[0mwarn\u001b[0m\u001b[0;34m(\u001b[0m\u001b[0mmsg\u001b[0m\u001b[0;34m,\u001b[0m \u001b[0mFutureWarning\u001b[0m\u001b[0;34m,\u001b[0m \u001b[0mstacklevel\u001b[0m\u001b[0;34m=\u001b[0m\u001b[0mstacklevel\u001b[0m\u001b[0;34m)\u001b[0m\u001b[0;34m\u001b[0m\u001b[0;34m\u001b[0m\u001b[0m\n\u001b[0;32m--> 299\u001b[0;31m             \u001b[0;32mreturn\u001b[0m \u001b[0mfunc\u001b[0m\u001b[0;34m(\u001b[0m\u001b[0;34m*\u001b[0m\u001b[0margs\u001b[0m\u001b[0;34m,\u001b[0m \u001b[0;34m**\u001b[0m\u001b[0mkwargs\u001b[0m\u001b[0;34m)\u001b[0m\u001b[0;34m\u001b[0m\u001b[0;34m\u001b[0m\u001b[0m\n\u001b[0m\u001b[1;32m    300\u001b[0m \u001b[0;34m\u001b[0m\u001b[0m\n\u001b[1;32m    301\u001b[0m         \u001b[0;32mreturn\u001b[0m \u001b[0mwrapper\u001b[0m\u001b[0;34m\u001b[0m\u001b[0;34m\u001b[0m\u001b[0m\n",
      "\u001b[0;32m/opt/anaconda3/lib/python3.7/site-packages/pandas/io/excel/_base.py\u001b[0m in \u001b[0;36mread_excel\u001b[0;34m(io, sheet_name, header, names, index_col, usecols, squeeze, dtype, engine, converters, true_values, false_values, skiprows, nrows, na_values, keep_default_na, na_filter, verbose, parse_dates, date_parser, thousands, comment, skipfooter, convert_float, mangle_dupe_cols, storage_options)\u001b[0m\n\u001b[1;32m    334\u001b[0m     \u001b[0;32mif\u001b[0m \u001b[0;32mnot\u001b[0m \u001b[0misinstance\u001b[0m\u001b[0;34m(\u001b[0m\u001b[0mio\u001b[0m\u001b[0;34m,\u001b[0m \u001b[0mExcelFile\u001b[0m\u001b[0;34m)\u001b[0m\u001b[0;34m:\u001b[0m\u001b[0;34m\u001b[0m\u001b[0;34m\u001b[0m\u001b[0m\n\u001b[1;32m    335\u001b[0m         \u001b[0mshould_close\u001b[0m \u001b[0;34m=\u001b[0m \u001b[0;32mTrue\u001b[0m\u001b[0;34m\u001b[0m\u001b[0;34m\u001b[0m\u001b[0m\n\u001b[0;32m--> 336\u001b[0;31m         \u001b[0mio\u001b[0m \u001b[0;34m=\u001b[0m \u001b[0mExcelFile\u001b[0m\u001b[0;34m(\u001b[0m\u001b[0mio\u001b[0m\u001b[0;34m,\u001b[0m \u001b[0mstorage_options\u001b[0m\u001b[0;34m=\u001b[0m\u001b[0mstorage_options\u001b[0m\u001b[0;34m,\u001b[0m \u001b[0mengine\u001b[0m\u001b[0;34m=\u001b[0m\u001b[0mengine\u001b[0m\u001b[0;34m)\u001b[0m\u001b[0;34m\u001b[0m\u001b[0;34m\u001b[0m\u001b[0m\n\u001b[0m\u001b[1;32m    337\u001b[0m     \u001b[0;32melif\u001b[0m \u001b[0mengine\u001b[0m \u001b[0;32mand\u001b[0m \u001b[0mengine\u001b[0m \u001b[0;34m!=\u001b[0m \u001b[0mio\u001b[0m\u001b[0;34m.\u001b[0m\u001b[0mengine\u001b[0m\u001b[0;34m:\u001b[0m\u001b[0;34m\u001b[0m\u001b[0;34m\u001b[0m\u001b[0m\n\u001b[1;32m    338\u001b[0m         raise ValueError(\n",
      "\u001b[0;32m/opt/anaconda3/lib/python3.7/site-packages/pandas/io/excel/_base.py\u001b[0m in \u001b[0;36m__init__\u001b[0;34m(self, path_or_buffer, engine, storage_options)\u001b[0m\n\u001b[1;32m   1056\u001b[0m         \u001b[0;32melse\u001b[0m\u001b[0;34m:\u001b[0m\u001b[0;34m\u001b[0m\u001b[0;34m\u001b[0m\u001b[0m\n\u001b[1;32m   1057\u001b[0m             ext = inspect_excel_format(\n\u001b[0;32m-> 1058\u001b[0;31m                 \u001b[0mcontent\u001b[0m\u001b[0;34m=\u001b[0m\u001b[0mpath_or_buffer\u001b[0m\u001b[0;34m,\u001b[0m \u001b[0mstorage_options\u001b[0m\u001b[0;34m=\u001b[0m\u001b[0mstorage_options\u001b[0m\u001b[0;34m\u001b[0m\u001b[0;34m\u001b[0m\u001b[0m\n\u001b[0m\u001b[1;32m   1059\u001b[0m             )\n\u001b[1;32m   1060\u001b[0m \u001b[0;34m\u001b[0m\u001b[0m\n",
      "\u001b[0;32m/opt/anaconda3/lib/python3.7/site-packages/pandas/io/excel/_base.py\u001b[0m in \u001b[0;36minspect_excel_format\u001b[0;34m(path, content, storage_options)\u001b[0m\n\u001b[1;32m    937\u001b[0m \u001b[0;34m\u001b[0m\u001b[0m\n\u001b[1;32m    938\u001b[0m     with get_handle(\n\u001b[0;32m--> 939\u001b[0;31m         \u001b[0mcontent_or_path\u001b[0m\u001b[0;34m,\u001b[0m \u001b[0;34m\"rb\"\u001b[0m\u001b[0;34m,\u001b[0m \u001b[0mstorage_options\u001b[0m\u001b[0;34m=\u001b[0m\u001b[0mstorage_options\u001b[0m\u001b[0;34m,\u001b[0m \u001b[0mis_text\u001b[0m\u001b[0;34m=\u001b[0m\u001b[0;32mFalse\u001b[0m\u001b[0;34m\u001b[0m\u001b[0;34m\u001b[0m\u001b[0m\n\u001b[0m\u001b[1;32m    940\u001b[0m     ) as handle:\n\u001b[1;32m    941\u001b[0m         \u001b[0mstream\u001b[0m \u001b[0;34m=\u001b[0m \u001b[0mhandle\u001b[0m\u001b[0;34m.\u001b[0m\u001b[0mhandle\u001b[0m\u001b[0;34m\u001b[0m\u001b[0;34m\u001b[0m\u001b[0m\n",
      "\u001b[0;32m/opt/anaconda3/lib/python3.7/site-packages/pandas/io/common.py\u001b[0m in \u001b[0;36mget_handle\u001b[0;34m(path_or_buf, mode, encoding, compression, memory_map, is_text, errors, storage_options)\u001b[0m\n\u001b[1;32m    649\u001b[0m         \u001b[0;32melse\u001b[0m\u001b[0;34m:\u001b[0m\u001b[0;34m\u001b[0m\u001b[0;34m\u001b[0m\u001b[0m\n\u001b[1;32m    650\u001b[0m             \u001b[0;31m# Binary mode\u001b[0m\u001b[0;34m\u001b[0m\u001b[0;34m\u001b[0m\u001b[0;34m\u001b[0m\u001b[0m\n\u001b[0;32m--> 651\u001b[0;31m             \u001b[0mhandle\u001b[0m \u001b[0;34m=\u001b[0m \u001b[0mopen\u001b[0m\u001b[0;34m(\u001b[0m\u001b[0mhandle\u001b[0m\u001b[0;34m,\u001b[0m \u001b[0mioargs\u001b[0m\u001b[0;34m.\u001b[0m\u001b[0mmode\u001b[0m\u001b[0;34m)\u001b[0m\u001b[0;34m\u001b[0m\u001b[0;34m\u001b[0m\u001b[0m\n\u001b[0m\u001b[1;32m    652\u001b[0m         \u001b[0mhandles\u001b[0m\u001b[0;34m.\u001b[0m\u001b[0mappend\u001b[0m\u001b[0;34m(\u001b[0m\u001b[0mhandle\u001b[0m\u001b[0;34m)\u001b[0m\u001b[0;34m\u001b[0m\u001b[0;34m\u001b[0m\u001b[0m\n\u001b[1;32m    653\u001b[0m \u001b[0;34m\u001b[0m\u001b[0m\n",
      "\u001b[0;31mFileNotFoundError\u001b[0m: [Errno 2] No such file or directory: 'weather_accident_data.xlsx'"
     ]
    }
   ],
   "source": [
    "df = pd.read_excel('weather_accident_data.xlsx', index_col=0, header=None).transpose()\n",
    "\n",
    "df.head(10)"
   ]
  },
  {
   "cell_type": "markdown",
   "metadata": {},
   "source": [
    "**Exercise 22:** the name of the wind column is '-' instead of 'wind'. Give the column the correct name."
   ]
  },
  {
   "cell_type": "code",
   "execution_count": null,
   "metadata": {},
   "outputs": [],
   "source": [
    "df = df.rename(columns={'-' : 'wind'})"
   ]
  },
  {
   "cell_type": "markdown",
   "metadata": {},
   "source": [
    "**Exercise 23:** sort the rows of the DataFrame by date."
   ]
  },
  {
   "cell_type": "code",
   "execution_count": null,
   "metadata": {},
   "outputs": [],
   "source": [
    "df.sort_values(by='YYYYMMDD', inplace=True)"
   ]
  },
  {
   "cell_type": "markdown",
   "metadata": {},
   "source": [
    "**Exercise 24:** note that the index of `df` is mixed up due to the sorting. Reset the index of `df`."
   ]
  },
  {
   "cell_type": "code",
   "execution_count": null,
   "metadata": {},
   "outputs": [],
   "source": [
    "df.reset_index(inplace=True, drop=True)"
   ]
  },
  {
   "cell_type": "markdown",
   "metadata": {},
   "source": [
    "**Exercise 25:** accidentally the data set includes a few days in December and February. Remove those rows from `df` and reset the index again."
   ]
  },
  {
   "cell_type": "code",
   "execution_count": null,
   "metadata": {},
   "outputs": [],
   "source": [
    "df.drop([0,1,2,34], inplace=True)\n",
    "\n",
    "df.reset_index(inplace=True, drop=True)"
   ]
  },
  {
   "cell_type": "markdown",
   "metadata": {},
   "source": [
    "**Exercise 26:** the column 'test_probe' was created in the data collection process, but does not contain any information. Remove that column from `df`."
   ]
  },
  {
   "cell_type": "code",
   "execution_count": null,
   "metadata": {},
   "outputs": [],
   "source": [
    "del df['test_probe']\n",
    " \n",
    "# df.drop('test_probe', axis=1, inplace=True) # Alternative code for deleting columns."
   ]
  },
  {
   "cell_type": "markdown",
   "metadata": {},
   "source": [
    "**Example:** NumPy's universal functions can also be applied to Series and DataFrames. Note that we use `astype` to create a Series/DataFrame with data of the same type. NumPy's universal functions require this."
   ]
  },
  {
   "cell_type": "code",
   "execution_count": null,
   "metadata": {},
   "outputs": [],
   "source": [
    "print(np.exp(df['rain(mm)'].astype(float)).head(5)) # Applying a universal function to a Series.\n",
    "\n",
    "print('\\n')\n",
    "\n",
    "print(np.exp(df[['rain(mm)', 'rain_duration']].astype(float)).head(5)) # Applying a universal function to a DataFrame.\n",
    "\n",
    "np.subtract(df['T_high'], df['T_low']).head(5) # Applying a binary universal function to two Series."
   ]
  },
  {
   "cell_type": "markdown",
   "metadata": {},
   "source": [
    "**Example:** pandas objects have a number of mathematical and statistical methods. Most of them are reductions (i.e., they extract a single value from a Series or (columns/rows of) a DataFrame) and are similar to the NumPy methods. An important difference is that the pandas methods can handle missing values by ignoring them. For example, in the cell below we compute the standard deviation on a NumPy array and a Series, both containing missing values."
   ]
  },
  {
   "cell_type": "code",
   "execution_count": null,
   "metadata": {},
   "outputs": [],
   "source": [
    "print(df['rain_duration'].values.std()) # Applying a reduction to an ndarray. The values attribute returns a NumPy array.\n",
    "\n",
    "print(df['rain_duration'].std()) # Applying a reduction to a Series."
   ]
  },
  {
   "cell_type": "markdown",
   "metadata": {},
   "source": [
    "**Exercise 27:** the data in the 'rain(mm)' column needs some cleaning:\n",
    "* one of the entries accidentally has a minus sign. Remove the minus sign.\n",
    "* replace the missing values by the daily average amount of rain for January. (Hint: use `fillna`.)\n",
    "* round the values to 1 decimal."
   ]
  },
  {
   "cell_type": "code",
   "execution_count": null,
   "metadata": {},
   "outputs": [],
   "source": [
    "df['rain(mm)'] = df['rain(mm)'].abs()\n",
    "\n",
    "df['rain(mm)'].fillna(df['rain(mm)'].mean(), inplace=True)\n",
    "\n",
    "df['rain(mm)'] = df['rain(mm)'].round(1)"
   ]
  },
  {
   "cell_type": "markdown",
   "metadata": {},
   "source": [
    "**Exercise 28:** the values of the 'wind' column are strings. Replace them by numerical types, leaving out the 'bft'."
   ]
  },
  {
   "cell_type": "code",
   "execution_count": null,
   "metadata": {},
   "outputs": [],
   "source": [
    "df['wind'] = [float(x[:3]) for x in df['wind'].values]"
   ]
  },
  {
   "cell_type": "markdown",
   "metadata": {},
   "source": [
    "**Exercise 29:** the 'fog' column indicates whether there was fog in the morning ('m'), evening ('e') or both morning and evening ('m/e'). Add a column to `df` called 'fog_morning' of boolean values, indicating whether there was fog in the morning. Likewise, create a column 'fog_evening'. Finally, remove the original 'fog' column from `df`."
   ]
  },
  {
   "cell_type": "code",
   "execution_count": null,
   "metadata": {},
   "outputs": [],
   "source": [
    "df['fog_morning'] = (df['fog'] == 'm') | (df['fog'] == 'm/e')\n",
    "df['fog_evening'] = (df['fog'] == 'e') | (df['fog'] == 'm/e')\n",
    "\n",
    "df.drop('fog', axis=1, inplace=True)"
   ]
  },
  {
   "cell_type": "markdown",
   "metadata": {},
   "source": [
    "**Exercise 30:** sometimes it is useful to bin quantitative data into categories. Add a column to `df` called 'rain_intensity', whose values are strings representing rain categories depending on the amount of rain:\n",
    "* 'no rain': 0 mm\n",
    "* 'light rain': (0, 5] mm\n",
    "* 'medium rain': (5, 10] mm\n",
    "* 'heavy rain': (10, 50] mm\n",
    "\n",
    "(Hint: pp. 203-205 of McKinney.)"
   ]
  },
  {
   "cell_type": "code",
   "execution_count": null,
   "metadata": {},
   "outputs": [],
   "source": [
    "bins = [-1.0, 0.001, 5, 10, 50]\n",
    "rain_types = ['no rain', 'light rain', 'medium rain', 'heavy rain']\n",
    "\n",
    "df['rain_intensity'] = pd.cut(df['rain(mm)'], bins, labels=rain_types)"
   ]
  },
  {
   "cell_type": "markdown",
   "metadata": {},
   "source": [
    "**Exercise 31:** create a Series that counts the frequency of the occurrence of the different rain categories in January."
   ]
  },
  {
   "cell_type": "code",
   "execution_count": null,
   "metadata": {},
   "outputs": [],
   "source": [
    "df['rain_intensity'].value_counts()"
   ]
  },
  {
   "cell_type": "markdown",
   "metadata": {},
   "source": [
    "**Example:** the `sample` method draws a random sample of rows (or columns) from a Series or DataFrame. Drawing a sample of the size of the DataFrame is an easy way to randomly reorder the DataFrame."
   ]
  },
  {
   "cell_type": "code",
   "execution_count": null,
   "metadata": {},
   "outputs": [],
   "source": [
    "df.sample(5)"
   ]
  },
  {
   "cell_type": "markdown",
   "metadata": {},
   "source": [
    "## Correlations\n",
    "\n",
    "There are numerous modules that have built-in functions to compute correlations and covariances. They all have advantages and disadvantages and depending on the situation you can choose to use a specific module. We here give two examples: `corr` from the pandas module and `pearsonr` from SciPy's stats module."
   ]
  },
  {
   "cell_type": "markdown",
   "metadata": {},
   "source": [
    "**Example:** here we use pandas' `corr` function to compute the correlation between the 'wind' and 'accidents' columns. There are two disadvantages of the `corr` function: you need to make sure that the entries are all of the same type (e.g. by using `astype`) and it does not calculate the p-value of the correlation."
   ]
  },
  {
   "cell_type": "code",
   "execution_count": null,
   "metadata": {},
   "outputs": [],
   "source": [
    "(df['wind'].astype(float)).corr(df['accidents'].astype(float))"
   ]
  },
  {
   "cell_type": "markdown",
   "metadata": {},
   "source": [
    "**Example:** the `pearsonr` function of the stats module of the SciPy package calculates both the correlation and the p-value (it returns a tuple of the two quantities). The main disadvantage of `pearsonr` is that it cannot handle missing values."
   ]
  },
  {
   "cell_type": "code",
   "execution_count": null,
   "metadata": {},
   "outputs": [],
   "source": [
    "from scipy import stats # Importing the stats module of the SciPy package.\n",
    "\n",
    "print(stats.pearsonr(df['wind'],df['accidents'])) # Pearsonr returns a tuple of the correlation and the p-value.\n",
    "\n",
    "stats.pearsonr(df['rain_duration'],df['accidents']) # Pearsonr cannot handle missing values."
   ]
  },
  {
   "cell_type": "markdown",
   "metadata": {},
   "source": [
    "**Exercise 32:** define a function called `my_correlation` whose input arguments are two equal-length Series and whose output is a tuple of the correlation and the p-value. In contrast to the `pearsonr` function, `my_correlation` should be able to handle missing values by eliminating entry lines containing missing values from both(!) Series. Test `my_correlation` by computing the correlation and p-value of 'rain_duration' and 'accidents'."
   ]
  },
  {
   "cell_type": "code",
   "execution_count": null,
   "metadata": {},
   "outputs": [],
   "source": [
    "def my_correlation(ser1, ser2):\n",
    "    \n",
    "    ser_remove = ser1.notna() & ser2.notna()\n",
    "    \n",
    "    ser1 = ser1[ser_remove]\n",
    "    ser2 = ser2[ser_remove]\n",
    "    \n",
    "    return stats.pearsonr(ser1, ser2)\n",
    "\n",
    "my_correlation(df['rain_duration'],df['accidents'])"
   ]
  },
  {
   "cell_type": "markdown",
   "metadata": {},
   "source": [
    "**Exercise 33:** create a dictionary whose keys are the column names and whose values are the correlation of the specific column with the 'accidents' column. Include only those columns for which a meaningful correlation can be computed. (Hint: define a list of names of the relevant columns and use a dictionary comprehension.)"
   ]
  },
  {
   "cell_type": "code",
   "execution_count": null,
   "metadata": {},
   "outputs": [],
   "source": [
    "corr_columns = ['wind', 'T_ave', 'T_low', 'T_high', 'sun', 'rain_duration', 'rain(mm)', 'snow']\n",
    "\n",
    "{name : my_correlation(df[name], df['accidents'])[0] for name in corr_columns}"
   ]
  },
  {
   "cell_type": "markdown",
   "metadata": {},
   "source": [
    "**Exercise 34:** create a dictionary similar to that of the previous exercise, but now only for correlations whose p-value is below 0.05. (Hint: apply a filtering using an `if` statement in the dictionary comprehension.)"
   ]
  },
  {
   "cell_type": "code",
   "execution_count": null,
   "metadata": {},
   "outputs": [],
   "source": [
    "{name : my_correlation(df[name], df['accidents'])[0] for name in corr_columns if my_correlation(df[name], df['accidents'])[1] < 0.05}"
   ]
  }
 ],
 "metadata": {
  "kernelspec": {
   "display_name": "Python 3",
   "language": "python",
   "name": "python3"
  },
  "language_info": {
   "codemirror_mode": {
    "name": "ipython",
    "version": 3
   },
   "file_extension": ".py",
   "mimetype": "text/x-python",
   "name": "python",
   "nbconvert_exporter": "python",
   "pygments_lexer": "ipython3",
   "version": "3.7.6"
  }
 },
 "nbformat": 4,
 "nbformat_minor": 2
}
